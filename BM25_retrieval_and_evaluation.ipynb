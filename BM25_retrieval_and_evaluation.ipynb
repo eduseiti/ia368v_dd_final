{
 "cells": [
  {
   "cell_type": "code",
   "execution_count": 1,
   "id": "61adbd53",
   "metadata": {},
   "outputs": [],
   "source": [
    "import os\n",
    "import sys"
   ]
  },
  {
   "cell_type": "code",
   "execution_count": 2,
   "id": "268cbfca",
   "metadata": {},
   "outputs": [],
   "source": [
    "WORKING_FOLDER=\"/mnt/0060f889-4c27-409b-b0de-47f5427515e3/unicamp/ia368v_dd/trabalho_final/\"\n",
    "PYSERINI_FOLDER=\"/mnt/0060f889-4c27-409b-b0de-47f5427515e3/unicamp/ia368v_dd/pyserini/\"\n",
    "\n",
    "TREC_EVAL_FULLPATH=PYSERINI_FOLDER+\"tools/eval/trec_eval.9.0.4/trec_eval\"\n",
    "\n",
    "os.environ[\"ANSERINI_CLASSPATH\"]=\"/media/eduseiti/bigdata01/unicamp/ia368v_dd/anserini/target\""
   ]
  },
  {
   "cell_type": "code",
   "execution_count": 3,
   "id": "3558cc18",
   "metadata": {},
   "outputs": [],
   "source": [
    "os.chdir(WORKING_FOLDER)"
   ]
  },
  {
   "cell_type": "code",
   "execution_count": 4,
   "id": "1ad59e49",
   "metadata": {},
   "outputs": [],
   "source": [
    "from common_tools import *"
   ]
  },
  {
   "cell_type": "code",
   "execution_count": 5,
   "id": "572df566",
   "metadata": {},
   "outputs": [],
   "source": [
    "from pyserini.search.lucene import LuceneSearcher\n",
    "from pyserini.analysis import get_lucene_analyzer"
   ]
  },
  {
   "cell_type": "code",
   "execution_count": 6,
   "id": "c657ac05",
   "metadata": {},
   "outputs": [],
   "source": [
    "import glob"
   ]
  },
  {
   "cell_type": "code",
   "execution_count": 7,
   "id": "94eca46a",
   "metadata": {},
   "outputs": [],
   "source": [
    "EVALUATION_QUESTIONS_FILE=\"Questões - Dataset Unicamp IR - Página1.tsv\""
   ]
  },
  {
   "cell_type": "code",
   "execution_count": 8,
   "id": "8b7b933e",
   "metadata": {},
   "outputs": [],
   "source": [
    "BM25_INDEX_FOLDER=\"bm25/windowed_v2_index\"\n",
    "BM25_RETRIEVAL_FOLDER=\"BM25_retrieval\"\n",
    "BM25_RETRIVED_DOCS_RESULT_FILENAME_FORMAT=\"query_id_{:03}.tsv\"\n",
    "\n",
    "BM25_QUERY_EVALUATION_FOLDER=\"BM25_evaluation\"\n",
    "BM25_QUERY_EVALUATION_RESULT_FILENAME_FORMAT=\"{}_{}_evaluation_{:04}_{:04}.tsv\""
   ]
  },
  {
   "cell_type": "markdown",
   "id": "f6a99103",
   "metadata": {},
   "source": [
    "### Prepare to execute the BM25 search and store the results"
   ]
  },
  {
   "cell_type": "code",
   "execution_count": null,
   "id": "ed9e1b27",
   "metadata": {},
   "outputs": [],
   "source": [
    "eval_queries_df = pd.read_csv(EVALUATION_QUESTIONS_FILE, sep=\"\\t\")"
   ]
  },
  {
   "cell_type": "code",
   "execution_count": null,
   "id": "d82c9764",
   "metadata": {},
   "outputs": [],
   "source": [
    "eval_queries_df"
   ]
  },
  {
   "cell_type": "code",
   "execution_count": null,
   "id": "479ecc19",
   "metadata": {},
   "outputs": [],
   "source": [
    "BM25_searcher = LuceneSearcher(BM25_INDEX_FOLDER)\n",
    "analyzer = get_lucene_analyzer(\"pt\")\n",
    "\n",
    "BM25_searcher.set_analyzer(analyzer)"
   ]
  },
  {
   "cell_type": "code",
   "execution_count": null,
   "id": "cdd442ce",
   "metadata": {},
   "outputs": [],
   "source": [
    "if not os.path.exists(BM25_RETRIEVAL_FOLDER):\n",
    "    os.makedirs(BM25_RETRIEVAL_FOLDER)"
   ]
  },
  {
   "cell_type": "markdown",
   "id": "d909da4b",
   "metadata": {},
   "source": [
    "### Loop through the questions and retrieve the BM25 associated documents"
   ]
  },
  {
   "cell_type": "code",
   "execution_count": null,
   "id": "5237a7be",
   "metadata": {
    "scrolled": true
   },
   "outputs": [],
   "source": [
    "for i, question in eval_queries_df.iterrows():\n",
    "    \n",
    "    print(\"Handling query {}: {}...\".format(i, question['Pergunta']))\n",
    "    \n",
    "    document_hits = BM25_searcher.search(question['Pergunta'], k=1000)\n",
    "    \n",
    "    with open(os.path.join(BM25_RETRIEVAL_FOLDER, BM25_RETRIVED_DOCS_RESULT_FILENAME_FORMAT.format(i)), \"w\") as output_file:\n",
    "        for j, document in enumerate(document_hits):\n",
    "            document_dict = json.loads(document.raw)\n",
    "            \n",
    "            if j > 0:\n",
    "                output_file.write(\"\\n\")\n",
    "            \n",
    "            output_file.write(\"{}\\t{}\\t{}\\t{}\\t{}\".format(i,\n",
    "                                                          question['Pergunta'],\n",
    "                                                          document_dict['id'],\n",
    "                                                          document.score,\n",
    "                                                          re.sub('[\\r\\n\\t]', ' ', document_dict['contents'])))"
   ]
  },
  {
   "cell_type": "markdown",
   "id": "df94e082",
   "metadata": {},
   "source": [
    "### Now, evaluate the retrieved documents relevance"
   ]
  },
  {
   "cell_type": "code",
   "execution_count": 9,
   "id": "1621abe8",
   "metadata": {},
   "outputs": [],
   "source": [
    "initialize_openai()"
   ]
  },
  {
   "cell_type": "code",
   "execution_count": 10,
   "id": "924138b6",
   "metadata": {},
   "outputs": [],
   "source": [
    "if not os.path.exists(BM25_QUERY_EVALUATION_FOLDER):\n",
    "    os.makedirs(BM25_QUERY_EVALUATION_FOLDER)"
   ]
  },
  {
   "cell_type": "code",
   "execution_count": 36,
   "id": "8cbc8540",
   "metadata": {},
   "outputs": [],
   "source": [
    "def relevance_evaluation(retrieval_folder, evaluation_folder, starting_position=0, ending_position=10, which_query=None, model=MODEL_GPT3):\n",
    "    if which_query is None:\n",
    "        which_queries = glob.glob(os.path.join(retrieval_folder, \"query_id_*.tsv\"))\n",
    "    else:\n",
    "        which_queries = glob.glob(os.path.join(retrieval_folder, \"query_id_{:03}.tsv\".format(which_query)))\n",
    "    \n",
    "      \n",
    "    for query in which_queries:\n",
    "        \n",
    "        print(\"Evaluating query results interval [{}, {}] for file {}...\\n\".format(starting_position, ending_position, query))\n",
    "        \n",
    "        query_docs_df = pd.read_csv(query, sep=\"\\t\", header=None, names=['query_id', 'query_text', 'doc_id', 'doc_score', 'doc_text'])\n",
    "        \n",
    "        relevance_results = []\n",
    "        \n",
    "        for i, query_doc in query_docs_df.iloc[starting_position:ending_position].iterrows():\n",
    "            relevance_results.append(execute_LLM_passage_relevance_evaluation(query_doc['query_text'], query_doc['doc_text'], model=model))\n",
    "        \n",
    "        \n",
    "        results_df = pd.concat([query_docs_df.iloc[starting_position:ending_position].reset_index(drop=True), \n",
    "                                pd.DataFrame(list(range(starting_position, ending_position)), columns=['doc_position']),\n",
    "                                pd.DataFrame(relevance_results)], axis=1)\n",
    "        \n",
    "        results_df.to_csv(os.path.join(evaluation_folder, BM25_QUERY_EVALUATION_RESULT_FILENAME_FORMAT.format(os.path.splitext(os.path.basename(query))[0], \n",
    "                                                                                                                         model,\n",
    "                                                                                                                         starting_position, \n",
    "                                                                                                                         ending_position)), \n",
    "                          index=None, sep=\"\\t\")\n",
    "        \n",
    "        print(\"Total cost: {}; total duration: {}\".format(results_df['cost'].sum(), results_df['duration'].sum()))"
   ]
  },
  {
   "cell_type": "code",
   "execution_count": null,
   "id": "0412d9cb",
   "metadata": {
    "scrolled": true
   },
   "outputs": [],
   "source": [
    "relevance_evaluation(BM25_RETRIEVAL_FOLDER, BM25_QUERY_EVALUATION_FOLDER, which_query=0)"
   ]
  },
  {
   "cell_type": "code",
   "execution_count": null,
   "id": "d1d6126b",
   "metadata": {
    "scrolled": true
   },
   "outputs": [],
   "source": [
    "relevance_evaluation(BM25_RETRIEVAL_FOLDER, BM25_QUERY_EVALUATION_FOLDER, which_query=10, model=MODEL_DAVINCI3)"
   ]
  },
  {
   "cell_type": "code",
   "execution_count": null,
   "id": "b2706f3a",
   "metadata": {
    "scrolled": true
   },
   "outputs": [],
   "source": [
    "relevance_evaluation(BM25_RETRIEVAL_FOLDER, BM25_QUERY_EVALUATION_FOLDER, which_query=10)"
   ]
  },
  {
   "cell_type": "code",
   "execution_count": null,
   "id": "88bf239e",
   "metadata": {
    "scrolled": true
   },
   "outputs": [],
   "source": [
    "relevance_evaluation(BM25_RETRIEVAL_FOLDER, BM25_QUERY_EVALUATION_FOLDER, which_query=50)"
   ]
  },
  {
   "cell_type": "code",
   "execution_count": null,
   "id": "cc1d3c45",
   "metadata": {
    "scrolled": true
   },
   "outputs": [],
   "source": [
    "relevance_evaluation(BM25_RETRIEVAL_FOLDER, BM25_QUERY_EVALUATION_FOLDER, which_query=73)"
   ]
  },
  {
   "cell_type": "code",
   "execution_count": null,
   "id": "e38df953",
   "metadata": {
    "scrolled": true
   },
   "outputs": [],
   "source": [
    "relevance_evaluation(BM25_RETRIEVAL_FOLDER, BM25_QUERY_EVALUATION_FOLDER, which_query=73, model=MODEL_DAVINCI3)"
   ]
  },
  {
   "cell_type": "code",
   "execution_count": null,
   "id": "d4ada8d2",
   "metadata": {
    "scrolled": true
   },
   "outputs": [
    {
     "name": "stdout",
     "output_type": "stream",
     "text": [
      "Evaluating query results interval [10, 20] for file BM25_retrieval/query_id_073.tsv...\n",
      "\n",
      "++++++++++++++++++++++++++\n",
      "Passagem: \"Embora seja um país de colonização portuguesa, outros grupos étnicos deixaram influências profundas na cultura nacional, destacando-se os povos indígenas, os africanos, os italianos e os alemães. As influências indígenas e africanas deixaram marcas no âmbito da música, da culinária, do folclore, do artesanato, dos caracteres emocionais e das festas populares do Brasil, assim como centenas de empréstimos à língua portuguesa. É evidente que algumas regiões receberam maior contribuição desses povos: os estados do Norte têm forte influência das culturas indígenas, enquanto algumas regiões do Nordeste têm uma cultura bastante africanizada, sendo que, em outras, principalmente no sertão, há uma intensa e antiga mescla de caracteres lusitanos e indígenas, com menor participação africana.\"\n",
      "Pergunta: \"Qual a principal influência na culinária da região nordeste do brasil?\"\n",
      "++++++++++++++++++++++++++\n",
      "\n",
      "\n",
      "Você avalia se uma passagem de texto responde a uma pergunta, indicando uma pontuação de 0 à 10, onde 0 indica que a passagem não responde e 10 que a passagem responde de forma correta e clara. Você desconsidera informações que o texto diz que vai apresentar mas não apresenta. Siga os exemplos abaixo.\n",
      "\n",
      "Exemplo 1:\n",
      "Passagem: \"O cirurgião faz uma incisão no quadril, remove a articulação do quadril danificada e a substitui por uma articulação artificial que é uma liga metálica ou, em alguns casos, cerâmica. A cirurgia geralmente leva cerca de 60 a 90 minutos para ser concluída.\"\n",
      "Pergunta: de que metal são feitas as próteses de quadril?\"\n",
      "\n",
      "Pontuação: 2; Razão: não responde a pergunta de forma clara, pois apenas indica indiretamente que a prótese pode ser de uma liga metálica, mas não explicita quais metais. O assunto da passagem é sobre cirurgia de colocação de prótese que, embora relacionado, não é diretamente o assunto da pergunta.\n",
      "\n",
      "Exemplo 2:\n",
      "Passagem: \"Vanessa Redgrave nasceu em 30 de janeiro de 1937 em Londres. Ela fará falta, mas não será esquecida. Centenas de fãs imediatamente começaram a escrever suas mensagens de condolências na página do Facebook, expressando sua tristeza pela morte da talentosa atriz de 79 anos.\"\n",
      "Pergunta: \"quantos anos tem vanessa redgrave?\"\n",
      "\n",
      "Pontuação: 8; Razão: a passagem responde a idade que Vanessa Redgrave tinha quando faleceu em 2016, informação que exige que o leitor faça o cálculo entre a idade da atriz e o seu ano de nascimento.\n",
      "\n",
      "Exemplo 3:\n",
      "Passagem: \"O Brasil possui muitas belezas naturais. Neste artigo vamos indicar os melhores lugares para passear no Brasil.\"\n",
      "Pergunta: \"Onde passear no Brasil?\"\n",
      "\n",
      "Pontuação: 1; Razão: a passagem apenas indica que o Brasil tem muitas belezas naturais, mas não indica nenhum exemplo. Embora a passagem indique que artigo vai falar sobre lugares para passear no Brasil, o trecho apresentado não lista nenhum lugar específico para passear no Brasil.\n",
      "\n",
      "Exemplo 4:\n",
      "Passagem: \"Uma prótese feita de metal e plástico são os implantes de substituição do quadril mais comumente usados. Tanto a bola quanto o soquete da articulação do quadril são substituídos por um implante de metal e um espaçador de plástico é colocado entre eles. Os metais mais comumente usados incluem titânio e aço inoxidável.\"\n",
      "Pergunta: \"de que metal são feitas as próteses de quadril?\"\n",
      "\n",
      "Pontuação: 10; Razão: a passagem responde à pergunta de forma clara e direta, e ainda acrescenta informações relevantes sobre próteses de quadril.\n",
      "\n",
      "Passagem: \"Embora seja um país de colonização portuguesa, outros grupos étnicos deixaram influências profundas na cultura nacional, destacando-se os povos indígenas, os africanos, os italianos e os alemães. As influências indígenas e africanas deixaram marcas no âmbito da música, da culinária, do folclore, do artesanato, dos caracteres emocionais e das festas populares do Brasil, assim como centenas de empréstimos à língua portuguesa. É evidente que algumas regiões receberam maior contribuição desses povos: os estados do Norte têm forte influência das culturas indígenas, enquanto algumas regiões do Nordeste têm uma cultura bastante africanizada, sendo que, em outras, principalmente no sertão, há uma intensa e antiga mescla de caracteres lusitanos e indígenas, com menor participação africana.\"\n",
      "Pergunta: \"Qual a principal influência na culinária da região nordeste do brasil?\"\n",
      "\n",
      "\n",
      "\n",
      "\n",
      "Pontuação: 2; Razão: a passagem não responde a pergunta de forma clara, pois apenas indica que a região Nordeste tem uma cultura bastante africanizada, mas não explicita qual é a principal influência na culinária. O assunto da passagem é sobre influências culturais no Brasil, mas não é diretamente o assunto da pergunta.\n",
      "\n",
      "LLM document aggregation duration: 7.12027382850647\n",
      "\n",
      "\n",
      "++++++++++++++++++++++++++\n",
      "Passagem: \"Esta igualdade linguística e religiosa é um fato raro para um país de grande tamanho como o Brasil, especialmente em comparação com os países do Velho Mundo . As influências indígenas e africanas deixaram marcas no âmbito da música, da culinária, do folclore, do artesanato, dos caracteres emocionais e das festas populares do Brasil, assim como centenas de empréstimos à língua portuguesa (antes da chegada dos portugueses aqui era falado tupi-guarani). É evidente que algumas regiões receberam maior contribuição desses povos: os estados do Norte têm forte influência das culturas indígenas, enquanto algumas regiões do Nordeste têm uma cultura bastante africanizada, sendo que, em outras, principalmente no sertão, há uma intensa e antiga mescla de caracteres lusitanos e indígenas, com menor participação africana.\"\n",
      "Pergunta: \"Qual a principal influência na culinária da região nordeste do brasil?\"\n",
      "++++++++++++++++++++++++++\n",
      "\n",
      "\n",
      "Você avalia se uma passagem de texto responde a uma pergunta, indicando uma pontuação de 0 à 10, onde 0 indica que a passagem não responde e 10 que a passagem responde de forma correta e clara. Você desconsidera informações que o texto diz que vai apresentar mas não apresenta. Siga os exemplos abaixo.\n",
      "\n",
      "Exemplo 1:\n",
      "Passagem: \"O cirurgião faz uma incisão no quadril, remove a articulação do quadril danificada e a substitui por uma articulação artificial que é uma liga metálica ou, em alguns casos, cerâmica. A cirurgia geralmente leva cerca de 60 a 90 minutos para ser concluída.\"\n",
      "Pergunta: de que metal são feitas as próteses de quadril?\"\n",
      "\n",
      "Pontuação: 2; Razão: não responde a pergunta de forma clara, pois apenas indica indiretamente que a prótese pode ser de uma liga metálica, mas não explicita quais metais. O assunto da passagem é sobre cirurgia de colocação de prótese que, embora relacionado, não é diretamente o assunto da pergunta.\n",
      "\n",
      "Exemplo 2:\n",
      "Passagem: \"Vanessa Redgrave nasceu em 30 de janeiro de 1937 em Londres. Ela fará falta, mas não será esquecida. Centenas de fãs imediatamente começaram a escrever suas mensagens de condolências na página do Facebook, expressando sua tristeza pela morte da talentosa atriz de 79 anos.\"\n",
      "Pergunta: \"quantos anos tem vanessa redgrave?\"\n",
      "\n",
      "Pontuação: 8; Razão: a passagem responde a idade que Vanessa Redgrave tinha quando faleceu em 2016, informação que exige que o leitor faça o cálculo entre a idade da atriz e o seu ano de nascimento.\n",
      "\n",
      "Exemplo 3:\n",
      "Passagem: \"O Brasil possui muitas belezas naturais. Neste artigo vamos indicar os melhores lugares para passear no Brasil.\"\n",
      "Pergunta: \"Onde passear no Brasil?\"\n",
      "\n",
      "Pontuação: 1; Razão: a passagem apenas indica que o Brasil tem muitas belezas naturais, mas não indica nenhum exemplo. Embora a passagem indique que artigo vai falar sobre lugares para passear no Brasil, o trecho apresentado não lista nenhum lugar específico para passear no Brasil.\n",
      "\n",
      "Exemplo 4:\n",
      "Passagem: \"Uma prótese feita de metal e plástico são os implantes de substituição do quadril mais comumente usados. Tanto a bola quanto o soquete da articulação do quadril são substituídos por um implante de metal e um espaçador de plástico é colocado entre eles. Os metais mais comumente usados incluem titânio e aço inoxidável.\"\n",
      "Pergunta: \"de que metal são feitas as próteses de quadril?\"\n",
      "\n",
      "Pontuação: 10; Razão: a passagem responde à pergunta de forma clara e direta, e ainda acrescenta informações relevantes sobre próteses de quadril.\n",
      "\n",
      "Passagem: \"Esta igualdade linguística e religiosa é um fato raro para um país de grande tamanho como o Brasil, especialmente em comparação com os países do Velho Mundo . As influências indígenas e africanas deixaram marcas no âmbito da música, da culinária, do folclore, do artesanato, dos caracteres emocionais e das festas populares do Brasil, assim como centenas de empréstimos à língua portuguesa (antes da chegada dos portugueses aqui era falado tupi-guarani). É evidente que algumas regiões receberam maior contribuição desses povos: os estados do Norte têm forte influência das culturas indígenas, enquanto algumas regiões do Nordeste têm uma cultura bastante africanizada, sendo que, em outras, principalmente no sertão, há uma intensa e antiga mescla de caracteres lusitanos e indígenas, com menor participação africana.\"\n",
      "Pergunta: \"Qual a principal influência na culinária da região nordeste do brasil?\"\n"
     ]
    },
    {
     "name": "stdout",
     "output_type": "stream",
     "text": [
      "\n",
      "\n",
      "\n",
      "\n",
      "Pontuação: 2; Razão: não responde a pergunta de forma clara, pois apenas indica indiretamente que a região Nordeste tem uma cultura bastante africanizada, mas não explicita qual é a principal influência na culinária. O assunto da passagem é sobre a diversidade cultural do Brasil, mas não é diretamente o assunto da pergunta.\n",
      "\n",
      "LLM document aggregation duration: 7.463531255722046\n",
      "\n",
      "\n",
      "++++++++++++++++++++++++++\n",
      "Passagem: \"Conteúdo e Metodologia da História  39- Sobre a Cultura Afro-Brasileira, marque a opção incorreta:  a) O Brasil tem a maior população de origem africana fora da África e, por isso, a  cultura desse continente exerce grande influência, principalmente, na região Nordeste  do Brasil. b) Hoje, a cultura afro-brasileira é resultado também das influências dos portugueses  e indígenas, que se manifestam na música, religião e culinária. c) Devido à quantidade de escravos recebidos e também pela migração interna  destes, os estados de Maranhão, Pernambuco, Alagoas, Bahia, Minas Gerais, Espírito  Santo, Rio de Janeiro, São Paulo e Rio Grande do Sul foram os mais influenciados.\"\n",
      "Pergunta: \"Qual a principal influência na culinária da região nordeste do brasil?\"\n",
      "++++++++++++++++++++++++++\n",
      "\n",
      "\n",
      "Você avalia se uma passagem de texto responde a uma pergunta, indicando uma pontuação de 0 à 10, onde 0 indica que a passagem não responde e 10 que a passagem responde de forma correta e clara. Você desconsidera informações que o texto diz que vai apresentar mas não apresenta. Siga os exemplos abaixo.\n",
      "\n",
      "Exemplo 1:\n",
      "Passagem: \"O cirurgião faz uma incisão no quadril, remove a articulação do quadril danificada e a substitui por uma articulação artificial que é uma liga metálica ou, em alguns casos, cerâmica. A cirurgia geralmente leva cerca de 60 a 90 minutos para ser concluída.\"\n",
      "Pergunta: de que metal são feitas as próteses de quadril?\"\n",
      "\n",
      "Pontuação: 2; Razão: não responde a pergunta de forma clara, pois apenas indica indiretamente que a prótese pode ser de uma liga metálica, mas não explicita quais metais. O assunto da passagem é sobre cirurgia de colocação de prótese que, embora relacionado, não é diretamente o assunto da pergunta.\n",
      "\n",
      "Exemplo 2:\n",
      "Passagem: \"Vanessa Redgrave nasceu em 30 de janeiro de 1937 em Londres. Ela fará falta, mas não será esquecida. Centenas de fãs imediatamente começaram a escrever suas mensagens de condolências na página do Facebook, expressando sua tristeza pela morte da talentosa atriz de 79 anos.\"\n",
      "Pergunta: \"quantos anos tem vanessa redgrave?\"\n",
      "\n",
      "Pontuação: 8; Razão: a passagem responde a idade que Vanessa Redgrave tinha quando faleceu em 2016, informação que exige que o leitor faça o cálculo entre a idade da atriz e o seu ano de nascimento.\n",
      "\n",
      "Exemplo 3:\n",
      "Passagem: \"O Brasil possui muitas belezas naturais. Neste artigo vamos indicar os melhores lugares para passear no Brasil.\"\n",
      "Pergunta: \"Onde passear no Brasil?\"\n",
      "\n",
      "Pontuação: 1; Razão: a passagem apenas indica que o Brasil tem muitas belezas naturais, mas não indica nenhum exemplo. Embora a passagem indique que artigo vai falar sobre lugares para passear no Brasil, o trecho apresentado não lista nenhum lugar específico para passear no Brasil.\n",
      "\n",
      "Exemplo 4:\n",
      "Passagem: \"Uma prótese feita de metal e plástico são os implantes de substituição do quadril mais comumente usados. Tanto a bola quanto o soquete da articulação do quadril são substituídos por um implante de metal e um espaçador de plástico é colocado entre eles. Os metais mais comumente usados incluem titânio e aço inoxidável.\"\n",
      "Pergunta: \"de que metal são feitas as próteses de quadril?\"\n",
      "\n",
      "Pontuação: 10; Razão: a passagem responde à pergunta de forma clara e direta, e ainda acrescenta informações relevantes sobre próteses de quadril.\n",
      "\n",
      "Passagem: \"Conteúdo e Metodologia da História  39- Sobre a Cultura Afro-Brasileira, marque a opção incorreta:  a) O Brasil tem a maior população de origem africana fora da África e, por isso, a  cultura desse continente exerce grande influência, principalmente, na região Nordeste  do Brasil. b) Hoje, a cultura afro-brasileira é resultado também das influências dos portugueses  e indígenas, que se manifestam na música, religião e culinária. c) Devido à quantidade de escravos recebidos e também pela migração interna  destes, os estados de Maranhão, Pernambuco, Alagoas, Bahia, Minas Gerais, Espírito  Santo, Rio de Janeiro, São Paulo e Rio Grande do Sul foram os mais influenciados.\"\n",
      "Pergunta: \"Qual a principal influência na culinária da região nordeste do brasil?\"\n"
     ]
    }
   ],
   "source": [
    "relevance_evaluation(BM25_RETRIEVAL_FOLDER, BM25_QUERY_EVALUATION_FOLDER, starting_position=10, ending_position=20, which_query=73, model=MODEL_DAVINCI3)"
   ]
  },
  {
   "cell_type": "code",
   "execution_count": 38,
   "id": "083d13cb",
   "metadata": {},
   "outputs": [
    {
     "name": "stdout",
     "output_type": "stream",
     "text": [
      "Evaluating query results interval [10, 20] for file BM25_retrieval/query_id_073.tsv...\n",
      "\n",
      "++++++++++++++++++++++++++\n",
      "Passagem: \"Embora seja um país de colonização portuguesa, outros grupos étnicos deixaram influências profundas na cultura nacional, destacando-se os povos indígenas, os africanos, os italianos e os alemães. As influências indígenas e africanas deixaram marcas no âmbito da música, da culinária, do folclore, do artesanato, dos caracteres emocionais e das festas populares do Brasil, assim como centenas de empréstimos à língua portuguesa. É evidente que algumas regiões receberam maior contribuição desses povos: os estados do Norte têm forte influência das culturas indígenas, enquanto algumas regiões do Nordeste têm uma cultura bastante africanizada, sendo que, em outras, principalmente no sertão, há uma intensa e antiga mescla de caracteres lusitanos e indígenas, com menor participação africana.\"\n",
      "Pergunta: \"Qual a principal influência na culinária da região nordeste do brasil?\"\n",
      "++++++++++++++++++++++++++\n",
      "\n",
      "\n",
      "[{'role': 'system', 'content': 'Você avalia se uma passagem de texto responde a uma pergunta, indicando uma pontuação de 0 à 10, onde 0 indica que a passagem não responde e 10 que a passagem responde de forma correta e clara. Você desconsidera informações que o texto diz que vai apresentar mas não apresenta.'}, {'role': 'user', 'content': 'Exemplo 1:\\nPassagem: \"O cirurgião faz uma incisão no quadril, remove a articulação do quadril danificada e a substitui por uma articulação artificial que é uma liga metálica ou, em alguns casos, cerâmica. A cirurgia geralmente leva cerca de 60 a 90 minutos para ser concluída.\"\\nPergunta: de que metal são feitas as próteses de quadril?\"'}, {'role': 'assistant', 'content': 'Pontuação: 2; Razão: não responde a pergunta de forma clara, pois apenas indica indiretamente que a prótese pode ser de uma liga metálica, mas não explicita quais metais. O assunto da passagem é sobre cirurgia de colocação de prótese que, embora relacionado, não é diretamente o assunto da pergunta.'}, {'role': 'user', 'content': 'Exemplo 2:\\nPassagem: \"Vanessa Redgrave nasceu em 30 de janeiro de 1937 em Londres. Ela fará falta, mas não será esquecida. Centenas de fãs imediatamente começaram a escrever suas mensagens de condolências na página do Facebook, expressando sua tristeza pela morte da talentosa atriz de 79 anos.\"\\nPergunta: \"quantos anos tem vanessa redgrave?\"'}, {'role': 'assistant', 'content': 'Pontuação: 8; Razão: a passagem responde a idade que Vanessa Redgrave tinha quando faleceu em 2016, informação que exige que o leitor faça o cálculo entre a idade da atriz e o seu ano de nascimento.'}, {'role': 'user', 'content': 'Exemplo 3:\\nPassagem: \"O Brasil possui muitas belezas naturais. Neste artigo vamos indicar os melhores lugares para passear no Brasil.\"\\nPergunta: \"Onde passear no Brasil?\"'}, {'role': 'assistant', 'content': 'Pontuação: 1; Razão: a passagem apenas indica que o Brasil tem muitas belezas naturais, mas não indica nenhum exemplo. Embora a passagem indique que artigo vai falar sobre lugares para passear no Brasil, o trecho apresentado não lista nenhum lugar específico para passear no Brasil.'}, {'role': 'user', 'content': 'Passagem: \"Embora seja um país de colonização portuguesa, outros grupos étnicos deixaram influências profundas na cultura nacional, destacando-se os povos indígenas, os africanos, os italianos e os alemães. As influências indígenas e africanas deixaram marcas no âmbito da música, da culinária, do folclore, do artesanato, dos caracteres emocionais e das festas populares do Brasil, assim como centenas de empréstimos à língua portuguesa. É evidente que algumas regiões receberam maior contribuição desses povos: os estados do Norte têm forte influência das culturas indígenas, enquanto algumas regiões do Nordeste têm uma cultura bastante africanizada, sendo que, em outras, principalmente no sertão, há uma intensa e antiga mescla de caracteres lusitanos e indígenas, com menor participação africana.\"\\nPergunta: \"Qual a principal influência na culinária da região nordeste do brasil?\"'}]\n",
      "\n",
      "\n",
      "Pontuação: 9; Razão: a passagem responde de forma clara e direta que a principal influência na culinária da região nordeste do Brasil é a africana.\n",
      "\n",
      "LLM document aggregation duration: 1.5757498741149902\n",
      "\n",
      "\n",
      "++++++++++++++++++++++++++\n",
      "Passagem: \"Esta igualdade linguística e religiosa é um fato raro para um país de grande tamanho como o Brasil, especialmente em comparação com os países do Velho Mundo . As influências indígenas e africanas deixaram marcas no âmbito da música, da culinária, do folclore, do artesanato, dos caracteres emocionais e das festas populares do Brasil, assim como centenas de empréstimos à língua portuguesa (antes da chegada dos portugueses aqui era falado tupi-guarani). É evidente que algumas regiões receberam maior contribuição desses povos: os estados do Norte têm forte influência das culturas indígenas, enquanto algumas regiões do Nordeste têm uma cultura bastante africanizada, sendo que, em outras, principalmente no sertão, há uma intensa e antiga mescla de caracteres lusitanos e indígenas, com menor participação africana.\"\n",
      "Pergunta: \"Qual a principal influência na culinária da região nordeste do brasil?\"\n",
      "++++++++++++++++++++++++++\n",
      "\n",
      "\n",
      "[{'role': 'system', 'content': 'Você avalia se uma passagem de texto responde a uma pergunta, indicando uma pontuação de 0 à 10, onde 0 indica que a passagem não responde e 10 que a passagem responde de forma correta e clara. Você desconsidera informações que o texto diz que vai apresentar mas não apresenta.'}, {'role': 'user', 'content': 'Exemplo 1:\\nPassagem: \"O cirurgião faz uma incisão no quadril, remove a articulação do quadril danificada e a substitui por uma articulação artificial que é uma liga metálica ou, em alguns casos, cerâmica. A cirurgia geralmente leva cerca de 60 a 90 minutos para ser concluída.\"\\nPergunta: de que metal são feitas as próteses de quadril?\"'}, {'role': 'assistant', 'content': 'Pontuação: 2; Razão: não responde a pergunta de forma clara, pois apenas indica indiretamente que a prótese pode ser de uma liga metálica, mas não explicita quais metais. O assunto da passagem é sobre cirurgia de colocação de prótese que, embora relacionado, não é diretamente o assunto da pergunta.'}, {'role': 'user', 'content': 'Exemplo 2:\\nPassagem: \"Vanessa Redgrave nasceu em 30 de janeiro de 1937 em Londres. Ela fará falta, mas não será esquecida. Centenas de fãs imediatamente começaram a escrever suas mensagens de condolências na página do Facebook, expressando sua tristeza pela morte da talentosa atriz de 79 anos.\"\\nPergunta: \"quantos anos tem vanessa redgrave?\"'}, {'role': 'assistant', 'content': 'Pontuação: 8; Razão: a passagem responde a idade que Vanessa Redgrave tinha quando faleceu em 2016, informação que exige que o leitor faça o cálculo entre a idade da atriz e o seu ano de nascimento.'}, {'role': 'user', 'content': 'Exemplo 3:\\nPassagem: \"O Brasil possui muitas belezas naturais. Neste artigo vamos indicar os melhores lugares para passear no Brasil.\"\\nPergunta: \"Onde passear no Brasil?\"'}, {'role': 'assistant', 'content': 'Pontuação: 1; Razão: a passagem apenas indica que o Brasil tem muitas belezas naturais, mas não indica nenhum exemplo. Embora a passagem indique que artigo vai falar sobre lugares para passear no Brasil, o trecho apresentado não lista nenhum lugar específico para passear no Brasil.'}, {'role': 'user', 'content': 'Passagem: \"Esta igualdade linguística e religiosa é um fato raro para um país de grande tamanho como o Brasil, especialmente em comparação com os países do Velho Mundo . As influências indígenas e africanas deixaram marcas no âmbito da música, da culinária, do folclore, do artesanato, dos caracteres emocionais e das festas populares do Brasil, assim como centenas de empréstimos à língua portuguesa (antes da chegada dos portugueses aqui era falado tupi-guarani). É evidente que algumas regiões receberam maior contribuição desses povos: os estados do Norte têm forte influência das culturas indígenas, enquanto algumas regiões do Nordeste têm uma cultura bastante africanizada, sendo que, em outras, principalmente no sertão, há uma intensa e antiga mescla de caracteres lusitanos e indígenas, com menor participação africana.\"\\nPergunta: \"Qual a principal influência na culinária da região nordeste do brasil?\"'}]\n"
     ]
    },
    {
     "name": "stdout",
     "output_type": "stream",
     "text": [
      "\n",
      "\n",
      "Pontuação: 9; Razão: a passagem responde claramente que a principal influência na culinária da região nordeste do Brasil é a africana. Além disso, a passagem apresenta informações adicionais sobre outras influências culturais em diferentes regiões do país.\n",
      "\n",
      "LLM document aggregation duration: 2.2574281692504883\n",
      "\n",
      "\n",
      "++++++++++++++++++++++++++\n",
      "Passagem: \"Conteúdo e Metodologia da História  39- Sobre a Cultura Afro-Brasileira, marque a opção incorreta:  a) O Brasil tem a maior população de origem africana fora da África e, por isso, a  cultura desse continente exerce grande influência, principalmente, na região Nordeste  do Brasil. b) Hoje, a cultura afro-brasileira é resultado também das influências dos portugueses  e indígenas, que se manifestam na música, religião e culinária. c) Devido à quantidade de escravos recebidos e também pela migração interna  destes, os estados de Maranhão, Pernambuco, Alagoas, Bahia, Minas Gerais, Espírito  Santo, Rio de Janeiro, São Paulo e Rio Grande do Sul foram os mais influenciados.\"\n",
      "Pergunta: \"Qual a principal influência na culinária da região nordeste do brasil?\"\n",
      "++++++++++++++++++++++++++\n",
      "\n",
      "\n",
      "[{'role': 'system', 'content': 'Você avalia se uma passagem de texto responde a uma pergunta, indicando uma pontuação de 0 à 10, onde 0 indica que a passagem não responde e 10 que a passagem responde de forma correta e clara. Você desconsidera informações que o texto diz que vai apresentar mas não apresenta.'}, {'role': 'user', 'content': 'Exemplo 1:\\nPassagem: \"O cirurgião faz uma incisão no quadril, remove a articulação do quadril danificada e a substitui por uma articulação artificial que é uma liga metálica ou, em alguns casos, cerâmica. A cirurgia geralmente leva cerca de 60 a 90 minutos para ser concluída.\"\\nPergunta: de que metal são feitas as próteses de quadril?\"'}, {'role': 'assistant', 'content': 'Pontuação: 2; Razão: não responde a pergunta de forma clara, pois apenas indica indiretamente que a prótese pode ser de uma liga metálica, mas não explicita quais metais. O assunto da passagem é sobre cirurgia de colocação de prótese que, embora relacionado, não é diretamente o assunto da pergunta.'}, {'role': 'user', 'content': 'Exemplo 2:\\nPassagem: \"Vanessa Redgrave nasceu em 30 de janeiro de 1937 em Londres. Ela fará falta, mas não será esquecida. Centenas de fãs imediatamente começaram a escrever suas mensagens de condolências na página do Facebook, expressando sua tristeza pela morte da talentosa atriz de 79 anos.\"\\nPergunta: \"quantos anos tem vanessa redgrave?\"'}, {'role': 'assistant', 'content': 'Pontuação: 8; Razão: a passagem responde a idade que Vanessa Redgrave tinha quando faleceu em 2016, informação que exige que o leitor faça o cálculo entre a idade da atriz e o seu ano de nascimento.'}, {'role': 'user', 'content': 'Exemplo 3:\\nPassagem: \"O Brasil possui muitas belezas naturais. Neste artigo vamos indicar os melhores lugares para passear no Brasil.\"\\nPergunta: \"Onde passear no Brasil?\"'}, {'role': 'assistant', 'content': 'Pontuação: 1; Razão: a passagem apenas indica que o Brasil tem muitas belezas naturais, mas não indica nenhum exemplo. Embora a passagem indique que artigo vai falar sobre lugares para passear no Brasil, o trecho apresentado não lista nenhum lugar específico para passear no Brasil.'}, {'role': 'user', 'content': 'Passagem: \"Conteúdo e Metodologia da História  39- Sobre a Cultura Afro-Brasileira, marque a opção incorreta:  a) O Brasil tem a maior população de origem africana fora da África e, por isso, a  cultura desse continente exerce grande influência, principalmente, na região Nordeste  do Brasil. b) Hoje, a cultura afro-brasileira é resultado também das influências dos portugueses  e indígenas, que se manifestam na música, religião e culinária. c) Devido à quantidade de escravos recebidos e também pela migração interna  destes, os estados de Maranhão, Pernambuco, Alagoas, Bahia, Minas Gerais, Espírito  Santo, Rio de Janeiro, São Paulo e Rio Grande do Sul foram os mais influenciados.\"\\nPergunta: \"Qual a principal influência na culinária da região nordeste do brasil?\"'}]\n",
      "\n",
      "\n",
      "Pontuação: 10; Razão: a passagem responde de forma clara e direta que a principal influência na culinária da região Nordeste do Brasil é a cultura africana, que exerce grande influência na região devido à grande população de origem africana e à migração interna de escravos.\n",
      "\n",
      "LLM document aggregation duration: 2.592717409133911\n",
      "\n",
      "\n",
      "++++++++++++++++++++++++++\n",
      "Passagem: \"Culinária nordestina: os principais temperos típicos no nordeste TudoGostoso Blog TudoGostoso Estilo de vida Comida e viagem Culinária nordestina: os principais temperos típicos no nordeste Você é amante da culinária nordestina? Vem com o TudoGostoso descobrir os temperos característicos dessa cozinha tão marcante e original. O nordeste do Brasil, formado pelos estados de Alagoas, Bahia, Ceará, Maranhão, Paraíba, Piauí, Sergipe, Pernambuco e Rio Grande do Norte, é uma região muito rica seja nas suas lindas paisagens, na sua cultura plural e, é claro, na sua comida.\"\n",
      "Pergunta: \"Qual a principal influência na culinária da região nordeste do brasil?\"\n",
      "++++++++++++++++++++++++++\n",
      "\n",
      "\n",
      "[{'role': 'system', 'content': 'Você avalia se uma passagem de texto responde a uma pergunta, indicando uma pontuação de 0 à 10, onde 0 indica que a passagem não responde e 10 que a passagem responde de forma correta e clara. Você desconsidera informações que o texto diz que vai apresentar mas não apresenta.'}, {'role': 'user', 'content': 'Exemplo 1:\\nPassagem: \"O cirurgião faz uma incisão no quadril, remove a articulação do quadril danificada e a substitui por uma articulação artificial que é uma liga metálica ou, em alguns casos, cerâmica. A cirurgia geralmente leva cerca de 60 a 90 minutos para ser concluída.\"\\nPergunta: de que metal são feitas as próteses de quadril?\"'}, {'role': 'assistant', 'content': 'Pontuação: 2; Razão: não responde a pergunta de forma clara, pois apenas indica indiretamente que a prótese pode ser de uma liga metálica, mas não explicita quais metais. O assunto da passagem é sobre cirurgia de colocação de prótese que, embora relacionado, não é diretamente o assunto da pergunta.'}, {'role': 'user', 'content': 'Exemplo 2:\\nPassagem: \"Vanessa Redgrave nasceu em 30 de janeiro de 1937 em Londres. Ela fará falta, mas não será esquecida. Centenas de fãs imediatamente começaram a escrever suas mensagens de condolências na página do Facebook, expressando sua tristeza pela morte da talentosa atriz de 79 anos.\"\\nPergunta: \"quantos anos tem vanessa redgrave?\"'}, {'role': 'assistant', 'content': 'Pontuação: 8; Razão: a passagem responde a idade que Vanessa Redgrave tinha quando faleceu em 2016, informação que exige que o leitor faça o cálculo entre a idade da atriz e o seu ano de nascimento.'}, {'role': 'user', 'content': 'Exemplo 3:\\nPassagem: \"O Brasil possui muitas belezas naturais. Neste artigo vamos indicar os melhores lugares para passear no Brasil.\"\\nPergunta: \"Onde passear no Brasil?\"'}, {'role': 'assistant', 'content': 'Pontuação: 1; Razão: a passagem apenas indica que o Brasil tem muitas belezas naturais, mas não indica nenhum exemplo. Embora a passagem indique que artigo vai falar sobre lugares para passear no Brasil, o trecho apresentado não lista nenhum lugar específico para passear no Brasil.'}, {'role': 'user', 'content': 'Passagem: \"Culinária nordestina: os principais temperos típicos no nordeste TudoGostoso Blog TudoGostoso Estilo de vida Comida e viagem Culinária nordestina: os principais temperos típicos no nordeste Você é amante da culinária nordestina? Vem com o TudoGostoso descobrir os temperos característicos dessa cozinha tão marcante e original. O nordeste do Brasil, formado pelos estados de Alagoas, Bahia, Ceará, Maranhão, Paraíba, Piauí, Sergipe, Pernambuco e Rio Grande do Norte, é uma região muito rica seja nas suas lindas paisagens, na sua cultura plural e, é claro, na sua comida.\"\\nPergunta: \"Qual a principal influência na culinária da região nordeste do brasil?\"'}]\n",
      "\n",
      "\n",
      "Pontuação: 7; Razão: a passagem não responde diretamente à pergunta, mas indica que a culinária nordestina é marcante e original, e que a região é rica em cultura plural, o que sugere que a culinária é influenciada por diversas culturas.\n",
      "\n",
      "LLM document aggregation duration: 2.3056602478027344\n",
      "\n",
      "\n",
      "++++++++++++++++++++++++++\n",
      "Passagem: \"Os currículos da educação infantil, do ensino fundamental e do ensino médio devem ter base nacional comum, a ser complementada, em cada sistema de ensino e em cada estabelecimento escolar, por uma parte diversificada, exigida pela característica regionais e locais da sociedade da cultura da economia e dos educandos…. exibir mais Hernán Cortés 1238 palavras | 5 páginas xxxxxxxxxx- xxxxxxxxxxxxxxxxxxxxxxxxxxxxxxxxxxxxxxxxxxxxxxxxxxxxxxxxxxxx- xxxxxxxxxxxxxxxxxxxxO Brasil tem a maior população de origem africana fora da África e, por isso, a cultura desse continente exerce grande influência, principalmente na região nordeste do Brasil. Hoje, a cultura afro-brasileira é resultado também das influências dos portugueses e indígenas, que se manifestam na música, religião e culinária.\"\n",
      "Pergunta: \"Qual a principal influência na culinária da região nordeste do brasil?\"\n",
      "++++++++++++++++++++++++++\n",
      "\n",
      "\n",
      "[{'role': 'system', 'content': 'Você avalia se uma passagem de texto responde a uma pergunta, indicando uma pontuação de 0 à 10, onde 0 indica que a passagem não responde e 10 que a passagem responde de forma correta e clara. Você desconsidera informações que o texto diz que vai apresentar mas não apresenta.'}, {'role': 'user', 'content': 'Exemplo 1:\\nPassagem: \"O cirurgião faz uma incisão no quadril, remove a articulação do quadril danificada e a substitui por uma articulação artificial que é uma liga metálica ou, em alguns casos, cerâmica. A cirurgia geralmente leva cerca de 60 a 90 minutos para ser concluída.\"\\nPergunta: de que metal são feitas as próteses de quadril?\"'}, {'role': 'assistant', 'content': 'Pontuação: 2; Razão: não responde a pergunta de forma clara, pois apenas indica indiretamente que a prótese pode ser de uma liga metálica, mas não explicita quais metais. O assunto da passagem é sobre cirurgia de colocação de prótese que, embora relacionado, não é diretamente o assunto da pergunta.'}, {'role': 'user', 'content': 'Exemplo 2:\\nPassagem: \"Vanessa Redgrave nasceu em 30 de janeiro de 1937 em Londres. Ela fará falta, mas não será esquecida. Centenas de fãs imediatamente começaram a escrever suas mensagens de condolências na página do Facebook, expressando sua tristeza pela morte da talentosa atriz de 79 anos.\"\\nPergunta: \"quantos anos tem vanessa redgrave?\"'}, {'role': 'assistant', 'content': 'Pontuação: 8; Razão: a passagem responde a idade que Vanessa Redgrave tinha quando faleceu em 2016, informação que exige que o leitor faça o cálculo entre a idade da atriz e o seu ano de nascimento.'}, {'role': 'user', 'content': 'Exemplo 3:\\nPassagem: \"O Brasil possui muitas belezas naturais. Neste artigo vamos indicar os melhores lugares para passear no Brasil.\"\\nPergunta: \"Onde passear no Brasil?\"'}, {'role': 'assistant', 'content': 'Pontuação: 1; Razão: a passagem apenas indica que o Brasil tem muitas belezas naturais, mas não indica nenhum exemplo. Embora a passagem indique que artigo vai falar sobre lugares para passear no Brasil, o trecho apresentado não lista nenhum lugar específico para passear no Brasil.'}, {'role': 'user', 'content': 'Passagem: \"Os currículos da educação infantil, do ensino fundamental e do ensino médio devem ter base nacional comum, a ser complementada, em cada sistema de ensino e em cada estabelecimento escolar, por uma parte diversificada, exigida pela característica regionais e locais da sociedade da cultura da economia e dos educandos…. exibir mais Hernán Cortés 1238 palavras | 5 páginas xxxxxxxxxx- xxxxxxxxxxxxxxxxxxxxxxxxxxxxxxxxxxxxxxxxxxxxxxxxxxxxxxxxxxxx- xxxxxxxxxxxxxxxxxxxxO Brasil tem a maior população de origem africana fora da África e, por isso, a cultura desse continente exerce grande influência, principalmente na região nordeste do Brasil. Hoje, a cultura afro-brasileira é resultado também das influências dos portugueses e indígenas, que se manifestam na música, religião e culinária.\"\\nPergunta: \"Qual a principal influência na culinária da região nordeste do brasil?\"'}]\n"
     ]
    },
    {
     "name": "stdout",
     "output_type": "stream",
     "text": [
      "\n",
      "\n",
      "Pontuação: 10; Razão: a passagem responde de forma clara e direta que a principal influência na culinária da região nordeste do Brasil é a cultura africana, que exerce grande influência na região devido à maior população de origem africana fora da África estar no Brasil.\n",
      "\n",
      "LLM document aggregation duration: 2.406903028488159\n",
      "\n",
      "\n",
      "++++++++++++++++++++++++++\n",
      "Passagem: \"Acarajé: prato típico da culinária nordestina, principalmente no estado da Bahia. Ele é um bolinho feito com massa de feijão, recheado com camarões, frito no óleo de dendê. atualizado em 15/10/2020 Você também pode gostar de: Culinária da Região Nordeste Temas Relacionados • Região Nordeste do Brasil Bibliografia Indicada Culiária Nordestina Autor: Vários autores Editora: Senac São Paulo A cozinha africana da Bahia Autor: Radel, Guilherme Editora: Guilherme Radel O Brasil bem temperado - Nordeste Autor: Mendonça, Ana Cecilia N. M. Xavier de Editora: Global Temas: Gastronomia\"\n",
      "Pergunta: \"Qual a principal influência na culinária da região nordeste do brasil?\"\n",
      "++++++++++++++++++++++++++\n",
      "\n",
      "\n",
      "[{'role': 'system', 'content': 'Você avalia se uma passagem de texto responde a uma pergunta, indicando uma pontuação de 0 à 10, onde 0 indica que a passagem não responde e 10 que a passagem responde de forma correta e clara. Você desconsidera informações que o texto diz que vai apresentar mas não apresenta.'}, {'role': 'user', 'content': 'Exemplo 1:\\nPassagem: \"O cirurgião faz uma incisão no quadril, remove a articulação do quadril danificada e a substitui por uma articulação artificial que é uma liga metálica ou, em alguns casos, cerâmica. A cirurgia geralmente leva cerca de 60 a 90 minutos para ser concluída.\"\\nPergunta: de que metal são feitas as próteses de quadril?\"'}, {'role': 'assistant', 'content': 'Pontuação: 2; Razão: não responde a pergunta de forma clara, pois apenas indica indiretamente que a prótese pode ser de uma liga metálica, mas não explicita quais metais. O assunto da passagem é sobre cirurgia de colocação de prótese que, embora relacionado, não é diretamente o assunto da pergunta.'}, {'role': 'user', 'content': 'Exemplo 2:\\nPassagem: \"Vanessa Redgrave nasceu em 30 de janeiro de 1937 em Londres. Ela fará falta, mas não será esquecida. Centenas de fãs imediatamente começaram a escrever suas mensagens de condolências na página do Facebook, expressando sua tristeza pela morte da talentosa atriz de 79 anos.\"\\nPergunta: \"quantos anos tem vanessa redgrave?\"'}, {'role': 'assistant', 'content': 'Pontuação: 8; Razão: a passagem responde a idade que Vanessa Redgrave tinha quando faleceu em 2016, informação que exige que o leitor faça o cálculo entre a idade da atriz e o seu ano de nascimento.'}, {'role': 'user', 'content': 'Exemplo 3:\\nPassagem: \"O Brasil possui muitas belezas naturais. Neste artigo vamos indicar os melhores lugares para passear no Brasil.\"\\nPergunta: \"Onde passear no Brasil?\"'}, {'role': 'assistant', 'content': 'Pontuação: 1; Razão: a passagem apenas indica que o Brasil tem muitas belezas naturais, mas não indica nenhum exemplo. Embora a passagem indique que artigo vai falar sobre lugares para passear no Brasil, o trecho apresentado não lista nenhum lugar específico para passear no Brasil.'}, {'role': 'user', 'content': 'Passagem: \"Acarajé: prato típico da culinária nordestina, principalmente no estado da Bahia. Ele é um bolinho feito com massa de feijão, recheado com camarões, frito no óleo de dendê. atualizado em 15/10/2020 Você também pode gostar de: Culinária da Região Nordeste Temas Relacionados • Região Nordeste do Brasil Bibliografia Indicada Culiária Nordestina Autor: Vários autores Editora: Senac São Paulo A cozinha africana da Bahia Autor: Radel, Guilherme Editora: Guilherme Radel O Brasil bem temperado - Nordeste Autor: Mendonça, Ana Cecilia N. M. Xavier de Editora: Global Temas: Gastronomia\"\\nPergunta: \"Qual a principal influência na culinária da região nordeste do brasil?\"'}]\n",
      "\n",
      "\n",
      "Pontuação: 9; Razão: a passagem responde claramente que a culinária nordestina tem como principal influência a culinária africana, mais especificamente a culinária da Bahia, que é onde o acarajé é um prato típico. A passagem também apresenta bibliografias relacionadas ao tema.\n",
      "\n",
      "LLM document aggregation duration: 3.028237819671631\n",
      "\n",
      "\n",
      "++++++++++++++++++++++++++\n",
      "Passagem: \"Desta forma, este trabalho teve como objetivo relatar as influências dos povos que formaram o Brasil na gastronomia, com foco específico sobre a região Nordeste. O artigo foi realizado através de pesquisa bibliográfica, onde foram consultados livros, artigos e sites na internet que tratavam do presente assunto. Palavras-chave : Culinária do Nordeste.\"\n",
      "Pergunta: \"Qual a principal influência na culinária da região nordeste do brasil?\"\n",
      "++++++++++++++++++++++++++\n",
      "\n",
      "\n",
      "[{'role': 'system', 'content': 'Você avalia se uma passagem de texto responde a uma pergunta, indicando uma pontuação de 0 à 10, onde 0 indica que a passagem não responde e 10 que a passagem responde de forma correta e clara. Você desconsidera informações que o texto diz que vai apresentar mas não apresenta.'}, {'role': 'user', 'content': 'Exemplo 1:\\nPassagem: \"O cirurgião faz uma incisão no quadril, remove a articulação do quadril danificada e a substitui por uma articulação artificial que é uma liga metálica ou, em alguns casos, cerâmica. A cirurgia geralmente leva cerca de 60 a 90 minutos para ser concluída.\"\\nPergunta: de que metal são feitas as próteses de quadril?\"'}, {'role': 'assistant', 'content': 'Pontuação: 2; Razão: não responde a pergunta de forma clara, pois apenas indica indiretamente que a prótese pode ser de uma liga metálica, mas não explicita quais metais. O assunto da passagem é sobre cirurgia de colocação de prótese que, embora relacionado, não é diretamente o assunto da pergunta.'}, {'role': 'user', 'content': 'Exemplo 2:\\nPassagem: \"Vanessa Redgrave nasceu em 30 de janeiro de 1937 em Londres. Ela fará falta, mas não será esquecida. Centenas de fãs imediatamente começaram a escrever suas mensagens de condolências na página do Facebook, expressando sua tristeza pela morte da talentosa atriz de 79 anos.\"\\nPergunta: \"quantos anos tem vanessa redgrave?\"'}, {'role': 'assistant', 'content': 'Pontuação: 8; Razão: a passagem responde a idade que Vanessa Redgrave tinha quando faleceu em 2016, informação que exige que o leitor faça o cálculo entre a idade da atriz e o seu ano de nascimento.'}, {'role': 'user', 'content': 'Exemplo 3:\\nPassagem: \"O Brasil possui muitas belezas naturais. Neste artigo vamos indicar os melhores lugares para passear no Brasil.\"\\nPergunta: \"Onde passear no Brasil?\"'}, {'role': 'assistant', 'content': 'Pontuação: 1; Razão: a passagem apenas indica que o Brasil tem muitas belezas naturais, mas não indica nenhum exemplo. Embora a passagem indique que artigo vai falar sobre lugares para passear no Brasil, o trecho apresentado não lista nenhum lugar específico para passear no Brasil.'}, {'role': 'user', 'content': 'Passagem: \"Desta forma, este trabalho teve como objetivo relatar as influências dos povos que formaram o Brasil na gastronomia, com foco específico sobre a região Nordeste. O artigo foi realizado através de pesquisa bibliográfica, onde foram consultados livros, artigos e sites na internet que tratavam do presente assunto. Palavras-chave : Culinária do Nordeste.\"\\nPergunta: \"Qual a principal influência na culinária da região nordeste do brasil?\"'}]\n",
      "\n",
      "\n",
      "Pontuação: 7; Razão: a passagem responde à pergunta de forma clara, indicando que o objetivo do trabalho é relatar as influências dos povos que formaram o Brasil na gastronomia, com foco específico na região Nordeste. No entanto, a passagem não indica qual é a principal influência na culinária da região Nordeste.\n",
      "\n",
      "LLM document aggregation duration: 2.8038220405578613\n",
      "\n",
      "\n",
      "++++++++++++++++++++++++++\n",
      "Passagem: \"10 receitas que celebram a culinária afro-brasileira - Casa e Jardim | Receitas Receitas 10 receitas que celebram a culinária afro-brasileira A culinária africana exerce uma forte influência na cozinha do Brasil, principalmente na nordestina 2 min de leitura Por Fernanda Drumond 26 Out 2021 - 07h02 Atualizado em 26 Out 2021 - 07h02 Confira alguns pratos da culinária afro-brasileira de dar água na boca (Foto: Casa e Jardim / Reprodução) Salvar A culinária brasileira é uma mistura de influências de diversas regiões do mundo somadas aos temperos e ingredientes usados pelos indígenas. Contudo, existe uma cultura que possui uma influência especial na cozinha do Brasil, principalmente na nordestina. Muitos elementos da gastronomia africana foram incorporados aos pratos consumidos todos os dias nas casas tupiniquins, criando uma culinária afro-brasileira que se tornou muito tradicional no país.\"\n",
      "Pergunta: \"Qual a principal influência na culinária da região nordeste do brasil?\"\n",
      "++++++++++++++++++++++++++\n",
      "\n",
      "\n",
      "[{'role': 'system', 'content': 'Você avalia se uma passagem de texto responde a uma pergunta, indicando uma pontuação de 0 à 10, onde 0 indica que a passagem não responde e 10 que a passagem responde de forma correta e clara. Você desconsidera informações que o texto diz que vai apresentar mas não apresenta.'}, {'role': 'user', 'content': 'Exemplo 1:\\nPassagem: \"O cirurgião faz uma incisão no quadril, remove a articulação do quadril danificada e a substitui por uma articulação artificial que é uma liga metálica ou, em alguns casos, cerâmica. A cirurgia geralmente leva cerca de 60 a 90 minutos para ser concluída.\"\\nPergunta: de que metal são feitas as próteses de quadril?\"'}, {'role': 'assistant', 'content': 'Pontuação: 2; Razão: não responde a pergunta de forma clara, pois apenas indica indiretamente que a prótese pode ser de uma liga metálica, mas não explicita quais metais. O assunto da passagem é sobre cirurgia de colocação de prótese que, embora relacionado, não é diretamente o assunto da pergunta.'}, {'role': 'user', 'content': 'Exemplo 2:\\nPassagem: \"Vanessa Redgrave nasceu em 30 de janeiro de 1937 em Londres. Ela fará falta, mas não será esquecida. Centenas de fãs imediatamente começaram a escrever suas mensagens de condolências na página do Facebook, expressando sua tristeza pela morte da talentosa atriz de 79 anos.\"\\nPergunta: \"quantos anos tem vanessa redgrave?\"'}, {'role': 'assistant', 'content': 'Pontuação: 8; Razão: a passagem responde a idade que Vanessa Redgrave tinha quando faleceu em 2016, informação que exige que o leitor faça o cálculo entre a idade da atriz e o seu ano de nascimento.'}, {'role': 'user', 'content': 'Exemplo 3:\\nPassagem: \"O Brasil possui muitas belezas naturais. Neste artigo vamos indicar os melhores lugares para passear no Brasil.\"\\nPergunta: \"Onde passear no Brasil?\"'}, {'role': 'assistant', 'content': 'Pontuação: 1; Razão: a passagem apenas indica que o Brasil tem muitas belezas naturais, mas não indica nenhum exemplo. Embora a passagem indique que artigo vai falar sobre lugares para passear no Brasil, o trecho apresentado não lista nenhum lugar específico para passear no Brasil.'}, {'role': 'user', 'content': 'Passagem: \"10 receitas que celebram a culinária afro-brasileira - Casa e Jardim | Receitas Receitas 10 receitas que celebram a culinária afro-brasileira A culinária africana exerce uma forte influência na cozinha do Brasil, principalmente na nordestina 2 min de leitura Por Fernanda Drumond 26 Out 2021 - 07h02 Atualizado em 26 Out 2021 - 07h02 Confira alguns pratos da culinária afro-brasileira de dar água na boca (Foto: Casa e Jardim / Reprodução) Salvar A culinária brasileira é uma mistura de influências de diversas regiões do mundo somadas aos temperos e ingredientes usados pelos indígenas. Contudo, existe uma cultura que possui uma influência especial na cozinha do Brasil, principalmente na nordestina. Muitos elementos da gastronomia africana foram incorporados aos pratos consumidos todos os dias nas casas tupiniquins, criando uma culinária afro-brasileira que se tornou muito tradicional no país.\"\\nPergunta: \"Qual a principal influência na culinária da região nordeste do brasil?\"'}]\n"
     ]
    },
    {
     "name": "stdout",
     "output_type": "stream",
     "text": [
      "\n",
      "\n",
      "Pontuação: 10; Razão: a passagem responde de forma clara e direta que a culinária africana é a principal influência na culinária da região nordeste do Brasil. A passagem também fornece informações adicionais sobre a culinária afro-brasileira.\n",
      "\n",
      "LLM document aggregation duration: 2.2454452514648438\n",
      "\n",
      "\n",
      "++++++++++++++++++++++++++\n",
      "Passagem: \"A influência indígena é também forte no folclore do interior brasileiro, povoado de seres fantásticos como o curupira, o saci-pererê, o boitatá e a iara, entre outros. Na culinária brasileira, a mandioca, a erva-mate, o açaí, a jabuticaba, inúmeros pescados e outros frutos da terra, além de pratos como os pirões, entraram na alimentação brasileira por influência da culinária indígena no Brasil. Essa influência se faz mais forte em certas regiões do país, em que esses grupos conseguiram se manter mais distantes da ação colonizadora, principalmente em porções da Região Norte do Brasil .\"\n",
      "Pergunta: \"Qual a principal influência na culinária da região nordeste do brasil?\"\n",
      "++++++++++++++++++++++++++\n",
      "\n",
      "\n",
      "[{'role': 'system', 'content': 'Você avalia se uma passagem de texto responde a uma pergunta, indicando uma pontuação de 0 à 10, onde 0 indica que a passagem não responde e 10 que a passagem responde de forma correta e clara. Você desconsidera informações que o texto diz que vai apresentar mas não apresenta.'}, {'role': 'user', 'content': 'Exemplo 1:\\nPassagem: \"O cirurgião faz uma incisão no quadril, remove a articulação do quadril danificada e a substitui por uma articulação artificial que é uma liga metálica ou, em alguns casos, cerâmica. A cirurgia geralmente leva cerca de 60 a 90 minutos para ser concluída.\"\\nPergunta: de que metal são feitas as próteses de quadril?\"'}, {'role': 'assistant', 'content': 'Pontuação: 2; Razão: não responde a pergunta de forma clara, pois apenas indica indiretamente que a prótese pode ser de uma liga metálica, mas não explicita quais metais. O assunto da passagem é sobre cirurgia de colocação de prótese que, embora relacionado, não é diretamente o assunto da pergunta.'}, {'role': 'user', 'content': 'Exemplo 2:\\nPassagem: \"Vanessa Redgrave nasceu em 30 de janeiro de 1937 em Londres. Ela fará falta, mas não será esquecida. Centenas de fãs imediatamente começaram a escrever suas mensagens de condolências na página do Facebook, expressando sua tristeza pela morte da talentosa atriz de 79 anos.\"\\nPergunta: \"quantos anos tem vanessa redgrave?\"'}, {'role': 'assistant', 'content': 'Pontuação: 8; Razão: a passagem responde a idade que Vanessa Redgrave tinha quando faleceu em 2016, informação que exige que o leitor faça o cálculo entre a idade da atriz e o seu ano de nascimento.'}, {'role': 'user', 'content': 'Exemplo 3:\\nPassagem: \"O Brasil possui muitas belezas naturais. Neste artigo vamos indicar os melhores lugares para passear no Brasil.\"\\nPergunta: \"Onde passear no Brasil?\"'}, {'role': 'assistant', 'content': 'Pontuação: 1; Razão: a passagem apenas indica que o Brasil tem muitas belezas naturais, mas não indica nenhum exemplo. Embora a passagem indique que artigo vai falar sobre lugares para passear no Brasil, o trecho apresentado não lista nenhum lugar específico para passear no Brasil.'}, {'role': 'user', 'content': 'Passagem: \"A influência indígena é também forte no folclore do interior brasileiro, povoado de seres fantásticos como o curupira, o saci-pererê, o boitatá e a iara, entre outros. Na culinária brasileira, a mandioca, a erva-mate, o açaí, a jabuticaba, inúmeros pescados e outros frutos da terra, além de pratos como os pirões, entraram na alimentação brasileira por influência da culinária indígena no Brasil. Essa influência se faz mais forte em certas regiões do país, em que esses grupos conseguiram se manter mais distantes da ação colonizadora, principalmente em porções da Região Norte do Brasil .\"\\nPergunta: \"Qual a principal influência na culinária da região nordeste do brasil?\"'}]\n",
      "\n",
      "\n",
      "Pontuação: 0; Razão: a passagem fala sobre a influência indígena na culinária brasileira, mas não especifica qual é a principal influência na culinária da região nordeste do Brasil. Além disso, a passagem destaca que a influência indígena é mais forte em certas regiões do país, principalmente na Região Norte.\n",
      "\n",
      "LLM document aggregation duration: 3.4811627864837646\n",
      "\n",
      "\n",
      "++++++++++++++++++++++++++\n",
      "Passagem: \"A influência indígena é também forte no folclore do interior brasileiro, povoado de seres fantásticos como o curupira, o saci-pererê, o boitatá e a iara, entre outros. Na culinária brasileira, a mandioca, a erva-mate, o açaí, a jabuticaba, inúmeros pescados e outros frutos da terra, além de pratos como os pirões, entraram na alimentação brasileira por influência da culinária indígena no Brasil. Essa influência se faz mais forte em certas regiões do país, em que esses grupos conseguiram se manter mais distantes da ação colonizadora, principalmente em porções da Região Norte do Brasil.\"\n",
      "Pergunta: \"Qual a principal influência na culinária da região nordeste do brasil?\"\n",
      "++++++++++++++++++++++++++\n",
      "\n",
      "\n",
      "[{'role': 'system', 'content': 'Você avalia se uma passagem de texto responde a uma pergunta, indicando uma pontuação de 0 à 10, onde 0 indica que a passagem não responde e 10 que a passagem responde de forma correta e clara. Você desconsidera informações que o texto diz que vai apresentar mas não apresenta.'}, {'role': 'user', 'content': 'Exemplo 1:\\nPassagem: \"O cirurgião faz uma incisão no quadril, remove a articulação do quadril danificada e a substitui por uma articulação artificial que é uma liga metálica ou, em alguns casos, cerâmica. A cirurgia geralmente leva cerca de 60 a 90 minutos para ser concluída.\"\\nPergunta: de que metal são feitas as próteses de quadril?\"'}, {'role': 'assistant', 'content': 'Pontuação: 2; Razão: não responde a pergunta de forma clara, pois apenas indica indiretamente que a prótese pode ser de uma liga metálica, mas não explicita quais metais. O assunto da passagem é sobre cirurgia de colocação de prótese que, embora relacionado, não é diretamente o assunto da pergunta.'}, {'role': 'user', 'content': 'Exemplo 2:\\nPassagem: \"Vanessa Redgrave nasceu em 30 de janeiro de 1937 em Londres. Ela fará falta, mas não será esquecida. Centenas de fãs imediatamente começaram a escrever suas mensagens de condolências na página do Facebook, expressando sua tristeza pela morte da talentosa atriz de 79 anos.\"\\nPergunta: \"quantos anos tem vanessa redgrave?\"'}, {'role': 'assistant', 'content': 'Pontuação: 8; Razão: a passagem responde a idade que Vanessa Redgrave tinha quando faleceu em 2016, informação que exige que o leitor faça o cálculo entre a idade da atriz e o seu ano de nascimento.'}, {'role': 'user', 'content': 'Exemplo 3:\\nPassagem: \"O Brasil possui muitas belezas naturais. Neste artigo vamos indicar os melhores lugares para passear no Brasil.\"\\nPergunta: \"Onde passear no Brasil?\"'}, {'role': 'assistant', 'content': 'Pontuação: 1; Razão: a passagem apenas indica que o Brasil tem muitas belezas naturais, mas não indica nenhum exemplo. Embora a passagem indique que artigo vai falar sobre lugares para passear no Brasil, o trecho apresentado não lista nenhum lugar específico para passear no Brasil.'}, {'role': 'user', 'content': 'Passagem: \"A influência indígena é também forte no folclore do interior brasileiro, povoado de seres fantásticos como o curupira, o saci-pererê, o boitatá e a iara, entre outros. Na culinária brasileira, a mandioca, a erva-mate, o açaí, a jabuticaba, inúmeros pescados e outros frutos da terra, além de pratos como os pirões, entraram na alimentação brasileira por influência da culinária indígena no Brasil. Essa influência se faz mais forte em certas regiões do país, em que esses grupos conseguiram se manter mais distantes da ação colonizadora, principalmente em porções da Região Norte do Brasil.\"\\nPergunta: \"Qual a principal influência na culinária da região nordeste do brasil?\"'}]\n",
      "\n",
      "\n",
      "Pontuação: 0; Razão: a passagem fala sobre a influência indígena na culinária brasileira, mas não especifica qual é a principal influência na culinária da região nordeste do Brasil. Além disso, a passagem destaca que a influência indígena é mais forte em certas regiões do país, principalmente na Região Norte.\n",
      "\n",
      "LLM document aggregation duration: 2.906510829925537\n",
      "\n",
      "\n",
      "Total cost: 0.017432; total duration: 25.60363745689392\n"
     ]
    }
   ],
   "source": [
    "relevance_evaluation(BM25_RETRIEVAL_FOLDER, BM25_QUERY_EVALUATION_FOLDER, starting_position=10, ending_position=20, which_query=73)"
   ]
  },
  {
   "cell_type": "code",
   "execution_count": null,
   "id": "fd995751",
   "metadata": {},
   "outputs": [],
   "source": []
  }
 ],
 "metadata": {
  "kernelspec": {
   "display_name": "Python 3",
   "language": "python",
   "name": "python3"
  },
  "language_info": {
   "codemirror_mode": {
    "name": "ipython",
    "version": 3
   },
   "file_extension": ".py",
   "mimetype": "text/x-python",
   "name": "python",
   "nbconvert_exporter": "python",
   "pygments_lexer": "ipython3",
   "version": "3.8.16"
  }
 },
 "nbformat": 4,
 "nbformat_minor": 5
}
