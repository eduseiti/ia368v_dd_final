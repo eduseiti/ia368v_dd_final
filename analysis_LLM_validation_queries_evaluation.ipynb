{
 "cells": [
  {
   "cell_type": "code",
   "execution_count": 1,
   "id": "714d2a76",
   "metadata": {},
   "outputs": [],
   "source": [
    "import pandas as pd\n",
    "import numpy as np\n",
    "import os\n",
    "\n",
    "import matplotlib.pyplot as plt"
   ]
  },
  {
   "cell_type": "code",
   "execution_count": 2,
   "id": "d3346a44",
   "metadata": {},
   "outputs": [],
   "source": [
    "pd.set_option('display.max_colwidth', None)\n",
    "pd.set_option('display.max_rows', 200)"
   ]
  },
  {
   "cell_type": "code",
   "execution_count": 3,
   "id": "ad1c7f32",
   "metadata": {},
   "outputs": [],
   "source": [
    "LLM_EVALUATIONS_FILENAME=\"retrieval_pipelines/LLM_top_001_gpt-4_validation_queries_evaluation_20230628_191254.tsv\"\n",
    "\n",
    "GPT3_EVALUATIONS_FILENAME=\"retrieval_pipelines/LLM_top_001_gpt-3.5-turbo_validation_queries_evaluation_20230628_184757.tsv\"\n",
    "\n",
    "LLM_EVALUATIONS_FOLDER=\"retrieval_pipelines\""
   ]
  },
  {
   "cell_type": "code",
   "execution_count": 4,
   "id": "b75f2b3c",
   "metadata": {},
   "outputs": [],
   "source": [
    "llm_df = pd.read_csv(LLM_EVALUATIONS_FILENAME, sep='\\t')"
   ]
  },
  {
   "cell_type": "code",
   "execution_count": 5,
   "id": "207e6e91",
   "metadata": {
    "scrolled": true
   },
   "outputs": [
    {
     "data": {
      "text/html": [
       "<div>\n",
       "<style scoped>\n",
       "    .dataframe tbody tr th:only-of-type {\n",
       "        vertical-align: middle;\n",
       "    }\n",
       "\n",
       "    .dataframe tbody tr th {\n",
       "        vertical-align: top;\n",
       "    }\n",
       "\n",
       "    .dataframe thead th {\n",
       "        text-align: right;\n",
       "    }\n",
       "</style>\n",
       "<table border=\"1\" class=\"dataframe\">\n",
       "  <thead>\n",
       "    <tr style=\"text-align: right;\">\n",
       "      <th></th>\n",
       "      <th>Unnamed: 0</th>\n",
       "      <th>score</th>\n",
       "      <th>reasoning</th>\n",
       "      <th>usage</th>\n",
       "      <th>cost</th>\n",
       "      <th>duration</th>\n",
       "      <th>query_text</th>\n",
       "      <th>colbertx_id</th>\n",
       "      <th>doc_text</th>\n",
       "      <th>mt5_score</th>\n",
       "      <th>colbertx_score</th>\n",
       "      <th>bm25_score</th>\n",
       "    </tr>\n",
       "  </thead>\n",
       "  <tbody>\n",
       "    <tr>\n",
       "      <th>0</th>\n",
       "      <td>00_clueweb22-pt0000-55-02859_2</td>\n",
       "      <td>0</td>\n",
       "      <td>a passagem não responde à pergunta. Ela descreve as características da fauna e da flora de alguns biomas específicos do Brasil, mas não fornece uma resposta sobre qual é a maior característica da flora brasileira em geral.</td>\n",
       "      <td>{'prompt_tokens': 819, 'completion_tokens': 61, 'total_tokens': 880}</td>\n",
       "      <td>0.02823</td>\n",
       "      <td>4.419158</td>\n",
       "      <td>Qual a maior característica da flora brasileira?</td>\n",
       "      <td>5114489</td>\n",
       "      <td>Fauna e flora brasileirasNo Brasil, a fauna e a flora estão divididas entre os seis biomas predominantes no país. Algumas espécies de plantas e animais estão presentes em mais de um bioma, outras, por sua vez, são específicas de um ecossistema.Veja as principais características da fauna e da flora nos biomas brasileiros:Fauna e flora do CerradoFauna do Cerrado - Mais de 300 mil espécies de animais, dos quais se destacam, além do tamanduá-bandeira, o lobo-guará, a águia-cinzenta e a jaguatirica, ambos ameaçados de extinção.Flora do Cerrado - Vegetação rasteira e árvores esparsas de médio e pequeno porte, com folhas grossas e raízes profundas. Cerca de 4 mil espécies de plantas existentes no cerrado são endêmicas, ou seja, só se desenvolvem nesse local.As queimadas e o tráfico de animais são obstáculos para a preservação do bioma.Veja também: C errado.Fauna e flora da CaatingaFauna da Caatinga - diversas espécies de mamíferos, lagartos, peixes e aves (como a famosa asa-branca cantada por Luís Gonzaga).Flora da Caatinga - Vegetação resistente ao solo do semiárido brasileiro. Algumas espécies possuem sua própria reserva de água para os períodos de seca. Diversas espécies de cactáceas, arbustos e vegetação rasteira.Veja também:Caatinga.Fauna e flora do Pantanal</td>\n",
       "      <td>-0.010127</td>\n",
       "      <td>3.749638</td>\n",
       "      <td>NaN</td>\n",
       "    </tr>\n",
       "    <tr>\n",
       "      <th>1</th>\n",
       "      <td>01_clueweb22-pt0001-22-15255_0</td>\n",
       "      <td>10</td>\n",
       "      <td>a passagem responde claramente à pergunta, indicando que a maior característica da fauna brasileira é a sua diversidade, sendo provavelmente a que possui a maior diversidade em espécies de animais vertebrados, anfíbios e primatas do globo terrestre. Além disso, a passagem fornece detalhes adicionais sobre a diversidade de espécies no Brasil.</td>\n",
       "      <td>{'prompt_tokens': 779, 'completion_tokens': 100, 'total_tokens': 879}</td>\n",
       "      <td>0.02937</td>\n",
       "      <td>6.509689</td>\n",
       "      <td>Qual a maior característica da fauna brasileira?</td>\n",
       "      <td>38724</td>\n",
       "      <td>Fauna do Brasil - Toda MatériaBiologia›ZoologiaFauna do BrasilA fauna do Brasil é provavelmente a que possui a maior diversidade em espécies de animais vertebrados, anfíbios e primatas do globo terrestre.Existem três vezes mais espécies de peixes de água doce no Brasil do que em qualquer lugar no mundo. As aves também são muito variadas, colocando o Brasil como o país com a maior variedade de espécies na América do Sul e o terceiro do mundo em espécies de mamíferos.De igual modo, a Floresta Atlântica está entre as cinco regiões do planeta com mais espécies nativas, das quais 17% são aves e 10% são anfíbios e mamíferos encontrados somente na fauna brasileira. Vale citar que os animais da fauna brasileira são, via de regra, de pequeno porte.A importância científica da fauna brasileira é indescritível, pois contém a maior biodiversidade do mundo (cerca de 100 mil espécies de invertebrados, 8200 espécies vertebrados (713 mamíferos, 1826 aves, 721 répteis, 875 anfíbios, 2800 peixes continentais e 1300 peixes marinhos) das quais 627 já estão na lista negra das espécies ameaçadas de extinção (394 espécies terrestres e 233 espécies aquáticas).</td>\n",
       "      <td>-0.009462</td>\n",
       "      <td>NaN</td>\n",
       "      <td>NaN</td>\n",
       "    </tr>\n",
       "    <tr>\n",
       "      <th>2</th>\n",
       "      <td>02_clueweb22-pt0001-73-10674_5</td>\n",
       "      <td>10</td>\n",
       "      <td>a passagem responde claramente à pergunta, indicando que as federações ou associações nacionais do Suriname e da Guiana estão afiliadas à CONCACAF, e não à CONMEBOL.</td>\n",
       "      <td>{'prompt_tokens': 848, 'completion_tokens': 59, 'total_tokens': 907}</td>\n",
       "      <td>0.02898</td>\n",
       "      <td>4.429005</td>\n",
       "      <td>Por que os países Guiana e Suriname não são filiados a Conmebol?</td>\n",
       "      <td>5590110</td>\n",
       "      <td>Dez associações nacionais de futebol pertencem à CONMEBOL, representando todos os estados independentes da América do Sul, exceto as federações ou associações nacionais do Suriname, da Guiana e da Guiana Francesa que estão afiliadas à CONCACAF (destas três, apenas as duas primeiras são afiliadas à FIFA ). Embora as Ilhas Malvinas possam ter sua própria seleção nacional como outros territórios ultramarinos britânicos (Ilhas Virgens Britânicas, Gibraltar, Anguilla e muitas outras), eles nunca foram membros da CONMEBOL já que seus países membros apoiam a Argentina no conflito com o Reino Unido sobre a soberania do arquipélago.Membros afiliadosPaísAssociaçãoFundaçãoAfiliaçãoSeleção nacionalPrimeira divisãoArgentinaAFA18931916ARG (M, F )Primera DivisiónBolíviaFBF19251926BOL (M, F )División ProfesionalBrasilCBF19141916BRA (M, F )Série AChileFFC18951916CHI (M, F )Primera DivisiónColômbiaFCF19241936COL (M, F )Primera AEquadorFEF19251927ECU (M, F )Serie AParaguaiAPF19061921PAR (M, F )División ProfesionalPeruFPF19221925PER (M, F )Primera DivisiónUruguaiAUF19001916URU (M, F )Primera DivisiónVenezuelaFVF19261952VEN (M, F )Primera DivisiónCompetições organizadasClubesFutebolCompetiçãoEdição atualÚltima ediçãoAtual campeãoConmebol Libertadores20222021Palmeiras (3º título)</td>\n",
       "      <td>-0.038362</td>\n",
       "      <td>NaN</td>\n",
       "      <td>18.749201</td>\n",
       "    </tr>\n",
       "    <tr>\n",
       "      <th>3</th>\n",
       "      <td>03_clueweb22-pt0001-51-10267_21</td>\n",
       "      <td>0</td>\n",
       "      <td>a passagem não responde à pergunta. Ela apenas afirma que a Bolívia tem duas capitais e descreve algumas atrações turísticas em cada uma delas, mas não explica por que a Bolívia tem duas capitais.</td>\n",
       "      <td>{'prompt_tokens': 760, 'completion_tokens': 64, 'total_tokens': 824}</td>\n",
       "      <td>0.02664</td>\n",
       "      <td>4.663002</td>\n",
       "      <td>Por que a Bolívia tem duas capitais?</td>\n",
       "      <td>9639035</td>\n",
       "      <td>Bolívia tem duas capitais: La Paz, a sede administrativa, e Sucre, a sede constitucional. Com um belo centro histórico e suas construções tipicamente brancas, a charmosa Sucre ganhou o título de “La Ciudad Blanca”.Visite a Casa de la Libertad, onde Simón Bolívar fundou a República, o Museu de Arte Indígena, o Museu La Recoleta, um convento franciscano que guarda muita história, o Castillo de La Glorieta, um castelo do século 19, e o Parque Cretácico, onde estão expostas pegadas de dinossauros, além das diversas igrejas que adornam a cidade.43. Buenos Aires, ArgentinaAbsolut TurismoBeleza arquitetônica, sofisticação, cultura e deliciosa gastronomia são algumas das coisas que você encontra em Buenos Aires, uma das cidades estrangeiras mais visitadas pelos brasileiros.Na capital da Argentina, você encontra construções de estilo europeu, mesas de cafés nas calçadas, shows de tango em plenas ruas, belos parques e bairros emblemáticos, como o Puerto Madero, que só tem ruas com nomes de mulheres, e o La Boca, com suas casas bastante coloridas. Aproveite para conhecer diversos museus, cassinos, teatros e muito mais.44. Parque Nacional Iguazú, ArgentinaFlickr</td>\n",
       "      <td>-0.012176</td>\n",
       "      <td>NaN</td>\n",
       "      <td>NaN</td>\n",
       "    </tr>\n",
       "    <tr>\n",
       "      <th>4</th>\n",
       "      <td>04_clueweb22-pt0000-74-01583_6</td>\n",
       "      <td>9</td>\n",
       "      <td>a passagem fornece uma explicação clara e direta do que é decolonialidade, embora não seja a primeira coisa mencionada. A passagem explica que a decolonialidade é o processo que busca transcender historicamente a colonialidade e é um projeto mais profundo e uma tarefa urgente para subverter o padrão de poder colonial.</td>\n",
       "      <td>{'prompt_tokens': 728, 'completion_tokens': 88, 'total_tokens': 816}</td>\n",
       "      <td>0.02712</td>\n",
       "      <td>5.754965</td>\n",
       "      <td>Qual o que significa decolonialidade?</td>\n",
       "      <td>7900250</td>\n",
       "      <td>“Eduardo Restrepo e Axel Rojas explicam que, da mesma forma que é preciso fazer uma distinção analítica entre colonialismo e colonialidade, não se deve também confundir descolonização com decolonialidade. Por descolonização entende-se o processo de superação do colonialismo, geralmente associado às lutas anticoloniais no marco dos Estados que resultaram na independência política das antigas colônias. A decolonialidade refere-se ao processo que busca transcender historicamente a colonialidade e, de acordo com estes autores, supõe um projeto com um projeto mais profundo e uma tarefa urgente para o nosso presente de subversão do padrão de poder colonial (2010, p. 16 – 17). Nesta tese, adota-se a expressão descolonização (em itálico) no sentido de decolonialidade, pois é a expressão usada pelo movimento indígena de alguns países da América Latina e que aparece na Constituição Política do Estado Plurinacional da Bolívia de 2009.  Para se referir ao processo histórico de independência dos países Latinoamericanos que teve início no final do século XVIII e na África e Ásia ao longo do século XX, usamos o termo descolonização sem o itálico. “</td>\n",
       "      <td>-0.055227</td>\n",
       "      <td>NaN</td>\n",
       "      <td>NaN</td>\n",
       "    </tr>\n",
       "    <tr>\n",
       "      <th>...</th>\n",
       "      <td>...</td>\n",
       "      <td>...</td>\n",
       "      <td>...</td>\n",
       "      <td>...</td>\n",
       "      <td>...</td>\n",
       "      <td>...</td>\n",
       "      <td>...</td>\n",
       "      <td>...</td>\n",
       "      <td>...</td>\n",
       "      <td>...</td>\n",
       "      <td>...</td>\n",
       "      <td>...</td>\n",
       "    </tr>\n",
       "    <tr>\n",
       "      <th>287</th>\n",
       "      <td>40_clueweb22-pt0000-35-01990_1</td>\n",
       "      <td>0</td>\n",
       "      <td>a passagem não responde à pergunta. Ela fala sobre a história do tênis e alguns fatos relacionados, mas não menciona nada sobre a quantidade de bolinhas de tênis utilizadas numa partida de tênis numa competição internacional.</td>\n",
       "      <td>{'prompt_tokens': 780, 'completion_tokens': 66, 'total_tokens': 846}</td>\n",
       "      <td>0.02736</td>\n",
       "      <td>3.030726</td>\n",
       "      <td>Quantas bolinhas de tênis são utilizadas numa partida de tênis numa competição internacional?</td>\n",
       "      <td>5523129</td>\n",
       "      <td>O Tênis foi inspirado em um outro jogo que era bastante praticado nos castelos franceses no século XIII, chamado Jeu de Paume . A partir de 1889, o esporte passou a ser praticado no Brasil, trazido por um britânico. Clubes de tênis começaram a abrir no Rio de Janeiro, São Paulo e Rio Grande do Sul, se espalhando por todo o país. O nome de maior destaque no tênis brasileiro é Gustavo Kuerten (Guga), tricampeão do Roland Garros, um dos torneios mais importantes da categoria.10. AtletismoPraticantes de atletismo no Brasil: 2,1 milhõesO atletismo é um dos esportes mais antigos do mundo, com raízes na China, Egito e Grécia, onde a primeira competição oficial de atletismo aconteceu em 776 a.C.Hoje, o esporte é dividido em seis provas diferentes: Corridas, Marcha atlética, Revezamentos, Saltos, Arremesso e Lançamentos e Combinada.No Brasil, o atletismo teve início por volta de 1880 e um dos atletas que marcou a história do esporte foi Adhemar Ferreira da Silva que conquistou o primeiro ouro na categoria salto triplo nos Jogos Olímpicos da Finlândia, em 1952.9. JudôPraticantes de judô no Brasil: 2,2 milhões</td>\n",
       "      <td>NaN</td>\n",
       "      <td>-1.748370</td>\n",
       "      <td>NaN</td>\n",
       "    </tr>\n",
       "    <tr>\n",
       "      <th>288</th>\n",
       "      <td>98_clueweb22-pt0001-10-19784_28</td>\n",
       "      <td>0</td>\n",
       "      <td>a passagem não responde à pergunta. A passagem é sobre um estudo que avalia empresas humanizadas no Brasil, enquanto a pergunta é sobre os critérios de classificação para a Copa do Brasil, que é um torneio de futebol. Os temas são completamente diferentes.</td>\n",
       "      <td>{'prompt_tokens': 753, 'completion_tokens': 73, 'total_tokens': 826}</td>\n",
       "      <td>0.02697</td>\n",
       "      <td>4.175394</td>\n",
       "      <td>Qual o critério para classificação para a Copa do Brasil?</td>\n",
       "      <td>2062013</td>\n",
       "      <td>Julio (2019), em seu estudo, frisa que, apenas no ano de 2019, aproximadamente vinte e duas (22) empresas foram analisadas a partir de três critérios basilares, sendo elas a geração de valor financeiro, a sustentabilidade e o bem-estar social. Essa pesquisa teve como escopo principal analisar, e, consequentemente, avaliar o quão humanizadas eram as organizações consideradas pelo estudo em questão. Ela foi divulgada durante o bem-estar social. A pesquisa foi divulgada durante o “Capitalismo Consciente Latin-American Conference 2019”. O estudo apontou que, em períodos longos, de quatro a dezesseis anos de análise, as empresas tidas como humanizadas chegam a ter uma rentabilidade que é duas ou mais vezes superior à média das quinhentas maiores empresas do país. A pesquisa elencou, ainda, as vinte e duas empresas mais humanizadas no Brasil, sendo elas:Braile Biomédica;Bancoob;Cacau Show;Cielo;ClearSale;Elo7;Fazenda da Toca Orgânicos;Hospital Israelita Albert Einstein;JactoJohnson &amp; Johnson;Klabin;Malwee;Mercos;Multiplus;Natura;O Boticário;Raccon;Reserva;Tetra Park;Unidas;Unilever;</td>\n",
       "      <td>NaN</td>\n",
       "      <td>-0.901905</td>\n",
       "      <td>NaN</td>\n",
       "    </tr>\n",
       "    <tr>\n",
       "      <th>289</th>\n",
       "      <td>37_clueweb22-pt0001-61-10814_262</td>\n",
       "      <td>0</td>\n",
       "      <td>a passagem não tem nenhuma relação com a pergunta. A passagem fala sobre espécies de aves prejudiciais e espécies invasoras, enquanto a pergunta é sobre como fazer um risoto de camarão.</td>\n",
       "      <td>{'prompt_tokens': 834, 'completion_tokens': 61, 'total_tokens': 895}</td>\n",
       "      <td>0.02868</td>\n",
       "      <td>2.977686</td>\n",
       "      <td>Como fazer um risoto de camarão?</td>\n",
       "      <td>703992</td>\n",
       "      <td>Espécies de aves prejudiciais (a que se refere o n.º 1 do artigo 63.º)Espécies cuja captura ou abate é permitida nas condições fixadas no artigo  63.º:a) Columba livia Gmelin, 1789 - pombo-comum, pomba;b) Passer domesticus (Linnaeus, 1758) - pardal;c) Larus michahellis atlantis Clements, 1991 (= L. cachinnans) - gaivota,  gaivota-de-pernas-amarelas.ANEXO IXLista das espécies da fauna e flora invasora ou com risco ecológico conhecido  (a que se refere o n.º 1 do artigo 84.º)Interpretação1 - A sigla T100 após o nome da espécie significa que o taxon está incluído  entre as cem espécies infestantes da fauna e da flora macaronésica  determinadas como potencialmente mais perigosas no âmbito do projeto  BIONATURA.2 - A letra P antes do nome indica um taxon prioritário para controlo ou  erradicação.3 - A letra R antes do nome indica um taxon com risco ecológico conhecido.A - Mamíferos(ver documento original)B - Aves(ver documento original)C - Ascídias(ver documento original)D - Ectoprocta (Briozoários)(ver documento original)E - Artrópodes(ver documento original)F - Moluscos(ver documento original)G - Algas(ver documento original)H - Plantas(ver documento original)ANEXO XEspécies exóticas com interesse para a arborização (a que se refere o n.º 4 do  artigo 84.º)</td>\n",
       "      <td>NaN</td>\n",
       "      <td>-0.791280</td>\n",
       "      <td>NaN</td>\n",
       "    </tr>\n",
       "    <tr>\n",
       "      <th>290</th>\n",
       "      <td>38_clueweb22-pt0000-74-07580_2</td>\n",
       "      <td>0</td>\n",
       "      <td>a passagem não responde à pergunta. A passagem fala sobre a legislação de agrotóxicos no Brasil, enquanto a pergunta é sobre receitas com 5 ingredientes. Não há relação entre a pergunta e a passagem.</td>\n",
       "      <td>{'prompt_tokens': 711, 'completion_tokens': 64, 'total_tokens': 775}</td>\n",
       "      <td>0.02517</td>\n",
       "      <td>4.607060</td>\n",
       "      <td>Que receitas eu posso fazer com 5 ingredientes?</td>\n",
       "      <td>7914075</td>\n",
       "      <td>O Brasil é um dos países que mais produz e exporta alimentos e sua legislação precisa atender, de forma segura e eficiente, o avanço do setor agropecuário. Há, hoje, mais de 35 novos ingredientes ativos na fila de análise, via de regra mais eficientes e menos nocivos à saúde e ao meio ambiente do que produtos que já estão no mercado. No entanto, o método atual de avaliação e de registro não permite previsibilidade sobre quando os agricultores brasileiros terão acesso a essas novas tecnologias, já disponíveis em diversos países. Dessa forma, diminui-se a competitividade do agricultor brasileiro e há prejuízo quanto à comercialização de seus produtos tanto no mercado interno quanto externo.Na atual lei, existem inconsistências que precisam ser corrigidas. Considera-se como agrotóxicos “os produtos e os agentes de processos físicos, químicos ou biológicos ...”. Assim, produtos biológicos são considerados agrotóxicos, como também o tratamento por água quente em mangas para evitar moscas das frutas. Um produtor que usa somente produtos biológicos, portanto, estaria usando agrotóxico!</td>\n",
       "      <td>NaN</td>\n",
       "      <td>-3.643720</td>\n",
       "      <td>NaN</td>\n",
       "    </tr>\n",
       "    <tr>\n",
       "      <th>291</th>\n",
       "      <td>77_clueweb22-pt0002-02-05013_4</td>\n",
       "      <td>0</td>\n",
       "      <td>a passagem não responde à pergunta. A passagem é sobre política e eleições, enquanto a pergunta é sobre o custo de manutenção de uma mountain bike. Não há nenhuma informação relevante para a pergunta na passagem.</td>\n",
       "      <td>{'prompt_tokens': 797, 'completion_tokens': 65, 'total_tokens': 862}</td>\n",
       "      <td>0.02781</td>\n",
       "      <td>4.732704</td>\n",
       "      <td>Quanto custa para manter uma mountain bike?</td>\n",
       "      <td>4876881</td>\n",
       "      <td>COTAÇÕES: Observadores calculam; o preço do voto em 2022 para deputado federal deve custar R$100,00 cada. Para deputado estadual, o para-choque da campanha, o custo chegará aos R$200,00. Normalmente os vereadores – os melhores cabos eleitorais - não pedem votos gratuitamente. Exigem 50% de entrada do valor combinado e a outra metade antes das eleições. Sem choro e sem vela.SINUCA: Sem cacife para o embate nacional (vide as pesquisas) o ex-ministro Luiz H. Mandetta (DEM) teria outras opções para não voltar ao consultório. Caso o ministro Nelson Trad (PTB) seja candidato ao Governo ele seria candidato ao senado. Mas se o candidato for Marquinhos Trad (PSD) teria que concorrer à deputado estadual para não atrapalhar o deputado Fabio Trad (PSD), candidato a reeleição.PRESTIGIADO: Mandetta é apadrinhado pelo ex-prefeito de Salvador ACM Neto e pelo governador Ronaldo Caiado de Goias – duas figuras fortes do DEM. Daí que na futura fusão do DEM com o PSL, haveria um entendimento para que Mandetta e a senadora Soraya Thronicke possam conviver no partido ‘União Brasil’. Já a ministra Tereza Cristina (DEM) deve se filiar ao PL ou PP. Ela já recebeu a visita do deputado João H. Catan (PL).</td>\n",
       "      <td>NaN</td>\n",
       "      <td>-0.785866</td>\n",
       "      <td>NaN</td>\n",
       "    </tr>\n",
       "  </tbody>\n",
       "</table>\n",
       "<p>292 rows × 12 columns</p>\n",
       "</div>"
      ],
      "text/plain": [
       "                           Unnamed: 0  score  \\\n",
       "0      00_clueweb22-pt0000-55-02859_2      0   \n",
       "1      01_clueweb22-pt0001-22-15255_0     10   \n",
       "2      02_clueweb22-pt0001-73-10674_5     10   \n",
       "3     03_clueweb22-pt0001-51-10267_21      0   \n",
       "4      04_clueweb22-pt0000-74-01583_6      9   \n",
       "..                                ...    ...   \n",
       "287    40_clueweb22-pt0000-35-01990_1      0   \n",
       "288   98_clueweb22-pt0001-10-19784_28      0   \n",
       "289  37_clueweb22-pt0001-61-10814_262      0   \n",
       "290    38_clueweb22-pt0000-74-07580_2      0   \n",
       "291    77_clueweb22-pt0002-02-05013_4      0   \n",
       "\n",
       "                                                                                                                                                                                                                                                                                                                                                   reasoning  \\\n",
       "0                                                                                                                             a passagem não responde à pergunta. Ela descreve as características da fauna e da flora de alguns biomas específicos do Brasil, mas não fornece uma resposta sobre qual é a maior característica da flora brasileira em geral.   \n",
       "1    a passagem responde claramente à pergunta, indicando que a maior característica da fauna brasileira é a sua diversidade, sendo provavelmente a que possui a maior diversidade em espécies de animais vertebrados, anfíbios e primatas do globo terrestre. Além disso, a passagem fornece detalhes adicionais sobre a diversidade de espécies no Brasil.   \n",
       "2                                                                                                                                                                                      a passagem responde claramente à pergunta, indicando que as federações ou associações nacionais do Suriname e da Guiana estão afiliadas à CONCACAF, e não à CONMEBOL.   \n",
       "3                                                                                                                                                       a passagem não responde à pergunta. Ela apenas afirma que a Bolívia tem duas capitais e descreve algumas atrações turísticas em cada uma delas, mas não explica por que a Bolívia tem duas capitais.   \n",
       "4                            a passagem fornece uma explicação clara e direta do que é decolonialidade, embora não seja a primeira coisa mencionada. A passagem explica que a decolonialidade é o processo que busca transcender historicamente a colonialidade e é um projeto mais profundo e uma tarefa urgente para subverter o padrão de poder colonial.   \n",
       "..                                                                                                                                                                                                                                                                                                                                                       ...   \n",
       "287                                                                                                                        a passagem não responde à pergunta. Ela fala sobre a história do tênis e alguns fatos relacionados, mas não menciona nada sobre a quantidade de bolinhas de tênis utilizadas numa partida de tênis numa competição internacional.   \n",
       "288                                                                                         a passagem não responde à pergunta. A passagem é sobre um estudo que avalia empresas humanizadas no Brasil, enquanto a pergunta é sobre os critérios de classificação para a Copa do Brasil, que é um torneio de futebol. Os temas são completamente diferentes.   \n",
       "289                                                                                                                                                                a passagem não tem nenhuma relação com a pergunta. A passagem fala sobre espécies de aves prejudiciais e espécies invasoras, enquanto a pergunta é sobre como fazer um risoto de camarão.   \n",
       "290                                                                                                                                                  a passagem não responde à pergunta. A passagem fala sobre a legislação de agrotóxicos no Brasil, enquanto a pergunta é sobre receitas com 5 ingredientes. Não há relação entre a pergunta e a passagem.   \n",
       "291                                                                                                                                     a passagem não responde à pergunta. A passagem é sobre política e eleições, enquanto a pergunta é sobre o custo de manutenção de uma mountain bike. Não há nenhuma informação relevante para a pergunta na passagem.   \n",
       "\n",
       "                                                                     usage  \\\n",
       "0     {'prompt_tokens': 819, 'completion_tokens': 61, 'total_tokens': 880}   \n",
       "1    {'prompt_tokens': 779, 'completion_tokens': 100, 'total_tokens': 879}   \n",
       "2     {'prompt_tokens': 848, 'completion_tokens': 59, 'total_tokens': 907}   \n",
       "3     {'prompt_tokens': 760, 'completion_tokens': 64, 'total_tokens': 824}   \n",
       "4     {'prompt_tokens': 728, 'completion_tokens': 88, 'total_tokens': 816}   \n",
       "..                                                                     ...   \n",
       "287   {'prompt_tokens': 780, 'completion_tokens': 66, 'total_tokens': 846}   \n",
       "288   {'prompt_tokens': 753, 'completion_tokens': 73, 'total_tokens': 826}   \n",
       "289   {'prompt_tokens': 834, 'completion_tokens': 61, 'total_tokens': 895}   \n",
       "290   {'prompt_tokens': 711, 'completion_tokens': 64, 'total_tokens': 775}   \n",
       "291   {'prompt_tokens': 797, 'completion_tokens': 65, 'total_tokens': 862}   \n",
       "\n",
       "        cost  duration  \\\n",
       "0    0.02823  4.419158   \n",
       "1    0.02937  6.509689   \n",
       "2    0.02898  4.429005   \n",
       "3    0.02664  4.663002   \n",
       "4    0.02712  5.754965   \n",
       "..       ...       ...   \n",
       "287  0.02736  3.030726   \n",
       "288  0.02697  4.175394   \n",
       "289  0.02868  2.977686   \n",
       "290  0.02517  4.607060   \n",
       "291  0.02781  4.732704   \n",
       "\n",
       "                                                                                        query_text  \\\n",
       "0                                                 Qual a maior característica da flora brasileira?   \n",
       "1                                                 Qual a maior característica da fauna brasileira?   \n",
       "2                                 Por que os países Guiana e Suriname não são filiados a Conmebol?   \n",
       "3                                                             Por que a Bolívia tem duas capitais?   \n",
       "4                                                            Qual o que significa decolonialidade?   \n",
       "..                                                                                             ...   \n",
       "287  Quantas bolinhas de tênis são utilizadas numa partida de tênis numa competição internacional?   \n",
       "288                                      Qual o critério para classificação para a Copa do Brasil?   \n",
       "289                                                               Como fazer um risoto de camarão?   \n",
       "290                                                Que receitas eu posso fazer com 5 ingredientes?   \n",
       "291                                                    Quanto custa para manter uma mountain bike?   \n",
       "\n",
       "     colbertx_id  \\\n",
       "0        5114489   \n",
       "1          38724   \n",
       "2        5590110   \n",
       "3        9639035   \n",
       "4        7900250   \n",
       "..           ...   \n",
       "287      5523129   \n",
       "288      2062013   \n",
       "289       703992   \n",
       "290      7914075   \n",
       "291      4876881   \n",
       "\n",
       "                                                                                                                                                                                                                                                                                                                                                                                                                                                                                                                                                                                                                                                                                                                                                                                                                                                                                                                                                                                                                                                                                                                                                                                                                                                                                                                           doc_text  \\\n",
       "0      Fauna e flora brasileirasNo Brasil, a fauna e a flora estão divididas entre os seis biomas predominantes no país. Algumas espécies de plantas e animais estão presentes em mais de um bioma, outras, por sua vez, são específicas de um ecossistema.Veja as principais características da fauna e da flora nos biomas brasileiros:Fauna e flora do CerradoFauna do Cerrado - Mais de 300 mil espécies de animais, dos quais se destacam, além do tamanduá-bandeira, o lobo-guará, a águia-cinzenta e a jaguatirica, ambos ameaçados de extinção.Flora do Cerrado - Vegetação rasteira e árvores esparsas de médio e pequeno porte, com folhas grossas e raízes profundas. Cerca de 4 mil espécies de plantas existentes no cerrado são endêmicas, ou seja, só se desenvolvem nesse local.As queimadas e o tráfico de animais são obstáculos para a preservação do bioma.Veja também: C errado.Fauna e flora da CaatingaFauna da Caatinga - diversas espécies de mamíferos, lagartos, peixes e aves (como a famosa asa-branca cantada por Luís Gonzaga).Flora da Caatinga - Vegetação resistente ao solo do semiárido brasileiro. Algumas espécies possuem sua própria reserva de água para os períodos de seca. Diversas espécies de cactáceas, arbustos e vegetação rasteira.Veja também:Caatinga.Fauna e flora do Pantanal   \n",
       "1                                                                                                                                 Fauna do Brasil - Toda MatériaBiologia›ZoologiaFauna do BrasilA fauna do Brasil é provavelmente a que possui a maior diversidade em espécies de animais vertebrados, anfíbios e primatas do globo terrestre.Existem três vezes mais espécies de peixes de água doce no Brasil do que em qualquer lugar no mundo. As aves também são muito variadas, colocando o Brasil como o país com a maior variedade de espécies na América do Sul e o terceiro do mundo em espécies de mamíferos.De igual modo, a Floresta Atlântica está entre as cinco regiões do planeta com mais espécies nativas, das quais 17% são aves e 10% são anfíbios e mamíferos encontrados somente na fauna brasileira. Vale citar que os animais da fauna brasileira são, via de regra, de pequeno porte.A importância científica da fauna brasileira é indescritível, pois contém a maior biodiversidade do mundo (cerca de 100 mil espécies de invertebrados, 8200 espécies vertebrados (713 mamíferos, 1826 aves, 721 répteis, 875 anfíbios, 2800 peixes continentais e 1300 peixes marinhos) das quais 627 já estão na lista negra das espécies ameaçadas de extinção (394 espécies terrestres e 233 espécies aquáticas).   \n",
       "2    Dez associações nacionais de futebol pertencem à CONMEBOL, representando todos os estados independentes da América do Sul, exceto as federações ou associações nacionais do Suriname, da Guiana e da Guiana Francesa que estão afiliadas à CONCACAF (destas três, apenas as duas primeiras são afiliadas à FIFA ). Embora as Ilhas Malvinas possam ter sua própria seleção nacional como outros territórios ultramarinos britânicos (Ilhas Virgens Britânicas, Gibraltar, Anguilla e muitas outras), eles nunca foram membros da CONMEBOL já que seus países membros apoiam a Argentina no conflito com o Reino Unido sobre a soberania do arquipélago.Membros afiliadosPaísAssociaçãoFundaçãoAfiliaçãoSeleção nacionalPrimeira divisãoArgentinaAFA18931916ARG (M, F )Primera DivisiónBolíviaFBF19251926BOL (M, F )División ProfesionalBrasilCBF19141916BRA (M, F )Série AChileFFC18951916CHI (M, F )Primera DivisiónColômbiaFCF19241936COL (M, F )Primera AEquadorFEF19251927ECU (M, F )Serie AParaguaiAPF19061921PAR (M, F )División ProfesionalPeruFPF19221925PER (M, F )Primera DivisiónUruguaiAUF19001916URU (M, F )Primera DivisiónVenezuelaFVF19261952VEN (M, F )Primera DivisiónCompetições organizadasClubesFutebolCompetiçãoEdição atualÚltima ediçãoAtual campeãoConmebol Libertadores20222021Palmeiras (3º título)   \n",
       "3                                                                                                                  Bolívia tem duas capitais: La Paz, a sede administrativa, e Sucre, a sede constitucional. Com um belo centro histórico e suas construções tipicamente brancas, a charmosa Sucre ganhou o título de “La Ciudad Blanca”.Visite a Casa de la Libertad, onde Simón Bolívar fundou a República, o Museu de Arte Indígena, o Museu La Recoleta, um convento franciscano que guarda muita história, o Castillo de La Glorieta, um castelo do século 19, e o Parque Cretácico, onde estão expostas pegadas de dinossauros, além das diversas igrejas que adornam a cidade.43. Buenos Aires, ArgentinaAbsolut TurismoBeleza arquitetônica, sofisticação, cultura e deliciosa gastronomia são algumas das coisas que você encontra em Buenos Aires, uma das cidades estrangeiras mais visitadas pelos brasileiros.Na capital da Argentina, você encontra construções de estilo europeu, mesas de cafés nas calçadas, shows de tango em plenas ruas, belos parques e bairros emblemáticos, como o Puerto Madero, que só tem ruas com nomes de mulheres, e o La Boca, com suas casas bastante coloridas. Aproveite para conhecer diversos museus, cassinos, teatros e muito mais.44. Parque Nacional Iguazú, ArgentinaFlickr   \n",
       "4                                                                                                                                   “Eduardo Restrepo e Axel Rojas explicam que, da mesma forma que é preciso fazer uma distinção analítica entre colonialismo e colonialidade, não se deve também confundir descolonização com decolonialidade. Por descolonização entende-se o processo de superação do colonialismo, geralmente associado às lutas anticoloniais no marco dos Estados que resultaram na independência política das antigas colônias. A decolonialidade refere-se ao processo que busca transcender historicamente a colonialidade e, de acordo com estes autores, supõe um projeto com um projeto mais profundo e uma tarefa urgente para o nosso presente de subversão do padrão de poder colonial (2010, p. 16 – 17). Nesta tese, adota-se a expressão descolonização (em itálico) no sentido de decolonialidade, pois é a expressão usada pelo movimento indígena de alguns países da América Latina e que aparece na Constituição Política do Estado Plurinacional da Bolívia de 2009.  Para se referir ao processo histórico de independência dos países Latinoamericanos que teve início no final do século XVIII e na África e Ásia ao longo do século XX, usamos o termo descolonização sem o itálico. “   \n",
       "..                                                                                                                                                                                                                                                                                                                                                                                                                                                                                                                                                                                                                                                                                                                                                                                                                                                                                                                                                                                                                                                                                                                                                                                                                                                                                                                              ...   \n",
       "287                                                                                                                                                                    O Tênis foi inspirado em um outro jogo que era bastante praticado nos castelos franceses no século XIII, chamado Jeu de Paume . A partir de 1889, o esporte passou a ser praticado no Brasil, trazido por um britânico. Clubes de tênis começaram a abrir no Rio de Janeiro, São Paulo e Rio Grande do Sul, se espalhando por todo o país. O nome de maior destaque no tênis brasileiro é Gustavo Kuerten (Guga), tricampeão do Roland Garros, um dos torneios mais importantes da categoria.10. AtletismoPraticantes de atletismo no Brasil: 2,1 milhõesO atletismo é um dos esportes mais antigos do mundo, com raízes na China, Egito e Grécia, onde a primeira competição oficial de atletismo aconteceu em 776 a.C.Hoje, o esporte é dividido em seis provas diferentes: Corridas, Marcha atlética, Revezamentos, Saltos, Arremesso e Lançamentos e Combinada.No Brasil, o atletismo teve início por volta de 1880 e um dos atletas que marcou a história do esporte foi Adhemar Ferreira da Silva que conquistou o primeiro ouro na categoria salto triplo nos Jogos Olímpicos da Finlândia, em 1952.9. JudôPraticantes de judô no Brasil: 2,2 milhões   \n",
       "288                                                                                                                                                                                           Julio (2019), em seu estudo, frisa que, apenas no ano de 2019, aproximadamente vinte e duas (22) empresas foram analisadas a partir de três critérios basilares, sendo elas a geração de valor financeiro, a sustentabilidade e o bem-estar social. Essa pesquisa teve como escopo principal analisar, e, consequentemente, avaliar o quão humanizadas eram as organizações consideradas pelo estudo em questão. Ela foi divulgada durante o bem-estar social. A pesquisa foi divulgada durante o “Capitalismo Consciente Latin-American Conference 2019”. O estudo apontou que, em períodos longos, de quatro a dezesseis anos de análise, as empresas tidas como humanizadas chegam a ter uma rentabilidade que é duas ou mais vezes superior à média das quinhentas maiores empresas do país. A pesquisa elencou, ainda, as vinte e duas empresas mais humanizadas no Brasil, sendo elas:Braile Biomédica;Bancoob;Cacau Show;Cielo;ClearSale;Elo7;Fazenda da Toca Orgânicos;Hospital Israelita Albert Einstein;JactoJohnson & Johnson;Klabin;Malwee;Mercos;Multiplus;Natura;O Boticário;Raccon;Reserva;Tetra Park;Unidas;Unilever;   \n",
       "289      Espécies de aves prejudiciais (a que se refere o n.º 1 do artigo 63.º)Espécies cuja captura ou abate é permitida nas condições fixadas no artigo  63.º:a) Columba livia Gmelin, 1789 - pombo-comum, pomba;b) Passer domesticus (Linnaeus, 1758) - pardal;c) Larus michahellis atlantis Clements, 1991 (= L. cachinnans) - gaivota,  gaivota-de-pernas-amarelas.ANEXO IXLista das espécies da fauna e flora invasora ou com risco ecológico conhecido  (a que se refere o n.º 1 do artigo 84.º)Interpretação1 - A sigla T100 após o nome da espécie significa que o taxon está incluído  entre as cem espécies infestantes da fauna e da flora macaronésica  determinadas como potencialmente mais perigosas no âmbito do projeto  BIONATURA.2 - A letra P antes do nome indica um taxon prioritário para controlo ou  erradicação.3 - A letra R antes do nome indica um taxon com risco ecológico conhecido.A - Mamíferos(ver documento original)B - Aves(ver documento original)C - Ascídias(ver documento original)D - Ectoprocta (Briozoários)(ver documento original)E - Artrópodes(ver documento original)F - Moluscos(ver documento original)G - Algas(ver documento original)H - Plantas(ver documento original)ANEXO XEspécies exóticas com interesse para a arborização (a que se refere o n.º 4 do  artigo 84.º)   \n",
       "290                                                                                                                                                                                         O Brasil é um dos países que mais produz e exporta alimentos e sua legislação precisa atender, de forma segura e eficiente, o avanço do setor agropecuário. Há, hoje, mais de 35 novos ingredientes ativos na fila de análise, via de regra mais eficientes e menos nocivos à saúde e ao meio ambiente do que produtos que já estão no mercado. No entanto, o método atual de avaliação e de registro não permite previsibilidade sobre quando os agricultores brasileiros terão acesso a essas novas tecnologias, já disponíveis em diversos países. Dessa forma, diminui-se a competitividade do agricultor brasileiro e há prejuízo quanto à comercialização de seus produtos tanto no mercado interno quanto externo.Na atual lei, existem inconsistências que precisam ser corrigidas. Considera-se como agrotóxicos “os produtos e os agentes de processos físicos, químicos ou biológicos ...”. Assim, produtos biológicos são considerados agrotóxicos, como também o tratamento por água quente em mangas para evitar moscas das frutas. Um produtor que usa somente produtos biológicos, portanto, estaria usando agrotóxico!   \n",
       "291                                                                                    COTAÇÕES: Observadores calculam; o preço do voto em 2022 para deputado federal deve custar R$100,00 cada. Para deputado estadual, o para-choque da campanha, o custo chegará aos R$200,00. Normalmente os vereadores – os melhores cabos eleitorais - não pedem votos gratuitamente. Exigem 50% de entrada do valor combinado e a outra metade antes das eleições. Sem choro e sem vela.SINUCA: Sem cacife para o embate nacional (vide as pesquisas) o ex-ministro Luiz H. Mandetta (DEM) teria outras opções para não voltar ao consultório. Caso o ministro Nelson Trad (PTB) seja candidato ao Governo ele seria candidato ao senado. Mas se o candidato for Marquinhos Trad (PSD) teria que concorrer à deputado estadual para não atrapalhar o deputado Fabio Trad (PSD), candidato a reeleição.PRESTIGIADO: Mandetta é apadrinhado pelo ex-prefeito de Salvador ACM Neto e pelo governador Ronaldo Caiado de Goias – duas figuras fortes do DEM. Daí que na futura fusão do DEM com o PSL, haveria um entendimento para que Mandetta e a senadora Soraya Thronicke possam conviver no partido ‘União Brasil’. Já a ministra Tereza Cristina (DEM) deve se filiar ao PL ou PP. Ela já recebeu a visita do deputado João H. Catan (PL).   \n",
       "\n",
       "     mt5_score  colbertx_score  bm25_score  \n",
       "0    -0.010127        3.749638         NaN  \n",
       "1    -0.009462             NaN         NaN  \n",
       "2    -0.038362             NaN   18.749201  \n",
       "3    -0.012176             NaN         NaN  \n",
       "4    -0.055227             NaN         NaN  \n",
       "..         ...             ...         ...  \n",
       "287        NaN       -1.748370         NaN  \n",
       "288        NaN       -0.901905         NaN  \n",
       "289        NaN       -0.791280         NaN  \n",
       "290        NaN       -3.643720         NaN  \n",
       "291        NaN       -0.785866         NaN  \n",
       "\n",
       "[292 rows x 12 columns]"
      ]
     },
     "execution_count": 5,
     "metadata": {},
     "output_type": "execute_result"
    }
   ],
   "source": [
    "llm_df"
   ]
  },
  {
   "cell_type": "markdown",
   "id": "35e17d68",
   "metadata": {},
   "source": [
    "### Check the overall generation cost"
   ]
  },
  {
   "cell_type": "code",
   "execution_count": 6,
   "id": "34634578",
   "metadata": {},
   "outputs": [
    {
     "data": {
      "text/plain": [
       "7.918229999999991"
      ]
     },
     "execution_count": 6,
     "metadata": {},
     "output_type": "execute_result"
    }
   ],
   "source": [
    "llm_df['cost'].sum()"
   ]
  },
  {
   "cell_type": "code",
   "execution_count": 8,
   "id": "d58727bc",
   "metadata": {},
   "outputs": [
    {
     "data": {
      "text/plain": [
       "0.02711722602739723"
      ]
     },
     "execution_count": 8,
     "metadata": {},
     "output_type": "execute_result"
    }
   ],
   "source": [
    "llm_df['cost'].mean()"
   ]
  },
  {
   "cell_type": "code",
   "execution_count": 7,
   "id": "b1ea31bb",
   "metadata": {},
   "outputs": [
    {
     "data": {
      "text/plain": [
       "19.0"
      ]
     },
     "execution_count": 7,
     "metadata": {},
     "output_type": "execute_result"
    }
   ],
   "source": [
    "llm_df['duration'].sum() // 60"
   ]
  },
  {
   "cell_type": "markdown",
   "id": "dcbf66ce",
   "metadata": {},
   "source": [
    "### Check the LLM scores, and its distribution accross each retrieval system"
   ]
  },
  {
   "cell_type": "code",
   "execution_count": 11,
   "id": "0cbc6c8c",
   "metadata": {},
   "outputs": [
    {
     "data": {
      "text/plain": [
       "194"
      ]
     },
     "execution_count": 11,
     "metadata": {},
     "output_type": "execute_result"
    }
   ],
   "source": [
    "np.sum(llm_df['score'] < 5)"
   ]
  },
  {
   "cell_type": "code",
   "execution_count": 12,
   "id": "aefaf3fd",
   "metadata": {},
   "outputs": [
    {
     "data": {
      "text/plain": [
       "98"
      ]
     },
     "execution_count": 12,
     "metadata": {},
     "output_type": "execute_result"
    }
   ],
   "source": [
    "np.sum(llm_df['score'] >= 5)"
   ]
  },
  {
   "cell_type": "code",
   "execution_count": 18,
   "id": "b1c3ebd2",
   "metadata": {},
   "outputs": [
    {
     "data": {
      "text/plain": [
       "count    192.000000\n",
       "mean       3.067708\n",
       "std        4.225403\n",
       "min        0.000000\n",
       "25%        0.000000\n",
       "50%        0.000000\n",
       "75%        8.000000\n",
       "max       10.000000\n",
       "Name: score, dtype: float64"
      ]
     },
     "execution_count": 18,
     "metadata": {},
     "output_type": "execute_result"
    }
   ],
   "source": [
    "llm_df[llm_df['bm25_score'].isnull()]['score'].describe()"
   ]
  },
  {
   "cell_type": "code",
   "execution_count": 19,
   "id": "9ce23167",
   "metadata": {},
   "outputs": [
    {
     "data": {
      "text/plain": [
       "count    192.000000\n",
       "mean       1.541667\n",
       "std        3.261441\n",
       "min        0.000000\n",
       "25%        0.000000\n",
       "50%        0.000000\n",
       "75%        0.000000\n",
       "max       10.000000\n",
       "Name: score, dtype: float64"
      ]
     },
     "execution_count": 19,
     "metadata": {},
     "output_type": "execute_result"
    }
   ],
   "source": [
    "llm_df[llm_df['mt5_score'].isnull()]['score'].describe()"
   ]
  },
  {
   "cell_type": "code",
   "execution_count": 20,
   "id": "d08ba22b",
   "metadata": {},
   "outputs": [
    {
     "data": {
      "text/plain": [
       "count    192.000000\n",
       "mean       4.786458\n",
       "std        4.457034\n",
       "min        0.000000\n",
       "25%        0.000000\n",
       "50%        5.000000\n",
       "75%       10.000000\n",
       "max       10.000000\n",
       "Name: score, dtype: float64"
      ]
     },
     "execution_count": 20,
     "metadata": {},
     "output_type": "execute_result"
    }
   ],
   "source": [
    "llm_df[llm_df['colbertx_score'].isnull()]['score'].describe()"
   ]
  },
  {
   "cell_type": "code",
   "execution_count": 15,
   "id": "40c0a58a",
   "metadata": {
    "scrolled": false
   },
   "outputs": [
    {
     "data": {
      "image/png": "[encoded data removed]",
      "text/plain": [
       "<Figure size 720x504 with 1 Axes>"
      ]
     },
     "metadata": {
      "needs_background": "light"
     },
     "output_type": "display_data"
    }
   ],
   "source": [
    "fig = plt.figure(figsize=[10,7])\n",
    "\n",
    "plt.hist(llm_df['score'])\n",
    "\n",
    "plt.xticks(list(range(11)))\n",
    "\n",
    "plt.grid()\n",
    "\n",
    "plt.suptitle(\"GPT4 query/passage scores\", fontsize=20, y=0.95)\n",
    "\n",
    "plt.show()"
   ]
  },
  {
   "cell_type": "code",
   "execution_count": 17,
   "id": "ec12ad93",
   "metadata": {},
   "outputs": [],
   "source": [
    "evaluations_order = np.random.permutation(llm_df.shape[0])"
   ]
  },
  {
   "cell_type": "code",
   "execution_count": 20,
   "id": "026b73e9",
   "metadata": {},
   "outputs": [
    {
     "data": {
      "text/plain": [
       "array([ 86,  95,  79, 177,  75, 125,  31, 166,  58,  23,  10, 129,  53,\n",
       "        66, 242, 283, 102, 120, 260, 135, 228,  56,  17,  12,  98, 167,\n",
       "         7,  74,  73, 208, 153,  47, 215, 146, 155,  92, 264,  94,   9,\n",
       "       108, 175, 287,  57, 121, 126, 288, 122, 251,   4, 112, 218, 176,\n",
       "       237, 192,  45,  55, 231,  20,  13, 250, 272,  36, 172, 186, 284,\n",
       "        15, 290, 223, 173, 258, 130, 200, 248,  91, 170,  78,   5, 226,\n",
       "       147,  41, 190,  39,  54,  61, 113, 216,   0, 281, 188, 201,  64,\n",
       "       207,  44, 278, 261,  59, 132, 137,  89, 157,  88, 138, 212, 269,\n",
       "       106, 243, 119,  28, 114, 134, 255, 185, 221, 289, 145,  21, 105,\n",
       "       280,  87, 128, 178, 254, 160,  85, 239, 274, 240,  16, 256, 277,\n",
       "       182,  51, 111,   1, 123, 279, 238, 211, 245, 143, 191,  19,  42,\n",
       "       109,  68,  82, 227,  83, 232, 103, 252, 219,  90,  71, 197, 184,\n",
       "       257, 285, 275, 193, 131, 136, 273, 161, 246, 282, 107,  63, 210,\n",
       "        26, 259, 127, 187,  97, 291,  25, 142, 217, 101, 115,  48,  84,\n",
       "       271, 165, 168,  30, 253, 249,  40, 222, 159, 262,   6,  69,  77,\n",
       "        32,  37, 110, 141,  62, 276,  22, 213,  93, 236, 174, 154,  80,\n",
       "        11, 183, 171,  18,  33,  35, 189, 230,  65, 139, 225, 180, 267,\n",
       "       268, 235, 233,  96, 149, 124, 100, 164,  29, 270, 203,  70, 224,\n",
       "        50, 263,  52, 265, 234, 196, 151, 117, 205,   3, 158,  49,  38,\n",
       "       133, 179, 152,  24, 202, 169, 181, 162, 163,  72,  81, 116, 247,\n",
       "         2, 140, 204,  46, 156,  43, 150,  14, 194, 244,  67, 118, 144,\n",
       "        27, 266, 198, 199, 286, 241, 104,  34,   8, 195, 148,  76, 214,\n",
       "        60, 220,  99, 206, 209, 229])"
      ]
     },
     "execution_count": 20,
     "metadata": {},
     "output_type": "execute_result"
    }
   ],
   "source": [
    "evaluations_order"
   ]
  },
  {
   "cell_type": "code",
   "execution_count": 24,
   "id": "1344f3db",
   "metadata": {},
   "outputs": [],
   "source": [
    "llm_df.iloc[evaluations_order][['query_text', 'doc_text', 'score', 'reasoning']].to_csv(os.path.join(LLM_EVALUATIONS_FOLDER, \"human_validation_LLM_evaluations.tsv\"),\n",
    "                                                                                        sep='\\t', index=False)"
   ]
  },
  {
   "cell_type": "markdown",
   "id": "07955255",
   "metadata": {},
   "source": [
    "### Now, compare the scores distribution when GPT-3.5 was used as the annotator'"
   ]
  },
  {
   "cell_type": "code",
   "execution_count": 31,
   "id": "314967d6",
   "metadata": {},
   "outputs": [],
   "source": [
    "gpt3_df = pd.read_csv(GPT3_EVALUATIONS_FILENAME, sep='\\t')"
   ]
  },
  {
   "cell_type": "code",
   "execution_count": 32,
   "id": "7d208bd3",
   "metadata": {},
   "outputs": [
    {
     "data": {
      "image/png": "[encoded data removed]",
      "text/plain": [
       "<Figure size 720x504 with 1 Axes>"
      ]
     },
     "metadata": {
      "needs_background": "light"
     },
     "output_type": "display_data"
    }
   ],
   "source": [
    "fig = plt.figure(figsize=[10,7])\n",
    "\n",
    "plt.hist(gpt3_df['score'])\n",
    "\n",
    "plt.xticks(list(range(11)))\n",
    "\n",
    "plt.grid()\n",
    "\n",
    "plt.suptitle(\"GPT3.5 query/passage scores\", fontsize=20, y=0.95)\n",
    "\n",
    "plt.show()"
   ]
  },
  {
   "cell_type": "markdown",
   "id": "8b6e7139",
   "metadata": {},
   "source": [
    "### Finally, check the human annotator correlation with GPT-4 annotations"
   ]
  },
  {
   "cell_type": "code",
   "execution_count": 21,
   "id": "30946f12",
   "metadata": {},
   "outputs": [],
   "source": [
    "human_df = pd.read_csv(\"retrieval_pipelines/human_validation_LLM_evaluations_eduseiti.tsv\", sep='\\t')"
   ]
  },
  {
   "cell_type": "code",
   "execution_count": 22,
   "id": "15024dcb",
   "metadata": {
    "scrolled": false
   },
   "outputs": [
    {
     "data": {
      "text/html": [
       "<div>\n",
       "<style scoped>\n",
       "    .dataframe tbody tr th:only-of-type {\n",
       "        vertical-align: middle;\n",
       "    }\n",
       "\n",
       "    .dataframe tbody tr th {\n",
       "        vertical-align: top;\n",
       "    }\n",
       "\n",
       "    .dataframe thead th {\n",
       "        text-align: right;\n",
       "    }\n",
       "</style>\n",
       "<table border=\"1\" class=\"dataframe\">\n",
       "  <thead>\n",
       "    <tr style=\"text-align: right;\">\n",
       "      <th></th>\n",
       "      <th>query_text</th>\n",
       "      <th>doc_text</th>\n",
       "      <th>score</th>\n",
       "      <th>reasoning</th>\n",
       "      <th>Human score</th>\n",
       "      <th>Human reasoning</th>\n",
       "    </tr>\n",
       "  </thead>\n",
       "  <tbody>\n",
       "    <tr>\n",
       "      <th>0</th>\n",
       "      <td>Qual o relevo predominante do Brasil?</td>\n",
       "      <td>32. (UDESC) Segundo Aziz Nacib Ab Saber, geógrafo, o relevo predominante no Brasil é:a) Depressão Central.b) Planícies e Terras Baixas.c) Planalto Brasileiro.d) Planície Costeira.e) Planalto das Guianas.33. (UDESC) Arede hidrográfica brasileira é composta por rios, em sua maioria perenes, e comgrande potencial para a geração de energia elétrica, pois se encontrampredominantemente em regiões de planalto. Analisando a rede hidrográficabrasileira, conclui-se que:I - Anavegação de maior porte é realizada em rios como os da bacia do Amazonas, osda bacia do Paraguai e em trechos do São Francisco.II - Os riosdas regiões Sul e Sudeste apresentam limitado potencial de navegação, sendonecessária,emalguns casos, a construção de eclusas como as do rio Tietê, no Estado de SãoPaulo.III - Abacia do rio Paraguai é a maior do Brasil, e onde se situa a maior usinahidrelétrica do país - aItaipu.IV - O rioUruguai nasce da junção dos rios Canoas e Pelotas.V - A bacia Platina é compostapelas bacias do Paraná, Uruguai e Tocantins que, juntas, formam a maior redenavegável do Brasil.Assinalea alternativa correta.a) Somente as afirmativas I e V são verdadeiras.b) Somente as afirmativas II, III e V são verdadeiras.c) Somente as afirmativas I, II e IV sãoverdadeiras.</td>\n",
       "      <td>10</td>\n",
       "      <td>a passagem responde claramente à pergunta, indicando que, segundo o geógrafo Aziz Nacib Ab Saber, o relevo predominante no Brasil é o Planalto Brasileiro.</td>\n",
       "      <td>1.0</td>\n",
       "      <td>A passagem repete a pergunta, mas como um enunciado de múltipla escolha.</td>\n",
       "    </tr>\n",
       "    <tr>\n",
       "      <th>3</th>\n",
       "      <td>Quantas vezes o voleibol feminino venceu o grand prix?</td>\n",
       "      <td>Vôlei Bauru[20]Brasil20172018Osasco Audax[21]Brasil20182019TítulosPela Seleção BrasileiraJuvenilCampeã do Campeonato Sul-americano de Voleibol Feminino Sub-20 2000Campeã do Campeonato Mundial de Voleibol feminino sub-20 2001AdultaCampeã do Campeonato Sul-Americano de Voleibol Feminino - 2003Vice-campeã da Copa do Mundo de Vôlei - 2003Campeã do Grand Prix - 2005Campeã do Montreux Volley Masters - 2005Campeã do Torneio de Courmayeur - 2005Vice-campeã do Campeonato Mundial de Voleibol - 2006Vice-campeã do Jogos Pan-Americanos - 2007Campeã do Campeonato Sul-Americano de Voleibol Feminino - 2007Vice-campeã da Copa do Mundo de Vôlei - 2007Campeã do Grand Prix - 2008Campeã dos Jogos Olímpicos de Pequim - 2008Campeã do Torneio de Voleibol Final Four - 2008Campeã do Campeonato Sul-Americano de Voleibol Feminino - Porto Alegre 2009Vice-campeã da Copa dos Campeões - Japão 2009Vice-campeã do Grand Prix de Vôlei - Ningbo 2010Campeã da Copa Pan-Americana de Voleibol Feminino - 2011Vice-campeã do Grand Prix de Vôlei - Macau 2011Campeã do Jogos Pan-Americanos - 2011Vice-campeã do Grand Prix de Vôlei - Ningbo 2012Campeã dos Jogos Olímpicos de Londres - 2012ClubesLeite Moça/JundiaíCampeã do Sul-americano de Clubes -  1997Campeã do Campeonato Paulista - 1997</td>\n",
       "      <td>10</td>\n",
       "      <td>a passagem responde claramente à pergunta, indicando que o voleibol feminino venceu o Grand Prix três vezes (2005, 2008 e 2011).</td>\n",
       "      <td>1.0</td>\n",
       "      <td>A passagem parece falar sobre o histórico de títulos de alguma jogadora de vólei, não da seleção brasileira. A soma indicada pelo LLM está incorreta.</td>\n",
       "    </tr>\n",
       "    <tr>\n",
       "      <th>5</th>\n",
       "      <td>Existem vantagens ao definir uma moeda única?</td>\n",
       "      <td>2.6 - Como se manifestam as vantagens do euro ..............................................  8   2.7- Vantagens à escala mundial ........................................................................  82.8 - Tirar pleno partido das vantagens ...............................................................  92.9 -….exibir maismoeda única3005 palavras | 13 páginasEscola Secundária/3 Rainha Santa Isabel de EstremozGeografiaMoeda Única                               Professor:                                                                      José BarrosoTrabalho realizado por:                                                                              Duarte Pereira Nº6 11ºG                                                                                      Ricardo Franco Nº18 11ºG….exibir maisKlugiugli349 palavras | 2 páginas4.3. A nova moeda portuguesa – o euroFases da união económica e Monetária• Existiram 3 fasesCritérios de convergência:• Inflação• Défice orçamental• Dívida pública• Taxas de juro de longo prazo• Estabilidade cambialDéfice orçamental: diferença entre as despesas e as receitas do Estado.Não entraram - Reino Unido e Suécia,Dinamarca NOTA: Existem 8 moedas e 7 notas euro.Vantagens da moeda única:Para os particulares:</td>\n",
       "      <td>4</td>\n",
       "      <td>a passagem menciona que existem vantagens da moeda única, mas não especifica quais são essas vantagens. Portanto, a passagem não responde completamente à pergunta.</td>\n",
       "      <td>1.0</td>\n",
       "      <td>Passagem é apenas um índice de um texto que responderia a pergunta.</td>\n",
       "    </tr>\n",
       "  </tbody>\n",
       "</table>\n",
       "</div>"
      ],
      "text/plain": [
       "                                               query_text  \\\n",
       "0                   Qual o relevo predominante do Brasil?   \n",
       "3  Quantas vezes o voleibol feminino venceu o grand prix?   \n",
       "5           Existem vantagens ao definir uma moeda única?   \n",
       "\n",
       "                                                                                                                                                                                                                                                                                                                                                                                                                                                                                                                                                                                                                                                                                                                                                                                                                                                                                                                                                                                                                                                                                                                                                                                                                                                                                                      doc_text  \\\n",
       "0  32. (UDESC) Segundo Aziz Nacib Ab Saber, geógrafo, o relevo predominante no Brasil é:a) Depressão Central.b) Planícies e Terras Baixas.c) Planalto Brasileiro.d) Planície Costeira.e) Planalto das Guianas.33. (UDESC) Arede hidrográfica brasileira é composta por rios, em sua maioria perenes, e comgrande potencial para a geração de energia elétrica, pois se encontrampredominantemente em regiões de planalto. Analisando a rede hidrográficabrasileira, conclui-se que:I - Anavegação de maior porte é realizada em rios como os da bacia do Amazonas, osda bacia do Paraguai e em trechos do São Francisco.II - Os riosdas regiões Sul e Sudeste apresentam limitado potencial de navegação, sendonecessária,emalguns casos, a construção de eclusas como as do rio Tietê, no Estado de SãoPaulo.III - Abacia do rio Paraguai é a maior do Brasil, e onde se situa a maior usinahidrelétrica do país - aItaipu.IV - O rioUruguai nasce da junção dos rios Canoas e Pelotas.V - A bacia Platina é compostapelas bacias do Paraná, Uruguai e Tocantins que, juntas, formam a maior redenavegável do Brasil.Assinalea alternativa correta.a) Somente as afirmativas I e V são verdadeiras.b) Somente as afirmativas II, III e V são verdadeiras.c) Somente as afirmativas I, II e IV sãoverdadeiras.   \n",
       "3  Vôlei Bauru[20]Brasil20172018Osasco Audax[21]Brasil20182019TítulosPela Seleção BrasileiraJuvenilCampeã do Campeonato Sul-americano de Voleibol Feminino Sub-20 2000Campeã do Campeonato Mundial de Voleibol feminino sub-20 2001AdultaCampeã do Campeonato Sul-Americano de Voleibol Feminino - 2003Vice-campeã da Copa do Mundo de Vôlei - 2003Campeã do Grand Prix - 2005Campeã do Montreux Volley Masters - 2005Campeã do Torneio de Courmayeur - 2005Vice-campeã do Campeonato Mundial de Voleibol - 2006Vice-campeã do Jogos Pan-Americanos - 2007Campeã do Campeonato Sul-Americano de Voleibol Feminino - 2007Vice-campeã da Copa do Mundo de Vôlei - 2007Campeã do Grand Prix - 2008Campeã dos Jogos Olímpicos de Pequim - 2008Campeã do Torneio de Voleibol Final Four - 2008Campeã do Campeonato Sul-Americano de Voleibol Feminino - Porto Alegre 2009Vice-campeã da Copa dos Campeões - Japão 2009Vice-campeã do Grand Prix de Vôlei - Ningbo 2010Campeã da Copa Pan-Americana de Voleibol Feminino - 2011Vice-campeã do Grand Prix de Vôlei - Macau 2011Campeã do Jogos Pan-Americanos - 2011Vice-campeã do Grand Prix de Vôlei - Ningbo 2012Campeã dos Jogos Olímpicos de Londres - 2012ClubesLeite Moça/JundiaíCampeã do Sul-americano de Clubes -  1997Campeã do Campeonato Paulista - 1997   \n",
       "5     2.6 - Como se manifestam as vantagens do euro ..............................................  8   2.7- Vantagens à escala mundial ........................................................................  82.8 - Tirar pleno partido das vantagens ...............................................................  92.9 -….exibir maismoeda única3005 palavras | 13 páginasEscola Secundária/3 Rainha Santa Isabel de EstremozGeografiaMoeda Única                               Professor:                                                                      José BarrosoTrabalho realizado por:                                                                              Duarte Pereira Nº6 11ºG                                                                                      Ricardo Franco Nº18 11ºG….exibir maisKlugiugli349 palavras | 2 páginas4.3. A nova moeda portuguesa – o euroFases da união económica e Monetária• Existiram 3 fasesCritérios de convergência:• Inflação• Défice orçamental• Dívida pública• Taxas de juro de longo prazo• Estabilidade cambialDéfice orçamental: diferença entre as despesas e as receitas do Estado.Não entraram - Reino Unido e Suécia,Dinamarca NOTA: Existem 8 moedas e 7 notas euro.Vantagens da moeda única:Para os particulares:   \n",
       "\n",
       "   score  \\\n",
       "0     10   \n",
       "3     10   \n",
       "5      4   \n",
       "\n",
       "                                                                                                                                                             reasoning  \\\n",
       "0           a passagem responde claramente à pergunta, indicando que, segundo o geógrafo Aziz Nacib Ab Saber, o relevo predominante no Brasil é o Planalto Brasileiro.   \n",
       "3                                     a passagem responde claramente à pergunta, indicando que o voleibol feminino venceu o Grand Prix três vezes (2005, 2008 e 2011).   \n",
       "5  a passagem menciona que existem vantagens da moeda única, mas não especifica quais são essas vantagens. Portanto, a passagem não responde completamente à pergunta.   \n",
       "\n",
       "   Human score  \\\n",
       "0          1.0   \n",
       "3          1.0   \n",
       "5          1.0   \n",
       "\n",
       "                                                                                                                                         Human reasoning  \n",
       "0                                                                               A passagem repete a pergunta, mas como um enunciado de múltipla escolha.  \n",
       "3  A passagem parece falar sobre o histórico de títulos de alguma jogadora de vólei, não da seleção brasileira. A soma indicada pelo LLM está incorreta.  \n",
       "5                                                                                    Passagem é apenas um índice de um texto que responderia a pergunta.  "
      ]
     },
     "execution_count": 22,
     "metadata": {},
     "output_type": "execute_result"
    }
   ],
   "source": [
    "human_df.iloc[[0,3,5]]"
   ]
  },
  {
   "cell_type": "code",
   "execution_count": 23,
   "id": "489402bc",
   "metadata": {},
   "outputs": [
    {
     "data": {
      "text/plain": [
       "0.781340501060795"
      ]
     },
     "execution_count": 23,
     "metadata": {},
     "output_type": "execute_result"
    }
   ],
   "source": [
    "human_df.iloc[:20]['score'].corr(human_df.iloc[:20]['Human score'].astype(np.int64))"
   ]
  },
  {
   "cell_type": "code",
   "execution_count": 24,
   "id": "b8b52cf5",
   "metadata": {},
   "outputs": [
    {
     "data": {
      "text/plain": [
       "0.7921068799730557"
      ]
     },
     "execution_count": 24,
     "metadata": {},
     "output_type": "execute_result"
    }
   ],
   "source": [
    "human_df.iloc[:20]['score'].corr(human_df.iloc[:20]['Human score'].astype(np.int64), method=\"kendall\")"
   ]
  },
  {
   "cell_type": "code",
   "execution_count": 36,
   "id": "43d30c6d",
   "metadata": {},
   "outputs": [
    {
     "data": {
      "text/html": [
       "<div>\n",
       "<style scoped>\n",
       "    .dataframe tbody tr th:only-of-type {\n",
       "        vertical-align: middle;\n",
       "    }\n",
       "\n",
       "    .dataframe tbody tr th {\n",
       "        vertical-align: top;\n",
       "    }\n",
       "\n",
       "    .dataframe thead th {\n",
       "        text-align: right;\n",
       "    }\n",
       "</style>\n",
       "<table border=\"1\" class=\"dataframe\">\n",
       "  <thead>\n",
       "    <tr style=\"text-align: right;\">\n",
       "      <th></th>\n",
       "      <th>score</th>\n",
       "      <th>Human score</th>\n",
       "    </tr>\n",
       "  </thead>\n",
       "  <tbody>\n",
       "    <tr>\n",
       "      <th>0</th>\n",
       "      <td>10</td>\n",
       "      <td>1</td>\n",
       "    </tr>\n",
       "    <tr>\n",
       "      <th>1</th>\n",
       "      <td>0</td>\n",
       "      <td>0</td>\n",
       "    </tr>\n",
       "    <tr>\n",
       "      <th>2</th>\n",
       "      <td>0</td>\n",
       "      <td>0</td>\n",
       "    </tr>\n",
       "    <tr>\n",
       "      <th>3</th>\n",
       "      <td>10</td>\n",
       "      <td>1</td>\n",
       "    </tr>\n",
       "    <tr>\n",
       "      <th>4</th>\n",
       "      <td>5</td>\n",
       "      <td>6</td>\n",
       "    </tr>\n",
       "    <tr>\n",
       "      <th>5</th>\n",
       "      <td>4</td>\n",
       "      <td>1</td>\n",
       "    </tr>\n",
       "    <tr>\n",
       "      <th>6</th>\n",
       "      <td>8</td>\n",
       "      <td>7</td>\n",
       "    </tr>\n",
       "    <tr>\n",
       "      <th>7</th>\n",
       "      <td>0</td>\n",
       "      <td>0</td>\n",
       "    </tr>\n",
       "    <tr>\n",
       "      <th>8</th>\n",
       "      <td>10</td>\n",
       "      <td>10</td>\n",
       "    </tr>\n",
       "    <tr>\n",
       "      <th>9</th>\n",
       "      <td>10</td>\n",
       "      <td>10</td>\n",
       "    </tr>\n",
       "    <tr>\n",
       "      <th>10</th>\n",
       "      <td>10</td>\n",
       "      <td>8</td>\n",
       "    </tr>\n",
       "    <tr>\n",
       "      <th>11</th>\n",
       "      <td>6</td>\n",
       "      <td>5</td>\n",
       "    </tr>\n",
       "    <tr>\n",
       "      <th>12</th>\n",
       "      <td>8</td>\n",
       "      <td>7</td>\n",
       "    </tr>\n",
       "    <tr>\n",
       "      <th>13</th>\n",
       "      <td>8</td>\n",
       "      <td>7</td>\n",
       "    </tr>\n",
       "    <tr>\n",
       "      <th>14</th>\n",
       "      <td>0</td>\n",
       "      <td>0</td>\n",
       "    </tr>\n",
       "    <tr>\n",
       "      <th>15</th>\n",
       "      <td>0</td>\n",
       "      <td>o</td>\n",
       "    </tr>\n",
       "    <tr>\n",
       "      <th>16</th>\n",
       "      <td>0</td>\n",
       "      <td>0</td>\n",
       "    </tr>\n",
       "    <tr>\n",
       "      <th>17</th>\n",
       "      <td>0</td>\n",
       "      <td>0</td>\n",
       "    </tr>\n",
       "    <tr>\n",
       "      <th>18</th>\n",
       "      <td>0</td>\n",
       "      <td>0</td>\n",
       "    </tr>\n",
       "    <tr>\n",
       "      <th>19</th>\n",
       "      <td>8</td>\n",
       "      <td>7</td>\n",
       "    </tr>\n",
       "  </tbody>\n",
       "</table>\n",
       "</div>"
      ],
      "text/plain": [
       "    score Human score\n",
       "0      10           1\n",
       "1       0           0\n",
       "2       0           0\n",
       "3      10           1\n",
       "4       5           6\n",
       "5       4           1\n",
       "6       8           7\n",
       "7       0           0\n",
       "8      10          10\n",
       "9      10          10\n",
       "10     10           8\n",
       "11      6           5\n",
       "12      8           7\n",
       "13      8           7\n",
       "14      0           0\n",
       "15      0           o\n",
       "16      0           0\n",
       "17      0           0\n",
       "18      0           0\n",
       "19      8           7"
      ]
     },
     "execution_count": 36,
     "metadata": {},
     "output_type": "execute_result"
    }
   ],
   "source": [
    "human_df.iloc[:20][['score', 'Human score']]"
   ]
  },
  {
   "cell_type": "code",
   "execution_count": null,
   "id": "2d876b98",
   "metadata": {},
   "outputs": [],
   "source": []
  }
 ],
 "metadata": {
  "kernelspec": {
   "display_name": "Python 3 (ipykernel)",
   "language": "python",
   "name": "python3"
  },
  "language_info": {
   "codemirror_mode": {
    "name": "ipython",
    "version": 3
   },
   "file_extension": ".py",
   "mimetype": "text/x-python",
   "name": "python",
   "nbconvert_exporter": "python",
   "pygments_lexer": "ipython3",
   "version": "3.8.10"
  }
 },
 "nbformat": 4,
 "nbformat_minor": 5
}
