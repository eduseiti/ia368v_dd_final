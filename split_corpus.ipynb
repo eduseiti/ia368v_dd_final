{
 "cells": [
  {
   "cell_type": "code",
   "execution_count": 16,
   "id": "55d9921f",
   "metadata": {},
   "outputs": [],
   "source": [
    "import os\n",
    "import tqdm\n",
    "import sys"
   ]
  },
  {
   "cell_type": "code",
   "execution_count": 28,
   "id": "d6f754ad",
   "metadata": {},
   "outputs": [],
   "source": [
    "PASSAGES_CHUNK=5e+6\n",
    "\n",
    "CORPUS_CHUNK_FILENAME_FORMAT=\"clueweb22-pt/{}_{:03}.tsv\""
   ]
  },
  {
   "cell_type": "code",
   "execution_count": 8,
   "id": "d1b5b192",
   "metadata": {},
   "outputs": [],
   "source": [
    "corpus_filename = \"clueweb22-pt/clueweb22_pt_colbertx_01.tsv\"\n",
    "corpus_map_filename = \"clueweb22-pt/clueweb22_pt_colbertx_to_clueweb_id_01.tsv\"\n",
    "\n",
    "corpus_chunks = 0"
   ]
  },
  {
   "cell_type": "code",
   "execution_count": 11,
   "id": "a835f8a8",
   "metadata": {},
   "outputs": [],
   "source": [
    "total_passages = !wc -l {corpus_map_filename}"
   ]
  },
  {
   "cell_type": "markdown",
   "id": "bd8649ec",
   "metadata": {},
   "source": [
    "### Find out where to split the corpus avoiding separating same document passages"
   ]
  },
  {
   "cell_type": "code",
   "execution_count": 25,
   "id": "f944d4c4",
   "metadata": {},
   "outputs": [
    {
     "name": "stdout",
     "output_type": "stream",
     "text": [
      " 22%|██▏       | 4947368/22764702 [00:03<00:14, 1193422.09it/s]4999999\tclueweb22-pt0000-21-15791__26\n",
      "5000000\tclueweb22-pt0000-21-15791__28\n",
      "5000001\tclueweb22-pt0000-21-15791__30\n",
      "5000002\tclueweb22-pt0000-21-15791__32\n",
      "5000003\tclueweb22-pt0000-21-15791__34\n",
      "5000004\tclueweb22-pt0000-21-15791__36\n",
      "5000005\tclueweb22-pt0000-21-15791__38\n",
      "5000006\tclueweb22-pt0000-21-15791__40\n",
      "5000007\tclueweb22-pt0000-21-15791__42\n",
      "5000008\tclueweb22-pt0000-21-15791__44\n",
      "5000009\tclueweb22-pt0000-21-15791__46\n",
      "5000010\tclueweb22-pt0000-21-15791__48\n",
      "5000011\tclueweb22-pt0000-21-15791__50\n",
      "5000012\tclueweb22-pt0000-21-15791__52\n",
      "5000013\tclueweb22-pt0000-21-15791__54\n",
      "5000014\tclueweb22-pt0000-21-15791__56\n",
      "5000015\tclueweb22-pt0000-21-15792__0\n",
      " 44%|████▎     | 9950069/22764702 [00:07<00:09, 1349312.17it/s]9999999\tclueweb22-pt0000-44-03497__36\n",
      "10000000\tclueweb22-pt0000-44-03497__38\n",
      "10000001\tclueweb22-pt0000-44-03497__40\n",
      "10000002\tclueweb22-pt0000-44-03497__42\n",
      "10000003\tclueweb22-pt0000-44-03497__44\n",
      "10000004\tclueweb22-pt0000-44-03497__46\n",
      "10000005\tclueweb22-pt0000-44-03497__48\n",
      "10000006\tclueweb22-pt0000-44-03497__50\n",
      "10000007\tclueweb22-pt0000-44-03497__52\n",
      "10000008\tclueweb22-pt0000-44-03497__54\n",
      "10000009\tclueweb22-pt0000-44-03497__56\n",
      "10000010\tclueweb22-pt0000-44-03497__58\n",
      "10000011\tclueweb22-pt0000-44-03497__60\n",
      "10000012\tclueweb22-pt0000-44-03497__62\n",
      "10000013\tclueweb22-pt0000-44-03497__64\n",
      "10000014\tclueweb22-pt0000-44-03497__66\n",
      "10000015\tclueweb22-pt0000-44-03498__0\n",
      " 66%|██████▌   | 14951844/22764702 [00:11<00:05, 1359634.91it/s]14999999\tclueweb22-pt0000-66-01714__56\n",
      "15000000\tclueweb22-pt0000-66-01714__58\n",
      "15000001\tclueweb22-pt0000-66-01714__60\n",
      "15000002\tclueweb22-pt0000-66-01714__62\n",
      "15000003\tclueweb22-pt0000-66-01714__64\n",
      "15000004\tclueweb22-pt0000-66-01714__66\n",
      "15000005\tclueweb22-pt0000-66-01714__68\n",
      "15000006\tclueweb22-pt0000-66-01714__70\n",
      "15000007\tclueweb22-pt0000-66-01714__72\n",
      "15000008\tclueweb22-pt0000-66-01714__74\n",
      "15000009\tclueweb22-pt0000-66-01715__0\n",
      " 87%|████████▋ | 19897948/22764702 [00:14<00:02, 1345149.32it/s]19999999\tclueweb22-pt0000-88-00921__8\n",
      "20000000\tclueweb22-pt0000-88-00921__10\n",
      "20000001\tclueweb22-pt0000-88-00921__12\n",
      "20000002\tclueweb22-pt0000-88-00922__0\n",
      "22764703it [00:17, 1327283.91it/s]                              \n"
     ]
    }
   ],
   "source": [
    "chunk_init = [0]\n",
    "\n",
    "with open(corpus_map_filename) as input_file:\n",
    "    \n",
    "    previous_original_doc_id = \"\"\n",
    "    \n",
    "    ready_to_save = False\n",
    "    \n",
    "    for i, line in enumerate(tqdm.tqdm(input_file, total=int(total_passages[0].split(\" \")[0]), file=sys.stdout, position=0, leave=True)):\n",
    "        colbertx_id, original_id = line.split('\\t')\n",
    "        \n",
    "        original_doc_id = original_id.split(\"__\")[0]\n",
    "        \n",
    "        if not ready_to_save:\n",
    "            if ((i + 1) % PASSAGES_CHUNK == 0):\n",
    "                ready_to_save = True\n",
    "                print(line.strip())\n",
    "        else:\n",
    "            if original_doc_id != previous_original_doc_id:\n",
    "                chunk_init.append(i)\n",
    "                \n",
    "                ready_to_save = False\n",
    "                \n",
    "            print(line.strip())\n",
    "                \n",
    "        previous_original_doc_id = original_doc_id"
   ]
  },
  {
   "cell_type": "code",
   "execution_count": 22,
   "id": "d9384fb9",
   "metadata": {},
   "outputs": [
    {
     "data": {
      "text/plain": [
       "[0, 5000015, 10000015, 15000009, 20000002]"
      ]
     },
     "execution_count": 22,
     "metadata": {},
     "output_type": "execute_result"
    }
   ],
   "source": [
    "chunk_init"
   ]
  },
  {
   "cell_type": "markdown",
   "id": "f5509477",
   "metadata": {},
   "source": [
    "### Now split the corpus"
   ]
  },
  {
   "cell_type": "code",
   "execution_count": 33,
   "id": "cc9c6a56",
   "metadata": {},
   "outputs": [
    {
     "name": "stdout",
     "output_type": "stream",
     "text": [
      "22764703it [03:22, 112620.35it/s]                              \n"
     ]
    }
   ],
   "source": [
    "with open(corpus_filename) as input_file:\n",
    "    output_file = None\n",
    "    output_files_counter = 0\n",
    "    \n",
    "    output_passages_counter = 0\n",
    "    output_file = open(CORPUS_CHUNK_FILENAME_FORMAT.format(os.path.splitext(os.path.basename(corpus_filename))[0], output_files_counter), \"w\")\n",
    "    \n",
    "    for i, line in enumerate(tqdm.tqdm(input_file, total=int(total_passages[0].split(\" \")[0]), file=sys.stdout, position=0, leave=True)):\n",
    "        if output_files_counter < len(chunk_init[1:]) and i == chunk_init[1:][output_files_counter]:\n",
    "            output_file.close()\n",
    "            \n",
    "            output_files_counter += 1\n",
    "            \n",
    "            output_passages_counter = 0\n",
    "            output_file = open(CORPUS_CHUNK_FILENAME_FORMAT.format(os.path.splitext(os.path.basename(corpus_filename))[0], output_files_counter), \"w\")\n",
    "                \n",
    "        if output_passages_counter > 0:\n",
    "            output_file.write(\"\\n\")\n",
    "            \n",
    "        output_file.write(line.strip())\n",
    "        \n",
    "        output_passages_counter += 1\n",
    "        \n",
    "    output_file.close()"
   ]
  },
  {
   "cell_type": "code",
   "execution_count": null,
   "id": "884be404",
   "metadata": {},
   "outputs": [],
   "source": []
  }
 ],
 "metadata": {
  "kernelspec": {
   "display_name": "Python 3",
   "language": "python",
   "name": "python3"
  },
  "language_info": {
   "codemirror_mode": {
    "name": "ipython",
    "version": 3
   },
   "file_extension": ".py",
   "mimetype": "text/x-python",
   "name": "python",
   "nbconvert_exporter": "python",
   "pygments_lexer": "ipython3",
   "version": "3.8.16"
  }
 },
 "nbformat": 4,
 "nbformat_minor": 5
}
