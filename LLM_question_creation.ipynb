{
 "cells": [
  {
   "cell_type": "code",
   "execution_count": 1,
   "id": "b7f56889",
   "metadata": {},
   "outputs": [],
   "source": [
    "import os\n",
    "import sys"
   ]
  },
  {
   "cell_type": "code",
   "execution_count": 2,
   "id": "a53e8180",
   "metadata": {},
   "outputs": [],
   "source": [
    "WORKING_FOLDER=\"/mnt/0060f889-4c27-409b-b0de-47f5427515e3/unicamp/ia368v_dd/trabalho_final/\"\n",
    "PYSERINI_FOLDER=\"/mnt/0060f889-4c27-409b-b0de-47f5427515e3/unicamp/ia368v_dd/pyserini/\""
   ]
  },
  {
   "cell_type": "code",
   "execution_count": 3,
   "id": "de45e35a",
   "metadata": {},
   "outputs": [],
   "source": [
    "TREC_EVAL_FULLPATH=PYSERINI_FOLDER+\"tools/eval/trec_eval.9.0.4/trec_eval\"\n",
    "\n",
    "os.environ[\"ANSERINI_CLASSPATH\"]=\"/media/eduseiti/bigdata01/unicamp/ia368v_dd/anserini/target\"\n",
    "\n",
    "os.chdir(WORKING_FOLDER)"
   ]
  },
  {
   "cell_type": "code",
   "execution_count": 4,
   "id": "d404cb64",
   "metadata": {},
   "outputs": [],
   "source": [
    "from common_tools import *\n",
    "\n",
    "from pyserini.search.lucene import LuceneSearcher\n",
    "from pyserini.analysis import get_lucene_analyzer\n",
    "\n",
    "import glob\n",
    "import numpy as np"
   ]
  },
  {
   "cell_type": "code",
   "execution_count": 5,
   "id": "f20aaee3",
   "metadata": {},
   "outputs": [],
   "source": [
    "pd.set_option('display.max_colwidth', None)\n",
    "pd.set_option('display.max_rows', 200)"
   ]
  },
  {
   "cell_type": "code",
   "execution_count": 6,
   "id": "1f765d4d",
   "metadata": {},
   "outputs": [],
   "source": [
    "BM25_INDEX_FOLDER=\"bm25/passage_v2\""
   ]
  },
  {
   "cell_type": "code",
   "execution_count": 7,
   "id": "f17a2fc3",
   "metadata": {},
   "outputs": [],
   "source": [
    "CLUEWEB22_PT_CORPUS_FOLDER=\"clueweb22-pt_10M_sample\"\n",
    "CLUEWEB22_PT_TRAIN_QUERIES_FOLDER=\"train_queries\""
   ]
  },
  {
   "cell_type": "code",
   "execution_count": 8,
   "id": "9833827c",
   "metadata": {},
   "outputs": [],
   "source": [
    "NUMBER_OF_REFERENCE_PASSAGES=10"
   ]
  },
  {
   "cell_type": "markdown",
   "id": "919854ef",
   "metadata": {},
   "source": [
    "### Create the train queries folder, if needed"
   ]
  },
  {
   "cell_type": "code",
   "execution_count": 9,
   "id": "91e04a97",
   "metadata": {},
   "outputs": [],
   "source": [
    "if not os.path.exists(CLUEWEB22_PT_TRAIN_QUERIES_FOLDER):\n",
    "    os.makedirs(CLUEWEB22_PT_TRAIN_QUERIES_FOLDER)"
   ]
  },
  {
   "cell_type": "markdown",
   "id": "13646370",
   "metadata": {},
   "source": [
    "### Check the available Clueweb22-pt corpus parts, as prepared to ColBERT-X indexing"
   ]
  },
  {
   "cell_type": "code",
   "execution_count": 10,
   "id": "ae1bf631",
   "metadata": {},
   "outputs": [],
   "source": [
    "corpus_parts = glob.glob(os.path.join(CLUEWEB22_PT_CORPUS_FOLDER, \"clueweb22-pt_colbertx_0*.tsv\"))"
   ]
  },
  {
   "cell_type": "code",
   "execution_count": 11,
   "id": "8e559319",
   "metadata": {},
   "outputs": [
    {
     "data": {
      "text/plain": [
       "['clueweb22-pt_10M_sample/clueweb22-pt_colbertx_01.tsv',\n",
       " 'clueweb22-pt_10M_sample/clueweb22-pt_colbertx_00.tsv',\n",
       " 'clueweb22-pt_10M_sample/clueweb22-pt_colbertx_02.tsv',\n",
       " 'clueweb22-pt_10M_sample/clueweb22-pt_colbertx_03.tsv',\n",
       " 'clueweb22-pt_10M_sample/clueweb22-pt_colbertx_04.tsv']"
      ]
     },
     "execution_count": 11,
     "metadata": {},
     "output_type": "execute_result"
    }
   ],
   "source": [
    "corpus_parts"
   ]
  },
  {
   "cell_type": "markdown",
   "id": "454778fa",
   "metadata": {},
   "source": [
    "### Read the ColBERT-X index translation, in order to access the original Clueweb22-pt indexes\n",
    "\n",
    "This was needed since ColBERT-X original implementation only handled integer indexes for the documents."
   ]
  },
  {
   "cell_type": "code",
   "execution_count": 12,
   "id": "5e115d89",
   "metadata": {},
   "outputs": [],
   "source": [
    "index_translator = pd.read_csv(os.path.join(CLUEWEB22_PT_CORPUS_FOLDER, \"clueweb22-pt_colbertx_to_clueweb_id.tsv\"), \n",
    "                               sep='\\t', header=None, names=['colbertx_id', 'clueweb_id'])"
   ]
  },
  {
   "cell_type": "markdown",
   "id": "eb2bc586",
   "metadata": {},
   "source": [
    "### Read the corpus part"
   ]
  },
  {
   "cell_type": "code",
   "execution_count": 13,
   "id": "d8fdeb38",
   "metadata": {},
   "outputs": [],
   "source": [
    "passages_df = pd.read_csv(corpus_parts[0], sep='\\t', header=None, names=['colbertx_id', 'text'])"
   ]
  },
  {
   "cell_type": "code",
   "execution_count": 14,
   "id": "f914edfc",
   "metadata": {},
   "outputs": [
    {
     "data": {
      "text/plain": [
       "(2000000, 2)"
      ]
     },
     "execution_count": 14,
     "metadata": {},
     "output_type": "execute_result"
    }
   ],
   "source": [
    "passages_df.shape"
   ]
  },
  {
   "cell_type": "markdown",
   "id": "d6eab75c",
   "metadata": {},
   "source": [
    "### Initialize OpenAI interface to use gpt-3.5-turbo"
   ]
  },
  {
   "cell_type": "code",
   "execution_count": 15,
   "id": "c73bf1ab",
   "metadata": {},
   "outputs": [],
   "source": [
    "initialize_openai()"
   ]
  },
  {
   "cell_type": "markdown",
   "id": "f8492438",
   "metadata": {},
   "source": [
    "### Perform the queries creation"
   ]
  },
  {
   "cell_type": "code",
   "execution_count": 16,
   "id": "d467b078",
   "metadata": {},
   "outputs": [],
   "source": [
    "train_queries = []\n",
    "\n",
    "available_passages = np.random.permutation(passages_df.shape[0])"
   ]
  },
  {
   "cell_type": "code",
   "execution_count": 17,
   "id": "d2ab1a9a",
   "metadata": {
    "scrolled": true
   },
   "outputs": [
    {
     "name": "stdout",
     "output_type": "stream",
     "text": [
      "++++++++++++++++++++++++++\n",
      "Passagem: \"SIGAA - Sistema Integrado de Gestão de Atividades AcadêmicasProcessos Seletivos - Área do CandidatoAo efetuar login você tem acesso à area do candidato com os dados da sua inscrição nos últimos processos seletivos que participou.Para ter acesso é necessário o seu cpf ou passaporte (para candidatos estrangeiros) e a senha gerada pelo sistema.Caso seja o seu primeiro acesso, clique em Meu primeiro acesso e uma senha será enviada para o e-mail cadastrado na sua última inscrição.Informe seu CPF/Passaporte e senhaCPF:A pessoa é estrangeira e não possui CPF.Senha:Meu primeiro acessoEsqueci minha senha<< Voltar ao menu principal\"\n",
      "++++++++++++++++++++++++++\n",
      "\n",
      "\n",
      "[{'role': 'system', 'content': 'Você sugere 2 perguntas a partir da leitura de uma passagem de texto. A primeira pergunta explora o tema da passagem, e a segunda pergunta explora uma informação ou conclusão específica possível a partir da leitura da passagem. Suas perguntas devem fazer sentido para alguém que não leu a passagem. Siga o formato do exemplo.'}, {'role': 'user', 'content': 'Exemplo: Passagem: \"Como acontece com todos os tratamentos naturais, a qualidade do produto utilizado para o tratamento de decide o resultado. Portanto, se você deseja obter os melhores resultados com o tratamento óleo de rosa mosqueta para a acne, você deve tentar encontrar o melhor e mais puro óleo de rosa mosqueta orgânica. Antes de comprar um produto, certifique-se que você leia os rótulos das embalagens adequadamente para verificar se ele contém óleo de rosa mosqueta puro ou de uma mistura de outros óleos essenciais. Leia as instruções de uso recomendadas pelo fabricante, porque alguns produtos requerem lavagem após alguns minutos da aplicação, enquanto que alguns precisam ser mantidos durante a noite.óleo de rosa mosqueta tem um cheiro desagradável e desagradável e muitas pessoas podem não gostar. Se você tem crianças em casa, eles podem ser desligados de você devido ao cheiro. Por isso, certifique-se de que você adicionar uma certa quantidade de óleo essencial aromático, tal como lavanda ou jasmim para travar para baixo o cheiro.[ Ler: Como usar o óleo de abacate para acne? ]Considerações ao usar o Óleo de Rosa Mosqueta\"'}, {'role': 'assistant', 'content': 'Pergunta 1: Quais tratamentos para acne?\\nPergunta 2: Como é possível evitar o forte cheiro da rosa mosqueta no tratamento de pele?'}, {'role': 'user', 'content': 'Passagem: \"SIGAA - Sistema Integrado de Gestão de Atividades AcadêmicasProcessos Seletivos - Área do CandidatoAo efetuar login você tem acesso à area do candidato com os dados da sua inscrição nos últimos processos seletivos que participou.Para ter acesso é necessário o seu cpf ou passaporte (para candidatos estrangeiros) e a senha gerada pelo sistema.Caso seja o seu primeiro acesso, clique em Meu primeiro acesso e uma senha será enviada para o e-mail cadastrado na sua última inscrição.Informe seu CPF/Passaporte e senhaCPF:A pessoa é estrangeira e não possui CPF.Senha:Meu primeiro acessoEsqueci minha senha<< Voltar ao menu principal\"'}]\n",
      "\n",
      "\n",
      "Pergunta 1: O que é o SIGAA?\n",
      "Pergunta 2: Como um candidato estrangeiro pode acessar a área do candidato no SIGAA?\n",
      "\n",
      "LLM passage queries creation duration: 1.9032278060913086; cost: 0.0009805\n",
      "\n",
      "\n",
      "++++++++++++++++++++++++++\n",
      "Passagem: \"recebimento do valor do precatório e respectiva tributação. Depreciação Custo Depreciação Valor Valor Provisão Encargos s/ Férias 5 5 Nota 16. Receita Operacional Líquida 31 de 31 de 20 20 Imobilizado (%) Aquisição Acumulada Residual ResidualDezembro Dezembro Terrenos - 1.688 1.688 1.688 31 de 31 de Nota 15. Patrimônio Líquido de 2020 de 2019Edifícios 4% 2.746 (2.746) 0 0 Dezembro DezembroCapital Social Móveis e Utensílios 10% 1 1 1de 2020 de 2019 (+) Receitas Financeiras O capital social em 31 de dezembro de 2020 é composto de 24.560 (Vinte 4.435 -2.746 1.689 1.689 Juros Auferidos 80 53e quatro mil, quintas e sessenta) ações.Receita Operacional Bruta Rendimentos de Aplicação Nota 12. Impostos, Taxas e Obrigações Diversas 31 de 31 de Aluguéis Recebidos 594 609 Financeira 310 53231 de 31 de Dezembro Dezembro Prestação de Serviços Coworking 0 55 Dezembro Dezembro de 2020 de 2019 (-) Deduções (-) Despesas Financeirasde 2020 de 2019 Impostos e Contribuições (22) (27) Capital Social Subscrito 11.740 11.740 Despesas Bancárias (2) (1) IRPJ a Recolher 0 11 Receita Operacional Líquida 572 637 11.740 11.740Ações em tesouraria CSLL a Recolher 12 16 388 584\"\n",
      "++++++++++++++++++++++++++\n",
      "\n",
      "\n",
      "[{'role': 'system', 'content': 'Você sugere 2 perguntas a partir da leitura de uma passagem de texto. A primeira pergunta explora o tema da passagem, e a segunda pergunta explora uma informação ou conclusão específica possível a partir da leitura da passagem. Suas perguntas devem fazer sentido para alguém que não leu a passagem. Siga o formato do exemplo.'}, {'role': 'user', 'content': 'Exemplo: Passagem: \"Como acontece com todos os tratamentos naturais, a qualidade do produto utilizado para o tratamento de decide o resultado. Portanto, se você deseja obter os melhores resultados com o tratamento óleo de rosa mosqueta para a acne, você deve tentar encontrar o melhor e mais puro óleo de rosa mosqueta orgânica. Antes de comprar um produto, certifique-se que você leia os rótulos das embalagens adequadamente para verificar se ele contém óleo de rosa mosqueta puro ou de uma mistura de outros óleos essenciais. Leia as instruções de uso recomendadas pelo fabricante, porque alguns produtos requerem lavagem após alguns minutos da aplicação, enquanto que alguns precisam ser mantidos durante a noite.óleo de rosa mosqueta tem um cheiro desagradável e desagradável e muitas pessoas podem não gostar. Se você tem crianças em casa, eles podem ser desligados de você devido ao cheiro. Por isso, certifique-se de que você adicionar uma certa quantidade de óleo essencial aromático, tal como lavanda ou jasmim para travar para baixo o cheiro.[ Ler: Como usar o óleo de abacate para acne? ]Considerações ao usar o Óleo de Rosa Mosqueta\"'}, {'role': 'assistant', 'content': 'Pergunta 1: Quais tratamentos para acne?\\nPergunta 2: Como é possível evitar o forte cheiro da rosa mosqueta no tratamento de pele?'}, {'role': 'user', 'content': 'Passagem: \"recebimento do valor do precatório e respectiva tributação. Depreciação Custo Depreciação Valor Valor Provisão Encargos s/ Férias 5 5 Nota 16. Receita Operacional Líquida 31 de 31 de 20 20 Imobilizado (%) Aquisição Acumulada Residual ResidualDezembro Dezembro Terrenos - 1.688 1.688 1.688 31 de 31 de Nota 15. Patrimônio Líquido de 2020 de 2019Edifícios 4% 2.746 (2.746) 0 0 Dezembro DezembroCapital Social Móveis e Utensílios 10% 1 1 1de 2020 de 2019 (+) Receitas Financeiras O capital social em 31 de dezembro de 2020 é composto de 24.560 (Vinte 4.435 -2.746 1.689 1.689 Juros Auferidos 80 53e quatro mil, quintas e sessenta) ações.Receita Operacional Bruta Rendimentos de Aplicação Nota 12. Impostos, Taxas e Obrigações Diversas 31 de 31 de Aluguéis Recebidos 594 609 Financeira 310 53231 de 31 de Dezembro Dezembro Prestação de Serviços Coworking 0 55 Dezembro Dezembro de 2020 de 2019 (-) Deduções (-) Despesas Financeirasde 2020 de 2019 Impostos e Contribuições (22) (27) Capital Social Subscrito 11.740 11.740 Despesas Bancárias (2) (1) IRPJ a Recolher 0 11 Receita Operacional Líquida 572 637 11.740 11.740Ações em tesouraria CSLL a Recolher 12 16 388 584\"'}]\n",
      "\n",
      "\n",
      "Pergunta 1: Qual é o valor do capital social em 31 de dezembro de 2020?\n",
      "Pergunta 2: Quais são as receitas financeiras apresentadas na nota 12?\n",
      "\n",
      "LLM passage queries creation duration: 2.0302603244781494; cost: 0.001425\n",
      "\n",
      "\n",
      "++++++++++++++++++++++++++\n",
      "Passagem: \"A melhor forma de ter certeza é perguntando ao IMT - é a entidade responsável pelo cancelamento de matrículas, que consecutivamente comunica à Autoridade Tributária (Finanças) o cancelamento da matrícula para que o pagamento do IUC seja \\\"cancelado\\\".De qualquer maneira, mesmo que o certificado de destruição francês não seja aceite em Portugal, para deixar de pagar o IUC, basta cancelar a matrícula no IMT por motivo de exportação.O mais importante para deixar de pagar o IUC é: ter um papel do IMT que comprove o cancelamento da matrícula, seja por abate ou por exportação, é igual.Adalberto Sabino em 10.02.2019. 21:07Boa noiteTive um acidente em frança e o carro está inreparavel.  Já me informei lá , e um centro de abate automóvel legalizado pode receber o carro e fazer um documento que o certifica.  A minha questão é se aqui em Portugal,  esse documento junto com o documento unico do carro é válido para cancelar a matricula e os documentos definitivamente Sem voltar a pagar iuc ou coimas.Carolina em 01.02.2019. 08:15Agradeço a sua ajuda.FD em 31.01.2019. 21:02@Carolina em 31.01.2019. 19:18Penso que essas restrições foram-lhe comunicadas porque na lei não está prevista a sua situação como razão para o cancelamento da matrícula.Carolina em 31.01.2019. 19:18\"\n",
      "++++++++++++++++++++++++++\n",
      "\n",
      "\n",
      "[{'role': 'system', 'content': 'Você sugere 2 perguntas a partir da leitura de uma passagem de texto. A primeira pergunta explora o tema da passagem, e a segunda pergunta explora uma informação ou conclusão específica possível a partir da leitura da passagem. Suas perguntas devem fazer sentido para alguém que não leu a passagem. Siga o formato do exemplo.'}, {'role': 'user', 'content': 'Exemplo: Passagem: \"Como acontece com todos os tratamentos naturais, a qualidade do produto utilizado para o tratamento de decide o resultado. Portanto, se você deseja obter os melhores resultados com o tratamento óleo de rosa mosqueta para a acne, você deve tentar encontrar o melhor e mais puro óleo de rosa mosqueta orgânica. Antes de comprar um produto, certifique-se que você leia os rótulos das embalagens adequadamente para verificar se ele contém óleo de rosa mosqueta puro ou de uma mistura de outros óleos essenciais. Leia as instruções de uso recomendadas pelo fabricante, porque alguns produtos requerem lavagem após alguns minutos da aplicação, enquanto que alguns precisam ser mantidos durante a noite.óleo de rosa mosqueta tem um cheiro desagradável e desagradável e muitas pessoas podem não gostar. Se você tem crianças em casa, eles podem ser desligados de você devido ao cheiro. Por isso, certifique-se de que você adicionar uma certa quantidade de óleo essencial aromático, tal como lavanda ou jasmim para travar para baixo o cheiro.[ Ler: Como usar o óleo de abacate para acne? ]Considerações ao usar o Óleo de Rosa Mosqueta\"'}, {'role': 'assistant', 'content': 'Pergunta 1: Quais tratamentos para acne?\\nPergunta 2: Como é possível evitar o forte cheiro da rosa mosqueta no tratamento de pele?'}, {'role': 'user', 'content': 'Passagem: \"A melhor forma de ter certeza é perguntando ao IMT - é a entidade responsável pelo cancelamento de matrículas, que consecutivamente comunica à Autoridade Tributária (Finanças) o cancelamento da matrícula para que o pagamento do IUC seja \\\\\"cancelado\\\\\".De qualquer maneira, mesmo que o certificado de destruição francês não seja aceite em Portugal, para deixar de pagar o IUC, basta cancelar a matrícula no IMT por motivo de exportação.O mais importante para deixar de pagar o IUC é: ter um papel do IMT que comprove o cancelamento da matrícula, seja por abate ou por exportação, é igual.Adalberto Sabino em 10.02.2019. 21:07Boa noiteTive um acidente em frança e o carro está inreparavel.  Já me informei lá , e um centro de abate automóvel legalizado pode receber o carro e fazer um documento que o certifica.  A minha questão é se aqui em Portugal,  esse documento junto com o documento unico do carro é válido para cancelar a matricula e os documentos definitivamente Sem voltar a pagar iuc ou coimas.Carolina em 01.02.2019. 08:15Agradeço a sua ajuda.FD em 31.01.2019. 21:02@Carolina em 31.01.2019. 19:18Penso que essas restrições foram-lhe comunicadas porque na lei não está prevista a sua situação como razão para o cancelamento da matrícula.Carolina em 31.01.2019. 19:18\"'}]\n"
     ]
    },
    {
     "name": "stdout",
     "output_type": "stream",
     "text": [
      "\n",
      "\n",
      "Pergunta 1: Como é possível cancelar a matrícula de um carro em Portugal?\n",
      "Pergunta 2: É necessário pagar o IUC após o cancelamento da matrícula por motivo de exportação?\n",
      "\n",
      "LLM passage queries creation duration: 2.6694445610046387; cost: 0.0013385\n",
      "\n",
      "\n",
      "++++++++++++++++++++++++++\n",
      "Passagem: \"grendeldekt e mais 13 usuários acharam esta resposta útilObrigado 105,0(3 votos)Entrar para comentarEncontre as soluções dos livros de PortuguêsVeja todos9º Ano8º Ano7º Ano6º Ano5º Ano3º Ano2º Ano1º AnoTecendo Linguagens - Língua Port…1155 soluçõesTecendo Linguagens - Língua Port…1075 soluçõesTecendo Linguagens - Língua Port…1479 soluçõesGeração Alpha Língua Portuguesa, 6…1389 soluçõesPortuguês Contemporâneo: Diálogo, Refle…1010 soluçõesTecendo Linguagens - Língua Port…1107 soluçõesSe Liga na Língua: Literatura, Pr…1027 soluçõesSe Liga na Língua: Literatura, Pr…1056 soluçõesSe Liga na Língua: Literatura, Pr…1186 soluçõesPortuguês: Conexão e Uso, 9º ano1255 soluçõesVEJA TODOSAnúncioResposta1yar1nhaAmbicioso7 respostas98 pessoas receberam ajudaResposta:Todo texto é vivo e vai ter seu significado atribuído pelo destinatário.Explicação:O discurso é vivo; o texto é estático.Muxakara e mais 1 usuários acharam esta resposta útilObrigado 10,0(0 voto)Entrar para comentarAnúncioAinda tem perguntas?Encontre mais respostasPronto para mergulhar de cabeça e desbloquear o emblema?Faça sua perguntaNovas perguntas de PortuguêsMONTEIRO LOBATO AO LONGO DOS SEUS 66 ANOS DE VIDA, FOI UM ESCRITOR E EDITOR BRASILEIRO. \\\"O SÍTIO DO PICA-PAU AMARELO\\\" É SUA OBRA DE MAIOR DESTAQUE NA …\"\n",
      "++++++++++++++++++++++++++\n",
      "\n",
      "\n",
      "[{'role': 'system', 'content': 'Você sugere 2 perguntas a partir da leitura de uma passagem de texto. A primeira pergunta explora o tema da passagem, e a segunda pergunta explora uma informação ou conclusão específica possível a partir da leitura da passagem. Suas perguntas devem fazer sentido para alguém que não leu a passagem. Siga o formato do exemplo.'}, {'role': 'user', 'content': 'Exemplo: Passagem: \"Como acontece com todos os tratamentos naturais, a qualidade do produto utilizado para o tratamento de decide o resultado. Portanto, se você deseja obter os melhores resultados com o tratamento óleo de rosa mosqueta para a acne, você deve tentar encontrar o melhor e mais puro óleo de rosa mosqueta orgânica. Antes de comprar um produto, certifique-se que você leia os rótulos das embalagens adequadamente para verificar se ele contém óleo de rosa mosqueta puro ou de uma mistura de outros óleos essenciais. Leia as instruções de uso recomendadas pelo fabricante, porque alguns produtos requerem lavagem após alguns minutos da aplicação, enquanto que alguns precisam ser mantidos durante a noite.óleo de rosa mosqueta tem um cheiro desagradável e desagradável e muitas pessoas podem não gostar. Se você tem crianças em casa, eles podem ser desligados de você devido ao cheiro. Por isso, certifique-se de que você adicionar uma certa quantidade de óleo essencial aromático, tal como lavanda ou jasmim para travar para baixo o cheiro.[ Ler: Como usar o óleo de abacate para acne? ]Considerações ao usar o Óleo de Rosa Mosqueta\"'}, {'role': 'assistant', 'content': 'Pergunta 1: Quais tratamentos para acne?\\nPergunta 2: Como é possível evitar o forte cheiro da rosa mosqueta no tratamento de pele?'}, {'role': 'user', 'content': 'Passagem: \"grendeldekt e mais 13 usuários acharam esta resposta útilObrigado 105,0(3 votos)Entrar para comentarEncontre as soluções dos livros de PortuguêsVeja todos9º Ano8º Ano7º Ano6º Ano5º Ano3º Ano2º Ano1º AnoTecendo Linguagens - Língua Port…1155 soluçõesTecendo Linguagens - Língua Port…1075 soluçõesTecendo Linguagens - Língua Port…1479 soluçõesGeração Alpha Língua Portuguesa, 6…1389 soluçõesPortuguês Contemporâneo: Diálogo, Refle…1010 soluçõesTecendo Linguagens - Língua Port…1107 soluçõesSe Liga na Língua: Literatura, Pr…1027 soluçõesSe Liga na Língua: Literatura, Pr…1056 soluçõesSe Liga na Língua: Literatura, Pr…1186 soluçõesPortuguês: Conexão e Uso, 9º ano1255 soluçõesVEJA TODOSAnúncioResposta1yar1nhaAmbicioso7 respostas98 pessoas receberam ajudaResposta:Todo texto é vivo e vai ter seu significado atribuído pelo destinatário.Explicação:O discurso é vivo; o texto é estático.Muxakara e mais 1 usuários acharam esta resposta útilObrigado 10,0(0 voto)Entrar para comentarAnúncioAinda tem perguntas?Encontre mais respostasPronto para mergulhar de cabeça e desbloquear o emblema?Faça sua perguntaNovas perguntas de PortuguêsMONTEIRO LOBATO AO LONGO DOS SEUS 66 ANOS DE VIDA, FOI UM ESCRITOR E EDITOR BRASILEIRO. \\\\\"O SÍTIO DO PICA-PAU AMARELO\\\\\" É SUA OBRA DE MAIOR DESTAQUE NA …\"'}]\n",
      "\n",
      "\n",
      "Pergunta 1: Qual é a opinião do autor sobre o significado de um texto?\n",
      "Pergunta 2: Qual é a obra de maior destaque de Monteiro Lobato?\n",
      "\n",
      "LLM passage queries creation duration: 2.1271040439605713; cost: 0.0014595\n",
      "\n",
      "\n",
      "++++++++++++++++++++++++++\n",
      "Passagem: \"Marcelo de Oliveira de sa <marcelosamarilia@...>em 15/09/2015 às 10:21:55Bom dia Sr. Marcelo,O Encateirador com rodas, e com 90cm de largura, tem os preços conforme abaixo:Preço a vista:  R$ 2.616,40Preço a prazo: R$ 2.754,11Valores sem considerar o frete de envio.BSS Maquinasem 16/09/2015 às 10:06:58Boa tarde. Preciso tirar duvida a respeito deste micro trator fone 82/99801431.Carlos Luiz de Aquino <carlosaquino1969@...>em 11/05/2015 às 16:54:25Boa tarde Sr. Carlos,Acabei de lhe enviar um e-mail com os contatos e solicitando suas dúvidas para que possamos esclarecer via e-mail ou telefone.Equipe BSS Máquinas.BSS Maquinasem 11/05/2015 às 17:19:37Gostaria de mais algumas fotos doMICRO TRATOR KAWASHIMA ZT15 E ZT15 partida eletrica.Gabriel spuri t o <gabrielspuri@...>em 04/05/2015 às 11:21:39Bom dia Sr. Gabriel,Enviaremos para o e-mail de cadastro.Equipe BSS Maquinas.BSS Maquinasem 04/05/2015 às 11:24:11Ola, boa noite. Por favor diga-me se esse trator tem tomada de força? caso tenha, tem como mandar o desenho explodido para que eu possa identifica-lo?CARLOS <carlosaquino1969@...>em 22/04/2015 às 22:18:04Bom dia Sr. Carlos,Possui tomada de força sim. Estamos encaminhando a vista explodida via e-mail.Equipe BSS Máquinas.BSS Maquinasem 23/04/2015 às 08:51:56\"\n",
      "++++++++++++++++++++++++++\n",
      "\n",
      "\n",
      "[{'role': 'system', 'content': 'Você sugere 2 perguntas a partir da leitura de uma passagem de texto. A primeira pergunta explora o tema da passagem, e a segunda pergunta explora uma informação ou conclusão específica possível a partir da leitura da passagem. Suas perguntas devem fazer sentido para alguém que não leu a passagem. Siga o formato do exemplo.'}, {'role': 'user', 'content': 'Exemplo: Passagem: \"Como acontece com todos os tratamentos naturais, a qualidade do produto utilizado para o tratamento de decide o resultado. Portanto, se você deseja obter os melhores resultados com o tratamento óleo de rosa mosqueta para a acne, você deve tentar encontrar o melhor e mais puro óleo de rosa mosqueta orgânica. Antes de comprar um produto, certifique-se que você leia os rótulos das embalagens adequadamente para verificar se ele contém óleo de rosa mosqueta puro ou de uma mistura de outros óleos essenciais. Leia as instruções de uso recomendadas pelo fabricante, porque alguns produtos requerem lavagem após alguns minutos da aplicação, enquanto que alguns precisam ser mantidos durante a noite.óleo de rosa mosqueta tem um cheiro desagradável e desagradável e muitas pessoas podem não gostar. Se você tem crianças em casa, eles podem ser desligados de você devido ao cheiro. Por isso, certifique-se de que você adicionar uma certa quantidade de óleo essencial aromático, tal como lavanda ou jasmim para travar para baixo o cheiro.[ Ler: Como usar o óleo de abacate para acne? ]Considerações ao usar o Óleo de Rosa Mosqueta\"'}, {'role': 'assistant', 'content': 'Pergunta 1: Quais tratamentos para acne?\\nPergunta 2: Como é possível evitar o forte cheiro da rosa mosqueta no tratamento de pele?'}, {'role': 'user', 'content': 'Passagem: \"Marcelo de Oliveira de sa <marcelosamarilia@...>em 15/09/2015 às 10:21:55Bom dia Sr. Marcelo,O Encateirador com rodas, e com 90cm de largura, tem os preços conforme abaixo:Preço a vista:  R$ 2.616,40Preço a prazo: R$ 2.754,11Valores sem considerar o frete de envio.BSS Maquinasem 16/09/2015 às 10:06:58Boa tarde. Preciso tirar duvida a respeito deste micro trator fone 82/99801431.Carlos Luiz de Aquino <carlosaquino1969@...>em 11/05/2015 às 16:54:25Boa tarde Sr. Carlos,Acabei de lhe enviar um e-mail com os contatos e solicitando suas dúvidas para que possamos esclarecer via e-mail ou telefone.Equipe BSS Máquinas.BSS Maquinasem 11/05/2015 às 17:19:37Gostaria de mais algumas fotos doMICRO TRATOR KAWASHIMA ZT15 E ZT15 partida eletrica.Gabriel spuri t o <gabrielspuri@...>em 04/05/2015 às 11:21:39Bom dia Sr. Gabriel,Enviaremos para o e-mail de cadastro.Equipe BSS Maquinas.BSS Maquinasem 04/05/2015 às 11:24:11Ola, boa noite. Por favor diga-me se esse trator tem tomada de força? caso tenha, tem como mandar o desenho explodido para que eu possa identifica-lo?CARLOS <carlosaquino1969@...>em 22/04/2015 às 22:18:04Bom dia Sr. Carlos,Possui tomada de força sim. Estamos encaminhando a vista explodida via e-mail.Equipe BSS Máquinas.BSS Maquinasem 23/04/2015 às 08:51:56\"'}]\n"
     ]
    },
    {
     "name": "stdout",
     "output_type": "stream",
     "text": [
      "\n",
      "\n",
      "Pergunta 1: Qual é o preço do Encateirador com rodas?\n",
      "Pergunta 2: O micro trator KAWASHIMA ZT15 tem tomada de força?\n",
      "\n",
      "LLM passage queries creation duration: 2.2025034427642822; cost: 0.0014795000000000001\n",
      "\n",
      "\n",
      "++++++++++++++++++++++++++\n",
      "Passagem: \"Para comemorar meu aniversário pela segunda vez fizeram uma festa de outono. Os parabéns foram pra mim e outros colegas do mesmo mês.Estava tudo fantástico, gostei muito! Chorei de novo, mas também dancei, pois tenho samba no pé e o momento pedia!Sra. Nazilda PereiraResidenteGostei muito do festival de sopas. Amei o clima, a decoração e a ideia bem veio a calhar com o frio.Fiquei muito feliz pelo nosso pedido dos sabores das sopas terem sido atendido, até repeti! Tudo maravilhoso pães, decoração e a organização melhor impossível.Depoimento do Sr. ManoelResidenteEu gosto muito das festas que acontecem aqui. Nesses últimos dias, tivemos um Sarau onde cada um de nós apresentou seu talento.Cada um cantou e participou. Inclusive eu, que soltei a voz cantando lampião de gás.Gostei muito, música boa e ótima comida!Sr. Olisses VieiraResidenteNós fomos o Casal de Noivos da festa.Tudo estava divino, glamoroso e espetacular! Foi a melhor festa de todos os anos, Ajudamos em tudo e isso foi ótimo!Merecia uma matéria em jornais, pra que todos saibam a grandiosidade que só acontece aqui.Sra. Dagmar e Sr. ManoelResidentePoder vir nesse show, pra mim foi maravilhoso! Estava tudo bom, comida boa, café ótimo.                    As músicas bem conhecidas.\"\n",
      "++++++++++++++++++++++++++\n",
      "\n",
      "\n",
      "[{'role': 'system', 'content': 'Você sugere 2 perguntas a partir da leitura de uma passagem de texto. A primeira pergunta explora o tema da passagem, e a segunda pergunta explora uma informação ou conclusão específica possível a partir da leitura da passagem. Suas perguntas devem fazer sentido para alguém que não leu a passagem. Siga o formato do exemplo.'}, {'role': 'user', 'content': 'Exemplo: Passagem: \"Como acontece com todos os tratamentos naturais, a qualidade do produto utilizado para o tratamento de decide o resultado. Portanto, se você deseja obter os melhores resultados com o tratamento óleo de rosa mosqueta para a acne, você deve tentar encontrar o melhor e mais puro óleo de rosa mosqueta orgânica. Antes de comprar um produto, certifique-se que você leia os rótulos das embalagens adequadamente para verificar se ele contém óleo de rosa mosqueta puro ou de uma mistura de outros óleos essenciais. Leia as instruções de uso recomendadas pelo fabricante, porque alguns produtos requerem lavagem após alguns minutos da aplicação, enquanto que alguns precisam ser mantidos durante a noite.óleo de rosa mosqueta tem um cheiro desagradável e desagradável e muitas pessoas podem não gostar. Se você tem crianças em casa, eles podem ser desligados de você devido ao cheiro. Por isso, certifique-se de que você adicionar uma certa quantidade de óleo essencial aromático, tal como lavanda ou jasmim para travar para baixo o cheiro.[ Ler: Como usar o óleo de abacate para acne? ]Considerações ao usar o Óleo de Rosa Mosqueta\"'}, {'role': 'assistant', 'content': 'Pergunta 1: Quais tratamentos para acne?\\nPergunta 2: Como é possível evitar o forte cheiro da rosa mosqueta no tratamento de pele?'}, {'role': 'user', 'content': 'Passagem: \"Para comemorar meu aniversário pela segunda vez fizeram uma festa de outono. Os parabéns foram pra mim e outros colegas do mesmo mês.Estava tudo fantástico, gostei muito! Chorei de novo, mas também dancei, pois tenho samba no pé e o momento pedia!Sra. Nazilda PereiraResidenteGostei muito do festival de sopas. Amei o clima, a decoração e a ideia bem veio a calhar com o frio.Fiquei muito feliz pelo nosso pedido dos sabores das sopas terem sido atendido, até repeti! Tudo maravilhoso pães, decoração e a organização melhor impossível.Depoimento do Sr. ManoelResidenteEu gosto muito das festas que acontecem aqui. Nesses últimos dias, tivemos um Sarau onde cada um de nós apresentou seu talento.Cada um cantou e participou. Inclusive eu, que soltei a voz cantando lampião de gás.Gostei muito, música boa e ótima comida!Sr. Olisses VieiraResidenteNós fomos o Casal de Noivos da festa.Tudo estava divino, glamoroso e espetacular! Foi a melhor festa de todos os anos, Ajudamos em tudo e isso foi ótimo!Merecia uma matéria em jornais, pra que todos saibam a grandiosidade que só acontece aqui.Sra. Dagmar e Sr. ManoelResidentePoder vir nesse show, pra mim foi maravilhoso! Estava tudo bom, comida boa, café ótimo.                    As músicas bem conhecidas.\"'}]\n",
      "\n",
      "\n",
      "Pergunta 1: Qual foi o motivo da festa de outono mencionada na passagem?\n",
      "Pergunta 2: Quais foram as atividades realizadas durante o Sarau mencionado na passagem?\n",
      "\n",
      "LLM passage queries creation duration: 2.2763304710388184; cost: 0.0013319999999999999\n",
      "\n",
      "\n",
      "++++++++++++++++++++++++++\n",
      "Passagem: \"d) Nenhuma da alternativas acima.GABARITO:01) C          02) A         03) D         04) B          05) D           8) Com referência à organização, à competência e ao06) D          07) D         08) B         09) C          10) D           funcionamento do Ministério Público, instituição essencial à                                                                          função jurisdicional do Estado, assinale a opção incorreta                                                                          a) O Ministério Público da União compreende o Ministério1) Assinale a opção correta.                                              Público Federal e o Ministério Público Militar.a) Na fase do inquérito policial, a confissão do acusado na               b) Existe Ministério Público junto aos Tribunais de Contas.ausência de advogado deve ser considerada prova ilícita para              c) O Ministério Público do Distrito Federal e Territórios integra otodos os fins.                                                            Ministério Público da União.b) A denúncia genérica no processo penal configura lesão ao               d) O Procurador-Geral da República é nomeado para exercer\"\n",
      "++++++++++++++++++++++++++\n",
      "\n",
      "\n",
      "[{'role': 'system', 'content': 'Você sugere 2 perguntas a partir da leitura de uma passagem de texto. A primeira pergunta explora o tema da passagem, e a segunda pergunta explora uma informação ou conclusão específica possível a partir da leitura da passagem. Suas perguntas devem fazer sentido para alguém que não leu a passagem. Siga o formato do exemplo.'}, {'role': 'user', 'content': 'Exemplo: Passagem: \"Como acontece com todos os tratamentos naturais, a qualidade do produto utilizado para o tratamento de decide o resultado. Portanto, se você deseja obter os melhores resultados com o tratamento óleo de rosa mosqueta para a acne, você deve tentar encontrar o melhor e mais puro óleo de rosa mosqueta orgânica. Antes de comprar um produto, certifique-se que você leia os rótulos das embalagens adequadamente para verificar se ele contém óleo de rosa mosqueta puro ou de uma mistura de outros óleos essenciais. Leia as instruções de uso recomendadas pelo fabricante, porque alguns produtos requerem lavagem após alguns minutos da aplicação, enquanto que alguns precisam ser mantidos durante a noite.óleo de rosa mosqueta tem um cheiro desagradável e desagradável e muitas pessoas podem não gostar. Se você tem crianças em casa, eles podem ser desligados de você devido ao cheiro. Por isso, certifique-se de que você adicionar uma certa quantidade de óleo essencial aromático, tal como lavanda ou jasmim para travar para baixo o cheiro.[ Ler: Como usar o óleo de abacate para acne? ]Considerações ao usar o Óleo de Rosa Mosqueta\"'}, {'role': 'assistant', 'content': 'Pergunta 1: Quais tratamentos para acne?\\nPergunta 2: Como é possível evitar o forte cheiro da rosa mosqueta no tratamento de pele?'}, {'role': 'user', 'content': 'Passagem: \"d) Nenhuma da alternativas acima.GABARITO:01) C          02) A         03) D         04) B          05) D           8) Com referência à organização, à competência e ao06) D          07) D         08) B         09) C          10) D           funcionamento do Ministério Público, instituição essencial à                                                                          função jurisdicional do Estado, assinale a opção incorreta                                                                          a) O Ministério Público da União compreende o Ministério1) Assinale a opção correta.                                              Público Federal e o Ministério Público Militar.a) Na fase do inquérito policial, a confissão do acusado na               b) Existe Ministério Público junto aos Tribunais de Contas.ausência de advogado deve ser considerada prova ilícita para              c) O Ministério Público do Distrito Federal e Territórios integra otodos os fins.                                                            Ministério Público da União.b) A denúncia genérica no processo penal configura lesão ao               d) O Procurador-Geral da República é nomeado para exercer\"'}]\n"
     ]
    },
    {
     "name": "stdout",
     "output_type": "stream",
     "text": [
      "\n",
      "\n",
      "Pergunta 1: Qual é a opção incorreta sobre o Ministério Público?\n",
      "Pergunta 2: Por que a confissão do acusado na ausência de advogado deve ser considerada prova ilícita na fase do inquérito policial?\n",
      "\n",
      "LLM passage queries creation duration: 2.8443970680236816; cost: 0.0012129999999999999\n",
      "\n",
      "\n",
      "++++++++++++++++++++++++++\n",
      "Passagem: \"Jogo Casal Padrão 4 Peças Algodão -pl EstampadoVoltar à listaCasa, Móveis e DecoraçãoTêxteis de Casa e DecoraçãoRoupa de CamaJogos de CamaKingVender um igualNovo  |  5 vendidosJogo De Lençol Buddemeyer King 200 FiosR$ 349em 10x sem jurosVer os meios de pagamentoAnúncio pausadoInformações sobre o vendedorLondrina, ParanáÉ um dos melhores do site!LUTEXR$ 229Charme do DetalheR$ 119G.A ENXOVAISR$ 209THAISENXOVAISLTDAAnuncie aqui Crie seu Mercado ShopAnúncios do vendedor169 reaisR$ 1696 x 28 reais con 17 centavos R$ 28 17sem jurosFrete grátisLençol + Par De Fronha Malha In Cotton Altenburg - Queen119 reaisR$ 1196 x 19 reais con 83 centavos R$ 19 83sem jurosFrete grátisLençol Elástico Malha Altenburg Não Faz Bolinha Casal Padrão160 reais con 65 centavos R$ 160 65 15% OFF6 x 26 reais con 78 centavos R$ 26 78sem jurosFrete grátisJogo De Banho Buddemeyer Fio Penteado Canelado - 4 Peças220 reais con 15 centavos R$ 220 15 15% OFF7 x 31 reais con 45 centavos R$ 31 45sem jurosFrete grátisJogo De Banho Buddemeyer Fio Penteado Canelado - 5 Peças24 reais con 60 centavos R$ 24 604 x 6 reais con 15 centavos R$ 6 15sem jurosProtetor Travesseiro Impermeável Malha Slim Altenburg 50x70116 reais con 25 centavos R$ 116 25 7% OFF6 x 19 reais con 38 centavos R$ 19 38sem juros\"\n",
      "++++++++++++++++++++++++++\n",
      "\n",
      "\n",
      "[{'role': 'system', 'content': 'Você sugere 2 perguntas a partir da leitura de uma passagem de texto. A primeira pergunta explora o tema da passagem, e a segunda pergunta explora uma informação ou conclusão específica possível a partir da leitura da passagem. Suas perguntas devem fazer sentido para alguém que não leu a passagem. Siga o formato do exemplo.'}, {'role': 'user', 'content': 'Exemplo: Passagem: \"Como acontece com todos os tratamentos naturais, a qualidade do produto utilizado para o tratamento de decide o resultado. Portanto, se você deseja obter os melhores resultados com o tratamento óleo de rosa mosqueta para a acne, você deve tentar encontrar o melhor e mais puro óleo de rosa mosqueta orgânica. Antes de comprar um produto, certifique-se que você leia os rótulos das embalagens adequadamente para verificar se ele contém óleo de rosa mosqueta puro ou de uma mistura de outros óleos essenciais. Leia as instruções de uso recomendadas pelo fabricante, porque alguns produtos requerem lavagem após alguns minutos da aplicação, enquanto que alguns precisam ser mantidos durante a noite.óleo de rosa mosqueta tem um cheiro desagradável e desagradável e muitas pessoas podem não gostar. Se você tem crianças em casa, eles podem ser desligados de você devido ao cheiro. Por isso, certifique-se de que você adicionar uma certa quantidade de óleo essencial aromático, tal como lavanda ou jasmim para travar para baixo o cheiro.[ Ler: Como usar o óleo de abacate para acne? ]Considerações ao usar o Óleo de Rosa Mosqueta\"'}, {'role': 'assistant', 'content': 'Pergunta 1: Quais tratamentos para acne?\\nPergunta 2: Como é possível evitar o forte cheiro da rosa mosqueta no tratamento de pele?'}, {'role': 'user', 'content': 'Passagem: \"Jogo Casal Padrão 4 Peças Algodão -pl EstampadoVoltar à listaCasa, Móveis e DecoraçãoTêxteis de Casa e DecoraçãoRoupa de CamaJogos de CamaKingVender um igualNovo  |  5 vendidosJogo De Lençol Buddemeyer King 200 FiosR$ 349em 10x sem jurosVer os meios de pagamentoAnúncio pausadoInformações sobre o vendedorLondrina, ParanáÉ um dos melhores do site!LUTEXR$ 229Charme do DetalheR$ 119G.A ENXOVAISR$ 209THAISENXOVAISLTDAAnuncie aqui Crie seu Mercado ShopAnúncios do vendedor169 reaisR$ 1696 x 28 reais con 17 centavos R$ 28 17sem jurosFrete grátisLençol + Par De Fronha Malha In Cotton Altenburg - Queen119 reaisR$ 1196 x 19 reais con 83 centavos R$ 19 83sem jurosFrete grátisLençol Elástico Malha Altenburg Não Faz Bolinha Casal Padrão160 reais con 65 centavos R$ 160 65 15% OFF6 x 26 reais con 78 centavos R$ 26 78sem jurosFrete grátisJogo De Banho Buddemeyer Fio Penteado Canelado - 4 Peças220 reais con 15 centavos R$ 220 15 15% OFF7 x 31 reais con 45 centavos R$ 31 45sem jurosFrete grátisJogo De Banho Buddemeyer Fio Penteado Canelado - 5 Peças24 reais con 60 centavos R$ 24 604 x 6 reais con 15 centavos R$ 6 15sem jurosProtetor Travesseiro Impermeável Malha Slim Altenburg 50x70116 reais con 25 centavos R$ 116 25 7% OFF6 x 19 reais con 38 centavos R$ 19 38sem juros\"'}]\n",
      "\n",
      "\n",
      "Pergunta 1: Qual é o produto anunciado na passagem?\n",
      "Pergunta 2: Quais são as opções de jogos de cama disponíveis para venda?\n",
      "\n",
      "LLM passage queries creation duration: 2.318004608154297; cost: 0.001503\n",
      "\n",
      "\n",
      "++++++++++++++++++++++++++\n",
      "Passagem: \"Primeiro, experimente usar medicamentos vendidos sem prescrição médica. Eles geralmente são vendidos em forma de pílula/supositório vaginal ou creme. Se os sintomas não desaparecerem depois de uma semana ou se você tiver infecções regularmente, consulte um(a) profissional de saúde. As candidíases geralmente não são prejudiciais, mas você deve ter certeza de que não tem mais nada se os sintomas não passarem. Aplicar uma compressa fria pode ajudar a aliviar a coceira. Observe que os tratamentos para candidíase podem enfraquecer preservativos de látex e diafragmas (9).Caso esteja com outros sintomas:Consulte um(a) profissional de saúde para fazer exames. Eles observarão sua vulva e vagina e retirarão uma amostra para ser analisada em um laboratório. Eles também podem testar o pH da vagina com um teste simples de pH.\"\n",
      "++++++++++++++++++++++++++\n",
      "\n",
      "\n",
      "[{'role': 'system', 'content': 'Você sugere 2 perguntas a partir da leitura de uma passagem de texto. A primeira pergunta explora o tema da passagem, e a segunda pergunta explora uma informação ou conclusão específica possível a partir da leitura da passagem. Suas perguntas devem fazer sentido para alguém que não leu a passagem. Siga o formato do exemplo.'}, {'role': 'user', 'content': 'Exemplo: Passagem: \"Como acontece com todos os tratamentos naturais, a qualidade do produto utilizado para o tratamento de decide o resultado. Portanto, se você deseja obter os melhores resultados com o tratamento óleo de rosa mosqueta para a acne, você deve tentar encontrar o melhor e mais puro óleo de rosa mosqueta orgânica. Antes de comprar um produto, certifique-se que você leia os rótulos das embalagens adequadamente para verificar se ele contém óleo de rosa mosqueta puro ou de uma mistura de outros óleos essenciais. Leia as instruções de uso recomendadas pelo fabricante, porque alguns produtos requerem lavagem após alguns minutos da aplicação, enquanto que alguns precisam ser mantidos durante a noite.óleo de rosa mosqueta tem um cheiro desagradável e desagradável e muitas pessoas podem não gostar. Se você tem crianças em casa, eles podem ser desligados de você devido ao cheiro. Por isso, certifique-se de que você adicionar uma certa quantidade de óleo essencial aromático, tal como lavanda ou jasmim para travar para baixo o cheiro.[ Ler: Como usar o óleo de abacate para acne? ]Considerações ao usar o Óleo de Rosa Mosqueta\"'}, {'role': 'assistant', 'content': 'Pergunta 1: Quais tratamentos para acne?\\nPergunta 2: Como é possível evitar o forte cheiro da rosa mosqueta no tratamento de pele?'}, {'role': 'user', 'content': 'Passagem: \"Primeiro, experimente usar medicamentos vendidos sem prescrição médica. Eles geralmente são vendidos em forma de pílula/supositório vaginal ou creme. Se os sintomas não desaparecerem depois de uma semana ou se você tiver infecções regularmente, consulte um(a) profissional de saúde. As candidíases geralmente não são prejudiciais, mas você deve ter certeza de que não tem mais nada se os sintomas não passarem. Aplicar uma compressa fria pode ajudar a aliviar a coceira. Observe que os tratamentos para candidíase podem enfraquecer preservativos de látex e diafragmas (9).Caso esteja com outros sintomas:Consulte um(a) profissional de saúde para fazer exames. Eles observarão sua vulva e vagina e retirarão uma amostra para ser analisada em um laboratório. Eles também podem testar o pH da vagina com um teste simples de pH.\"'}]\n"
     ]
    },
    {
     "name": "stdout",
     "output_type": "stream",
     "text": [
      "\n",
      "\n",
      "Pergunta 1: Quais são os sintomas da candidíase?\n",
      "Pergunta 2: Como é possível aliviar a coceira causada pela candidíase?\n",
      "\n",
      "LLM passage queries creation duration: 2.0187551975250244; cost: 0.0010835\n",
      "\n",
      "\n",
      "++++++++++++++++++++++++++\n",
      "Passagem: \"5.TERMO DE GARANTIA5.1.O QUE É ATENDIMENTO EM GARANTIA?São os serviços prestados aos produtos que apresentarem defeitos provenientes de falhasde material, fabricação ou montagem na linha de produção, e que após Análise TécnicaCONCLUSIVA DA FÁBRICA tenha revelado este enquadramento e que tenha comprovaçãoobrigatória dos prazos (Nota Fiscal de Venda ao consumidor).20f5.2. QUAIS SÃO OS PRAZOS PARA O ATENDIMENTO EM GARANTIA?Produtos Completos - 24 mesesPeças de Reposição - 90 diasA Garantia inicia-se a partir da data de emissão da Nota Fiscal de Venda do produto aoconsumidor final. (Caso o consumidor não tenha como comprovar a Data da Comprapassará a ser considerada a Data de Fabricação do produto).ATENÇÃO: Quando o prazo de Garantia estiver vencido, mas dentro domês vigente, o atendimento será feito em Garantia.5.3.COMO OBTER O ATENDIMENTO EM GARANTIA?É imprescindível primeiramente verificar se todos os procedimentos constantes no manualde instruções do produto foram executados. Visto que a não observação destesprocedimentos pode acarretar em perda de garantia.Caso os procedimentos indicados no manual não resolva o problema, o consumidordeverá entrar em contato com a revenda que foi realizada a venda, ou diretamente com\"\n",
      "++++++++++++++++++++++++++\n",
      "\n",
      "\n",
      "[{'role': 'system', 'content': 'Você sugere 2 perguntas a partir da leitura de uma passagem de texto. A primeira pergunta explora o tema da passagem, e a segunda pergunta explora uma informação ou conclusão específica possível a partir da leitura da passagem. Suas perguntas devem fazer sentido para alguém que não leu a passagem. Siga o formato do exemplo.'}, {'role': 'user', 'content': 'Exemplo: Passagem: \"Como acontece com todos os tratamentos naturais, a qualidade do produto utilizado para o tratamento de decide o resultado. Portanto, se você deseja obter os melhores resultados com o tratamento óleo de rosa mosqueta para a acne, você deve tentar encontrar o melhor e mais puro óleo de rosa mosqueta orgânica. Antes de comprar um produto, certifique-se que você leia os rótulos das embalagens adequadamente para verificar se ele contém óleo de rosa mosqueta puro ou de uma mistura de outros óleos essenciais. Leia as instruções de uso recomendadas pelo fabricante, porque alguns produtos requerem lavagem após alguns minutos da aplicação, enquanto que alguns precisam ser mantidos durante a noite.óleo de rosa mosqueta tem um cheiro desagradável e desagradável e muitas pessoas podem não gostar. Se você tem crianças em casa, eles podem ser desligados de você devido ao cheiro. Por isso, certifique-se de que você adicionar uma certa quantidade de óleo essencial aromático, tal como lavanda ou jasmim para travar para baixo o cheiro.[ Ler: Como usar o óleo de abacate para acne? ]Considerações ao usar o Óleo de Rosa Mosqueta\"'}, {'role': 'assistant', 'content': 'Pergunta 1: Quais tratamentos para acne?\\nPergunta 2: Como é possível evitar o forte cheiro da rosa mosqueta no tratamento de pele?'}, {'role': 'user', 'content': 'Passagem: \"5.TERMO DE GARANTIA5.1.O QUE É ATENDIMENTO EM GARANTIA?São os serviços prestados aos produtos que apresentarem defeitos provenientes de falhasde material, fabricação ou montagem na linha de produção, e que após Análise TécnicaCONCLUSIVA DA FÁBRICA tenha revelado este enquadramento e que tenha comprovaçãoobrigatória dos prazos (Nota Fiscal de Venda ao consumidor).20f5.2. QUAIS SÃO OS PRAZOS PARA O ATENDIMENTO EM GARANTIA?Produtos Completos - 24 mesesPeças de Reposição - 90 diasA Garantia inicia-se a partir da data de emissão da Nota Fiscal de Venda do produto aoconsumidor final. (Caso o consumidor não tenha como comprovar a Data da Comprapassará a ser considerada a Data de Fabricação do produto).ATENÇÃO: Quando o prazo de Garantia estiver vencido, mas dentro domês vigente, o atendimento será feito em Garantia.5.3.COMO OBTER O ATENDIMENTO EM GARANTIA?É imprescindível primeiramente verificar se todos os procedimentos constantes no manualde instruções do produto foram executados. Visto que a não observação destesprocedimentos pode acarretar em perda de garantia.Caso os procedimentos indicados no manual não resolva o problema, o consumidordeverá entrar em contato com a revenda que foi realizada a venda, ou diretamente com\"'}]\n",
      "\n",
      "\n",
      "Pergunta 1: O que é atendimento em garantia?\n",
      "Pergunta 2: Qual é o prazo de garantia para peças de reposição?\n",
      "\n",
      "LLM passage queries creation duration: 1.4899742603302002; cost: 0.0012765\n",
      "\n",
      "\n"
     ]
    }
   ],
   "source": [
    "for passage_count in range(NUMBER_OF_REFERENCE_PASSAGES):\n",
    "    passage = passages_df.iloc[available_passages[passage_count]]\n",
    "    \n",
    "    query_creation_result = execute_LLM_query_creation(passage['text'])\n",
    "    query_creation_result['clueweb_id'] = index_translator[index_translator['colbertx_id'] == passage['colbertx_id']]['clueweb_id'].to_numpy()[0]\n",
    "    \n",
    "    train_queries.append(query_creation_result)"
   ]
  },
  {
   "cell_type": "markdown",
   "id": "89642432",
   "metadata": {},
   "source": [
    "## Now check the queries quality"
   ]
  },
  {
   "cell_type": "markdown",
   "id": "68853652",
   "metadata": {},
   "source": [
    "### Create the BM25 searcher"
   ]
  },
  {
   "cell_type": "code",
   "execution_count": 18,
   "id": "53f3b160",
   "metadata": {},
   "outputs": [],
   "source": [
    "BM25_searcher = LuceneSearcher(BM25_INDEX_FOLDER)\n",
    "analyzer = get_lucene_analyzer(\"pt\")\n",
    "\n",
    "BM25_searcher.set_analyzer(analyzer)"
   ]
  },
  {
   "cell_type": "markdown",
   "id": "ed5fce0a",
   "metadata": {},
   "source": [
    "### Loop through the generated questions and retrieve the related passages"
   ]
  },
  {
   "cell_type": "code",
   "execution_count": 20,
   "id": "739499da",
   "metadata": {
    "scrolled": false
   },
   "outputs": [
    {
     "name": "stdout",
     "output_type": "stream",
     "text": [
      "---------------------\n",
      "Query: O que é o SIGAA?\n",
      "-- position: None\n",
      "\n",
      "Query: Como um candidato estrangeiro pode acessar a área do candidato no SIGAA?\n",
      "-- position: 1\n",
      "\n",
      "---------------------\n",
      "Query: Qual é o valor do capital social em 31 de dezembro de 2020?\n",
      "-- position: 0\n",
      "\n",
      "Query: Quais são as receitas financeiras apresentadas na nota 12?\n",
      "-- position: 16\n",
      "\n",
      "---------------------\n",
      "Query: Como é possível cancelar a matrícula de um carro em Portugal?\n",
      "-- position: 2\n",
      "\n",
      "Query: É necessário pagar o IUC após o cancelamento da matrícula por motivo de exportação?\n",
      "-- position: 0\n",
      "\n",
      "---------------------\n",
      "Query: Qual é a opinião do autor sobre o significado de um texto?\n",
      "-- position: None\n",
      "\n",
      "Query: Qual é a obra de maior destaque de Monteiro Lobato?\n",
      "-- position: 536\n",
      "\n",
      "---------------------\n",
      "Query: Qual é o preço do Encateirador com rodas?\n",
      "-- position: 0\n",
      "\n",
      "Query: O micro trator KAWASHIMA ZT15 tem tomada de força?\n",
      "-- position: 0\n",
      "\n",
      "---------------------\n",
      "Query: Qual foi o motivo da festa de outono mencionada na passagem?\n",
      "-- position: 255\n",
      "\n",
      "Query: Quais foram as atividades realizadas durante o Sarau mencionado na passagem?\n",
      "-- position: None\n",
      "\n",
      "---------------------\n",
      "Query: Qual é a opção incorreta sobre o Ministério Público?\n",
      "-- position: 1\n",
      "\n",
      "Query: Por que a confissão do acusado na ausência de advogado deve ser considerada prova ilícita na fase do inquérito policial?\n",
      "-- position: 1\n",
      "\n",
      "---------------------\n",
      "Query: Qual é o produto anunciado na passagem?\n",
      "-- position: None\n",
      "\n",
      "Query: Quais são as opções de jogos de cama disponíveis para venda?\n",
      "-- position: None\n",
      "\n",
      "---------------------\n",
      "Query: Quais são os sintomas da candidíase?\n",
      "-- position: 228\n",
      "\n",
      "Query: Como é possível aliviar a coceira causada pela candidíase?\n",
      "-- position: 87\n",
      "\n",
      "---------------------\n",
      "Query: O que é atendimento em garantia?\n",
      "-- position: 1\n",
      "\n",
      "Query: Qual é o prazo de garantia para peças de reposição?\n",
      "-- position: 89\n",
      "\n"
     ]
    }
   ],
   "source": [
    "for query in train_queries:\n",
    "    \n",
    "    print(\"---------------------\")\n",
    "    \n",
    "    for which_question in ['question_theme', 'question_specific']:\n",
    "        document_hits = BM25_searcher.search(query[which_question], k=1000)     \n",
    "        \n",
    "        position_found = None\n",
    "        \n",
    "        for j, document in enumerate(document_hits):\n",
    "            document_dict = json.loads(document.raw)\n",
    "\n",
    "#             print(\"id: {}, score: {}\".format(document_dict['id'], document.score))\n",
    "            \n",
    "            if document_dict['id'] == query['clueweb_id']:\n",
    "                position_found = j\n",
    "                \n",
    "                break\n",
    "                \n",
    "        print(\"Query: {}\\n-- position: {}\\n\".format(query[which_question], position_found))"
   ]
  },
  {
   "cell_type": "code",
   "execution_count": null,
   "id": "184c4728",
   "metadata": {},
   "outputs": [],
   "source": []
  },
  {
   "cell_type": "code",
   "execution_count": null,
   "id": "7671d4ec",
   "metadata": {},
   "outputs": [],
   "source": []
  }
 ],
 "metadata": {
  "kernelspec": {
   "display_name": "Python 3",
   "language": "python",
   "name": "python3"
  },
  "language_info": {
   "codemirror_mode": {
    "name": "ipython",
    "version": 3
   },
   "file_extension": ".py",
   "mimetype": "text/x-python",
   "name": "python",
   "nbconvert_exporter": "python",
   "pygments_lexer": "ipython3",
   "version": "3.8.16"
  }
 },
 "nbformat": 4,
 "nbformat_minor": 5
}
